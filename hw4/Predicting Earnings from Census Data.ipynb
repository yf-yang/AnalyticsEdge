{
 "cells": [
  {
   "cell_type": "code",
   "execution_count": 49,
   "metadata": {},
   "outputs": [],
   "source": [
    "library(caTools)\n",
    "census = read.csv(\"census.csv\")\n",
    "set.seed(2000)\n",
    "spl = sample.split(census$over50k, SplitRatio = 0.6)\n",
    "train = subset(census, spl==TRUE)\n",
    "test = subset(census, spl==FALSE)"
   ]
  },
  {
   "cell_type": "code",
   "execution_count": 2,
   "metadata": {},
   "outputs": [
    {
     "data": {
      "text/plain": [
       "      age                    workclass             education   \n",
       " Min.   :17.00    Private         :12017    HS-grad     :5553  \n",
       " 1st Qu.:28.00    Self-emp-not-inc: 1307    Some-college:3857  \n",
       " Median :37.00    Local-gov       : 1110    Bachelors   :2858  \n",
       " Mean   :38.58    ?               : 1001    Masters     : 908  \n",
       " 3rd Qu.:48.00    State-gov       :  701    Assoc-voc   : 762  \n",
       " Max.   :90.00    Self-emp-inc    :  584    11th        : 638  \n",
       "                 (Other)          :  498   (Other)      :2642  \n",
       "                maritalstatus             occupation            relationship \n",
       "  Divorced             :2374    Exec-managerial:2177    Husband       :6969  \n",
       "  Married-AF-spouse    :  15    Prof-specialty :2171    Not-in-family :4383  \n",
       "  Married-civ-spouse   :7903    Craft-repair   :2144    Other-relative: 515  \n",
       "  Married-spouse-absent: 223    Adm-clerical   :1975    Own-child     :2695  \n",
       "  Never-married        :5609    Sales          :1939    Unmarried     :1830  \n",
       "  Separated            : 558    Other-service  :1728    Wife          : 826  \n",
       "  Widowed              : 536   (Other)         :5084                         \n",
       "                  race            sex         capitalgain     \n",
       "  Amer-Indian-Eskimo:  180    Female: 5732   Min.   :    0.0  \n",
       "  Asian-Pac-Islander:  511    Male  :11486   1st Qu.:    0.0  \n",
       "  Black             : 1659                   Median :    0.0  \n",
       "  Other             :  133                   Mean   :  971.3  \n",
       "  White             :14735                   3rd Qu.:    0.0  \n",
       "                                             Max.   :99999.0  \n",
       "                                                              \n",
       "  capitalloss       hoursperweek          nativecountry     over50k     \n",
       " Min.   :   0.00   Min.   : 1.00    United-States:15691    <=50K:13085  \n",
       " 1st Qu.:   0.00   1st Qu.:40.00    Mexico       :  354    >50K : 4133  \n",
       " Median :   0.00   Median :40.00    Philippines  :  111                 \n",
       " Mean   :  88.88   Mean   :40.34    Germany      :   71                 \n",
       " 3rd Qu.:   0.00   3rd Qu.:45.00    Canada       :   70                 \n",
       " Max.   :4356.00   Max.   :99.00    Puerto-Rico  :   70                 \n",
       "                                   (Other)       :  851                 "
      ]
     },
     "metadata": {},
     "output_type": "display_data"
    }
   ],
   "source": [
    "summary(train)"
   ]
  },
  {
   "cell_type": "code",
   "execution_count": 3,
   "metadata": {},
   "outputs": [
    {
     "name": "stderr",
     "output_type": "stream",
     "text": [
      "Warning message:\n",
      "“glm.fit: fitted probabilities numerically 0 or 1 occurred”"
     ]
    },
    {
     "data": {
      "text/plain": [
       "\n",
       "Call:\n",
       "glm(formula = over50k ~ ., family = binomial, data = train)\n",
       "\n",
       "Deviance Residuals: \n",
       "    Min       1Q   Median       3Q      Max  \n",
       "-3.2341  -0.5045  -0.1821  -0.0004   3.4323  \n",
       "\n",
       "Coefficients: (1 not defined because of singularities)\n",
       "                                           Estimate Std. Error z value Pr(>|z|)\n",
       "(Intercept)                              -7.664e+00  1.113e+00  -6.887 5.71e-12\n",
       "age                                       2.441e-02  2.280e-03  10.708  < 2e-16\n",
       "workclass Federal-gov                     1.146e+00  2.124e-01   5.397 6.80e-08\n",
       "workclass Local-gov                       5.010e-01  1.925e-01   2.603 0.009239\n",
       "workclass Never-worked                   -1.045e+01  1.142e+03  -0.009 0.992699\n",
       "workclass Private                         7.582e-01  1.712e-01   4.428 9.51e-06\n",
       "workclass Self-emp-inc                    9.394e-01  2.051e-01   4.580 4.64e-06\n",
       "workclass Self-emp-not-inc                4.050e-01  1.881e-01   2.153 0.031304\n",
       "workclass State-gov                       3.424e-01  2.083e-01   1.644 0.100219\n",
       "workclass Without-pay                    -1.467e+01  1.021e+03  -0.014 0.988539\n",
       "education 11th                            2.531e-01  2.803e-01   0.903 0.366515\n",
       "education 12th                            6.638e-01  3.706e-01   1.791 0.073302\n",
       "education 1st-4th                         1.068e-01  5.348e-01   0.200 0.841789\n",
       "education 5th-6th                        -3.110e-01  4.405e-01  -0.706 0.480196\n",
       "education 7th-8th                        -5.183e-01  3.295e-01  -1.573 0.115707\n",
       "education 9th                            -2.076e-01  3.675e-01  -0.565 0.572081\n",
       "education Assoc-acdm                      1.318e+00  2.445e-01   5.392 6.97e-08\n",
       "education Assoc-voc                       1.382e+00  2.334e-01   5.922 3.19e-09\n",
       "education Bachelors                       1.896e+00  2.186e-01   8.675  < 2e-16\n",
       "education Doctorate                       3.001e+00  3.059e-01   9.807  < 2e-16\n",
       "education HS-grad                         7.471e-01  2.126e-01   3.514 0.000442\n",
       "education Masters                         2.379e+00  2.337e-01  10.180  < 2e-16\n",
       "education Preschool                      -1.342e+01  3.729e+02  -0.036 0.971291\n",
       "education Prof-school                     2.705e+00  2.786e-01   9.711  < 2e-16\n",
       "education Some-college                    1.142e+00  2.157e-01   5.295 1.19e-07\n",
       "maritalstatus Married-AF-spouse           2.516e+00  7.102e-01   3.543 0.000396\n",
       "maritalstatus Married-civ-spouse          1.634e+00  3.758e-01   4.347 1.38e-05\n",
       "maritalstatus Married-spouse-absent      -1.676e-02  3.341e-01  -0.050 0.959996\n",
       "maritalstatus Never-married              -5.405e-01  1.214e-01  -4.453 8.46e-06\n",
       "maritalstatus Separated                   3.667e-02  2.117e-01   0.173 0.862463\n",
       "maritalstatus Widowed                     2.131e-01  2.103e-01   1.014 0.310724\n",
       "occupation Adm-clerical                   1.861e-01  1.345e-01   1.384 0.166449\n",
       "occupation Armed-Forces                   1.896e-01  2.462e+00   0.077 0.938623\n",
       "occupation Craft-repair                   6.655e-02  1.155e-01   0.576 0.564365\n",
       "occupation Exec-managerial                8.451e-01  1.182e-01   7.152 8.58e-13\n",
       "occupation Farming-fishing               -1.142e+00  2.018e-01  -5.657 1.54e-08\n",
       "occupation Handlers-cleaners             -3.591e-01  1.912e-01  -1.878 0.060425\n",
       "occupation Machine-op-inspct             -3.376e-01  1.466e-01  -2.303 0.021259\n",
       "occupation Other-service                 -7.553e-01  1.703e-01  -4.436 9.17e-06\n",
       "occupation Priv-house-serv               -1.399e+01  2.355e+02  -0.059 0.952642\n",
       "occupation Prof-specialty                 6.005e-01  1.273e-01   4.719 2.37e-06\n",
       "occupation Protective-serv                5.804e-01  1.791e-01   3.241 0.001193\n",
       "occupation Sales                          3.481e-01  1.219e-01   2.856 0.004287\n",
       "occupation Tech-support                   7.864e-01  1.624e-01   4.841 1.29e-06\n",
       "occupation Transport-moving                      NA         NA      NA       NA\n",
       "relationship Not-in-family               -5.759e-02  3.717e-01  -0.155 0.876859\n",
       "relationship Other-relative              -5.340e-01  3.618e-01  -1.476 0.139997\n",
       "relationship Own-child                   -1.143e+00  3.750e-01  -3.047 0.002311\n",
       "relationship Unmarried                   -3.075e-02  3.920e-01  -0.078 0.937463\n",
       "relationship Wife                         1.430e+00  1.421e-01  10.060  < 2e-16\n",
       "race Asian-Pac-Islander                   5.445e-01  3.699e-01   1.472 0.141010\n",
       "race Black                                3.823e-01  3.022e-01   1.265 0.205739\n",
       "race Other                               -3.414e-01  5.419e-01  -0.630 0.528685\n",
       "race White                                4.846e-01  2.868e-01   1.689 0.091126\n",
       "sex Male                                  9.201e-01  1.106e-01   8.319  < 2e-16\n",
       "capitalgain                               3.174e-04  1.411e-05  22.495  < 2e-16\n",
       "capitalloss                               6.576e-04  5.086e-05  12.928  < 2e-16\n",
       "hoursperweek                              3.147e-02  2.292e-03  13.731  < 2e-16\n",
       "nativecountry Canada                     -6.064e-01  1.025e+00  -0.592 0.554043\n",
       "nativecountry China                      -7.185e-01  1.036e+00  -0.693 0.488143\n",
       "nativecountry Columbia                   -1.508e+01  3.535e+02  -0.043 0.965978\n",
       "nativecountry Cuba                       -4.035e-01  1.054e+00  -0.383 0.701703\n",
       "nativecountry Dominican-Republic         -1.432e+01  3.071e+02  -0.047 0.962804\n",
       "nativecountry Ecuador                    -1.432e+00  1.504e+00  -0.952 0.341034\n",
       "nativecountry El-Salvador                -7.012e-01  1.088e+00  -0.644 0.519391\n",
       "nativecountry England                    -5.571e-01  1.040e+00  -0.536 0.591976\n",
       "nativecountry France                     -7.792e-01  1.157e+00  -0.673 0.500635\n",
       "nativecountry Germany                    -4.665e-01  1.025e+00  -0.455 0.648923\n",
       "nativecountry Greece                     -1.905e+00  1.243e+00  -1.532 0.125550\n",
       "nativecountry Guatemala                  -1.808e-01  1.245e+00  -0.145 0.884548\n",
       "nativecountry Haiti                      -1.042e+00  1.368e+00  -0.762 0.446179\n",
       "nativecountry Holand-Netherlands         -1.337e+01  2.400e+03  -0.006 0.995556\n",
       "nativecountry Honduras                   -1.664e+00  2.878e+00  -0.578 0.563126\n",
       "nativecountry Hong                       -8.631e-01  1.409e+00  -0.613 0.540203\n",
       "nativecountry Hungary                    -1.570e+01  1.055e+03  -0.015 0.988129\n",
       "nativecountry India                      -6.194e-01  1.008e+00  -0.615 0.538763\n",
       "nativecountry Iran                       -4.890e-01  1.068e+00  -0.458 0.647125\n",
       "nativecountry Ireland                    -4.670e-01  1.330e+00  -0.351 0.725511\n",
       "nativecountry Italy                      -1.129e-01  1.049e+00  -0.108 0.914240\n",
       "nativecountry Jamaica                    -1.283e+00  1.176e+00  -1.091 0.275138\n",
       "nativecountry Japan                       8.014e-01  1.154e+00   0.695 0.487330\n",
       "nativecountry Laos                       -2.924e-01  1.338e+00  -0.219 0.827011\n",
       "nativecountry Mexico                     -9.220e-01  9.918e-01  -0.930 0.352555\n",
       "nativecountry Nicaragua                  -7.002e-01  1.255e+00  -0.558 0.577043\n",
       "nativecountry Outlying-US(Guam-USVI-etc) -1.493e+01  7.206e+02  -0.021 0.983471\n",
       "nativecountry Peru                       -1.030e+00  1.484e+00  -0.694 0.487837\n",
       "nativecountry Philippines                -2.038e-01  9.693e-01  -0.210 0.833484\n",
       "nativecountry Poland                     -2.266e-01  1.078e+00  -0.210 0.833514\n",
       "nativecountry Portugal                   -6.948e-01  1.246e+00  -0.558 0.577074\n",
       "nativecountry Puerto-Rico                -9.917e-01  1.081e+00  -0.917 0.358947\n",
       "nativecountry Scotland                   -2.842e-01  1.360e+00  -0.209 0.834483\n",
       "nativecountry South                      -1.378e+00  1.065e+00  -1.294 0.195586\n",
       "nativecountry Taiwan                     -7.401e-02  1.087e+00  -0.068 0.945702\n",
       "nativecountry Thailand                   -7.377e-01  1.363e+00  -0.541 0.588380\n",
       "nativecountry Trinadad&Tobago            -1.615e+00  1.523e+00  -1.060 0.289025\n",
       "nativecountry United-States              -4.132e-01  9.544e-01  -0.433 0.665073\n",
       "nativecountry Vietnam                    -1.556e+01  3.174e+02  -0.049 0.960907\n",
       "nativecountry Yugoslavia                  1.364e+00  1.320e+00   1.033 0.301406\n",
       "                                            \n",
       "(Intercept)                              ***\n",
       "age                                      ***\n",
       "workclass Federal-gov                    ***\n",
       "workclass Local-gov                      ** \n",
       "workclass Never-worked                      \n",
       "workclass Private                        ***\n",
       "workclass Self-emp-inc                   ***\n",
       "workclass Self-emp-not-inc               *  \n",
       "workclass State-gov                         \n",
       "workclass Without-pay                       \n",
       "education 11th                              \n",
       "education 12th                           .  \n",
       "education 1st-4th                           \n",
       "education 5th-6th                           \n",
       "education 7th-8th                           \n",
       "education 9th                               \n",
       "education Assoc-acdm                     ***\n",
       "education Assoc-voc                      ***\n",
       "education Bachelors                      ***\n",
       "education Doctorate                      ***\n",
       "education HS-grad                        ***\n",
       "education Masters                        ***\n",
       "education Preschool                         \n",
       "education Prof-school                    ***\n",
       "education Some-college                   ***\n",
       "maritalstatus Married-AF-spouse          ***\n",
       "maritalstatus Married-civ-spouse         ***\n",
       "maritalstatus Married-spouse-absent         \n",
       "maritalstatus Never-married              ***\n",
       "maritalstatus Separated                     \n",
       "maritalstatus Widowed                       \n",
       "occupation Adm-clerical                     \n",
       "occupation Armed-Forces                     \n",
       "occupation Craft-repair                     \n",
       "occupation Exec-managerial               ***\n",
       "occupation Farming-fishing               ***\n",
       "occupation Handlers-cleaners             .  \n",
       "occupation Machine-op-inspct             *  \n",
       "occupation Other-service                 ***\n",
       "occupation Priv-house-serv                  \n",
       "occupation Prof-specialty                ***\n",
       "occupation Protective-serv               ** \n",
       "occupation Sales                         ** \n",
       "occupation Tech-support                  ***\n",
       "occupation Transport-moving                 \n",
       "relationship Not-in-family                  \n",
       "relationship Other-relative                 \n",
       "relationship Own-child                   ** \n",
       "relationship Unmarried                      \n",
       "relationship Wife                        ***\n",
       "race Asian-Pac-Islander                     \n",
       "race Black                                  \n",
       "race Other                                  \n",
       "race White                               .  \n",
       "sex Male                                 ***\n",
       "capitalgain                              ***\n",
       "capitalloss                              ***\n",
       "hoursperweek                             ***\n",
       "nativecountry Canada                        \n",
       "nativecountry China                         \n",
       "nativecountry Columbia                      \n",
       "nativecountry Cuba                          \n",
       "nativecountry Dominican-Republic            \n",
       "nativecountry Ecuador                       \n",
       "nativecountry El-Salvador                   \n",
       "nativecountry England                       \n",
       "nativecountry France                        \n",
       "nativecountry Germany                       \n",
       "nativecountry Greece                        \n",
       "nativecountry Guatemala                     \n",
       "nativecountry Haiti                         \n",
       "nativecountry Holand-Netherlands            \n",
       "nativecountry Honduras                      \n",
       "nativecountry Hong                          \n",
       "nativecountry Hungary                       \n",
       "nativecountry India                         \n",
       "nativecountry Iran                          \n",
       "nativecountry Ireland                       \n",
       "nativecountry Italy                         \n",
       "nativecountry Jamaica                       \n",
       "nativecountry Japan                         \n",
       "nativecountry Laos                          \n",
       "nativecountry Mexico                        \n",
       "nativecountry Nicaragua                     \n",
       "nativecountry Outlying-US(Guam-USVI-etc)    \n",
       "nativecountry Peru                          \n",
       "nativecountry Philippines                   \n",
       "nativecountry Poland                        \n",
       "nativecountry Portugal                      \n",
       "nativecountry Puerto-Rico                   \n",
       "nativecountry Scotland                      \n",
       "nativecountry South                         \n",
       "nativecountry Taiwan                        \n",
       "nativecountry Thailand                      \n",
       "nativecountry Trinadad&Tobago               \n",
       "nativecountry United-States                 \n",
       "nativecountry Vietnam                       \n",
       "nativecountry Yugoslavia                    \n",
       "---\n",
       "Signif. codes:  0 ‘***’ 0.001 ‘**’ 0.01 ‘*’ 0.05 ‘.’ 0.1 ‘ ’ 1\n",
       "\n",
       "(Dispersion parameter for binomial family taken to be 1)\n",
       "\n",
       "    Null deviance: 18979  on 17217  degrees of freedom\n",
       "Residual deviance: 10834  on 17121  degrees of freedom\n",
       "AIC: 11028\n",
       "\n",
       "Number of Fisher Scoring iterations: 15\n"
      ]
     },
     "metadata": {},
     "output_type": "display_data"
    }
   ],
   "source": [
    "logit = glm(over50k ~ ., data = train, family=binomial)\n",
    "summary(logit)"
   ]
  },
  {
   "cell_type": "code",
   "execution_count": 4,
   "metadata": {},
   "outputs": [
    {
     "name": "stderr",
     "output_type": "stream",
     "text": [
      "Warning message in predict.lm(object, newdata, se.fit, scale = 1, type = ifelse(type == :\n",
      "“prediction from a rank-deficient fit may be misleading”"
     ]
    },
    {
     "data": {
      "text/plain": [
       "       \n",
       "         <=50K  >50K\n",
       "  FALSE  10421  1439\n",
       "  TRUE     777  2123"
      ]
     },
     "metadata": {},
     "output_type": "display_data"
    }
   ],
   "source": [
    "predictLogit = predict(logit, type=\"response\", newdata = test)\n",
    "table(predictLogit > 0.5, test$over50k)"
   ]
  },
  {
   "cell_type": "code",
   "execution_count": 5,
   "metadata": {},
   "outputs": [
    {
     "data": {
      "text/html": [
       "0.849864498644986"
      ],
      "text/latex": [
       "0.849864498644986"
      ],
      "text/markdown": [
       "0.849864498644986"
      ],
      "text/plain": [
       "[1] 0.8498645"
      ]
     },
     "metadata": {},
     "output_type": "display_data"
    }
   ],
   "source": [
    "(10421 + 2123) / nrow(test)"
   ]
  },
  {
   "cell_type": "code",
   "execution_count": 6,
   "metadata": {},
   "outputs": [
    {
     "data": {
      "text/plain": [
       "\n",
       " <=50K   >50K \n",
       " 11198   3562 "
      ]
     },
     "metadata": {},
     "output_type": "display_data"
    }
   ],
   "source": [
    "table(test$over50k)"
   ]
  },
  {
   "cell_type": "code",
   "execution_count": 7,
   "metadata": {},
   "outputs": [
    {
     "data": {
      "text/html": [
       "0.758672086720867"
      ],
      "text/latex": [
       "0.758672086720867"
      ],
      "text/markdown": [
       "0.758672086720867"
      ],
      "text/plain": [
       "[1] 0.7586721"
      ]
     },
     "metadata": {},
     "output_type": "display_data"
    }
   ],
   "source": [
    "11198 / nrow(test)"
   ]
  },
  {
   "cell_type": "code",
   "execution_count": 8,
   "metadata": {},
   "outputs": [
    {
     "name": "stderr",
     "output_type": "stream",
     "text": [
      "Loading required package: gplots\n",
      "\n",
      "Attaching package: ‘gplots’\n",
      "\n",
      "The following object is masked from ‘package:stats’:\n",
      "\n",
      "    lowess\n",
      "\n"
     ]
    },
    {
     "data": {
      "text/html": [
       "0.904943433590169"
      ],
      "text/latex": [
       "0.904943433590169"
      ],
      "text/markdown": [
       "0.904943433590169"
      ],
      "text/plain": [
       "[1] 0.9049434"
      ]
     },
     "metadata": {},
     "output_type": "display_data"
    }
   ],
   "source": [
    "library(ROCR)\n",
    "ROCRResult = prediction(predictLogit, test$over50k)\n",
    "as.numeric(performance(ROCRResult, \"auc\")@y.values)"
   ]
  },
  {
   "cell_type": "code",
   "execution_count": 9,
   "metadata": {},
   "outputs": [],
   "source": [
    "library(rpart)\n",
    "library(rpart.plot)"
   ]
  },
  {
   "cell_type": "code",
   "execution_count": 10,
   "metadata": {},
   "outputs": [
    {
     "data": {
      "image/png": "[encoded data removed]",
      "text/plain": [
       "plot without title"
      ]
     },
     "metadata": {},
     "output_type": "display_data"
    }
   ],
   "source": [
    "CART = rpart(over50k ~ ., data = train, method=\"class\")\n",
    "prp(CART)"
   ]
  },
  {
   "cell_type": "code",
   "execution_count": 11,
   "metadata": {},
   "outputs": [
    {
     "data": {
      "text/plain": [
       "           \n",
       "PredictCART  <=50K  >50K\n",
       "      <=50K  10531  1672\n",
       "      >50K     667  1890"
      ]
     },
     "metadata": {},
     "output_type": "display_data"
    }
   ],
   "source": [
    "PredictCART = predict(CART, newdata = test, type = \"class\")\n",
    "table(PredictCART, test$over50k)"
   ]
  },
  {
   "cell_type": "code",
   "execution_count": 12,
   "metadata": {},
   "outputs": [
    {
     "data": {
      "text/html": [
       "0.841531165311653"
      ],
      "text/latex": [
       "0.841531165311653"
      ],
      "text/markdown": [
       "0.841531165311653"
      ],
      "text/plain": [
       "[1] 0.8415312"
      ]
     },
     "metadata": {},
     "output_type": "display_data"
    }
   ],
   "source": [
    "(10531 + 1890) / nrow(test)"
   ]
  },
  {
   "cell_type": "code",
   "execution_count": 13,
   "metadata": {},
   "outputs": [],
   "source": [
    "PredictCART = predict(CART, newdata = test)[,2]"
   ]
  },
  {
   "cell_type": "code",
   "execution_count": 14,
   "metadata": {
    "scrolled": true
   },
   "outputs": [
    {
     "data": {
      "text/html": [
       "0.842168953828785"
      ],
      "text/latex": [
       "0.842168953828785"
      ],
      "text/markdown": [
       "0.842168953828785"
      ],
      "text/plain": [
       "[1] 0.842169"
      ]
     },
     "metadata": {},
     "output_type": "display_data"
    }
   ],
   "source": [
    "as.numeric(performance(prediction(PredictCART, test$over50k),\"auc\")@y.values)"
   ]
  },
  {
   "cell_type": "code",
   "execution_count": 15,
   "metadata": {},
   "outputs": [
    {
     "name": "stderr",
     "output_type": "stream",
     "text": [
      "randomForest 4.6-14\n",
      "Type rfNews() to see new features/changes/bug fixes.\n"
     ]
    }
   ],
   "source": [
    "library(randomForest)"
   ]
  },
  {
   "cell_type": "code",
   "execution_count": 16,
   "metadata": {},
   "outputs": [],
   "source": [
    "set.seed(1)\n",
    "trainSmall = train[sample(nrow(train), 2000), ]\n",
    "set.seed(1)\n",
    "ForestModel = randomForest(over50k ~ ., data = trainSmall)"
   ]
  },
  {
   "cell_type": "code",
   "execution_count": 17,
   "metadata": {},
   "outputs": [],
   "source": [
    "PredictForest = predict(ForestModel, newdata = test)"
   ]
  },
  {
   "cell_type": "code",
   "execution_count": 18,
   "metadata": {},
   "outputs": [
    {
     "data": {
      "text/plain": [
       "             \n",
       "PredictForest  <=50K  >50K\n",
       "        <=50K  10260  1306\n",
       "        >50K     938  2256"
      ]
     },
     "metadata": {},
     "output_type": "display_data"
    }
   ],
   "source": [
    "table(PredictForest, test$over50k)"
   ]
  },
  {
   "cell_type": "code",
   "execution_count": 19,
   "metadata": {},
   "outputs": [
    {
     "data": {
      "text/html": [
       "0.847967479674797"
      ],
      "text/latex": [
       "0.847967479674797"
      ],
      "text/markdown": [
       "0.847967479674797"
      ],
      "text/plain": [
       "[1] 0.8479675"
      ]
     },
     "metadata": {},
     "output_type": "display_data"
    }
   ],
   "source": [
    "(10260 + 2256) / nrow(test)"
   ]
  },
  {
   "cell_type": "code",
   "execution_count": 20,
   "metadata": {},
   "outputs": [
    {
     "data": {
      "image/png": "[encoded data removed]",
      "text/plain": [
       "plot without title"
      ]
     },
     "metadata": {},
     "output_type": "display_data"
    }
   ],
   "source": [
    "vu = varUsed(ForestModel, count=TRUE)\n",
    "\n",
    "vusorted = sort(vu, decreasing = FALSE, index.return = TRUE)\n",
    "\n",
    "dotchart(vusorted$x, names(ForestModel$forest$xlevels[vusorted$ix]))"
   ]
  },
  {
   "cell_type": "code",
   "execution_count": 21,
   "metadata": {},
   "outputs": [
    {
     "data": {
      "image/png": "[encoded data removed]",
      "text/plain": [
       "Plot with title “ForestModel”"
      ]
     },
     "metadata": {},
     "output_type": "display_data"
    }
   ],
   "source": [
    "varImpPlot(ForestModel)"
   ]
  },
  {
   "cell_type": "code",
   "execution_count": 22,
   "metadata": {},
   "outputs": [
    {
     "name": "stderr",
     "output_type": "stream",
     "text": [
      "Loading required package: lattice\n",
      "Loading required package: ggplot2\n",
      "\n",
      "Attaching package: ‘ggplot2’\n",
      "\n",
      "The following object is masked from ‘package:randomForest’:\n",
      "\n",
      "    margin\n",
      "\n",
      "Warning message:\n",
      "“replacing previous import by ‘plyr::ddply’ when loading ‘caret’”Warning message:\n",
      "“replacing previous import by ‘tibble::as_tibble’ when loading ‘broom’”Warning message:\n",
      "“replacing previous import by ‘tibble::tibble’ when loading ‘broom’”Warning message:\n",
      "“replacing previous import by ‘rlang::!!’ when loading ‘recipes’”Warning message:\n",
      "“replacing previous import by ‘rlang::expr’ when loading ‘recipes’”Warning message:\n",
      "“replacing previous import by ‘rlang::f_lhs’ when loading ‘recipes’”Warning message:\n",
      "“replacing previous import by ‘rlang::f_rhs’ when loading ‘recipes’”Warning message:\n",
      "“replacing previous import by ‘rlang::invoke’ when loading ‘recipes’”Warning message:\n",
      "“replacing previous import by ‘rlang::is_empty’ when loading ‘recipes’”Warning message:\n",
      "“replacing previous import by ‘rlang::lang’ when loading ‘recipes’”Warning message:\n",
      "“replacing previous import by ‘rlang::na_dbl’ when loading ‘recipes’”Warning message:\n",
      "“replacing previous import by ‘rlang::names2’ when loading ‘recipes’”Warning message:\n",
      "“replacing previous import by ‘rlang::quos’ when loading ‘recipes’”Warning message:\n",
      "“replacing previous import by ‘rlang::sym’ when loading ‘recipes’”Warning message:\n",
      "“replacing previous import by ‘rlang::syms’ when loading ‘recipes’”"
     ]
    },
    {
     "data": {
      "text/plain": [
       "CART \n",
       "\n",
       "17218 samples\n",
       "   12 predictors\n",
       "    2 classes: ' <=50K', ' >50K' \n",
       "\n",
       "No pre-processing\n",
       "Resampling: Cross-Validated (10 fold) \n",
       "Summary of sample sizes: 15496, 15496, 15495, 15497, 15496, 15495, ... \n",
       "Resampling results across tuning parameters:\n",
       "\n",
       "  cp     Accuracy   Kappa    \n",
       "  0.002  0.8563712  0.5751312\n",
       "  0.004  0.8535257  0.5651777\n",
       "  0.006  0.8494610  0.5452342\n",
       "  0.008  0.8496353  0.5442658\n",
       "  0.010  0.8478345  0.5426092\n",
       "  0.012  0.8466732  0.5407577\n",
       "  0.014  0.8466152  0.5407737\n",
       "  0.016  0.8466152  0.5407737\n",
       "  0.018  0.8466152  0.5407737\n",
       "  0.020  0.8441764  0.5274339\n",
       "  0.022  0.8433049  0.5199841\n",
       "  0.024  0.8433049  0.5199841\n",
       "  0.026  0.8433049  0.5199841\n",
       "  0.028  0.8433049  0.5199841\n",
       "  0.030  0.8433049  0.5199841\n",
       "  0.032  0.8433049  0.5199841\n",
       "  0.034  0.8433049  0.5199841\n",
       "  0.036  0.8433049  0.5199841\n",
       "  0.038  0.8433049  0.5199841\n",
       "  0.040  0.8392987  0.5046338\n",
       "  0.042  0.8297742  0.4627558\n",
       "  0.044  0.8268707  0.4465884\n",
       "  0.046  0.8262315  0.4427755\n",
       "  0.048  0.8236749  0.4306578\n",
       "  0.050  0.8236749  0.4306578\n",
       "  0.052  0.8215250  0.4164289\n",
       "  0.054  0.8183313  0.3928238\n",
       "  0.056  0.8154849  0.3659267\n",
       "  0.058  0.8129878  0.3367630\n",
       "  0.060  0.8101415  0.2984142\n",
       "  0.062  0.8101415  0.2984142\n",
       "  0.064  0.8101415  0.2984142\n",
       "  0.066  0.8101415  0.2984142\n",
       "  0.068  0.8078754  0.2857376\n",
       "  0.070  0.7683229  0.0514379\n",
       "  0.072  0.7599605  0.0000000\n",
       "  0.074  0.7599605  0.0000000\n",
       "  0.076  0.7599605  0.0000000\n",
       "  0.078  0.7599605  0.0000000\n",
       "  0.080  0.7599605  0.0000000\n",
       "  0.082  0.7599605  0.0000000\n",
       "  0.084  0.7599605  0.0000000\n",
       "  0.086  0.7599605  0.0000000\n",
       "  0.088  0.7599605  0.0000000\n",
       "  0.090  0.7599605  0.0000000\n",
       "  0.092  0.7599605  0.0000000\n",
       "  0.094  0.7599605  0.0000000\n",
       "  0.096  0.7599605  0.0000000\n",
       "  0.098  0.7599605  0.0000000\n",
       "  0.100  0.7599605  0.0000000\n",
       "\n",
       "Accuracy was used to select the optimal model using the largest value.\n",
       "The final value used for the model was cp = 0.002."
      ]
     },
     "metadata": {},
     "output_type": "display_data"
    }
   ],
   "source": [
    "library(caret)\n",
    "library(e1071)\n",
    "set.seed(2)\n",
    "numFolds = trainControl( method = \"cv\", number = 10 )\n",
    "cpGrid = expand.grid( .cp = seq(0.002,0.1,0.002)) \n",
    "train(over50k ~ ., data = train, method = \"rpart\", trControl = numFolds, tuneGrid = cpGrid )"
   ]
  },
  {
   "cell_type": "code",
   "execution_count": 50,
   "metadata": {},
   "outputs": [
    {
     "data": {
      "text/plain": [
       "        \n",
       "          <=50K  >50K\n",
       "   <=50K   9178  1240\n",
       "   >50K     535  1838"
      ]
     },
     "metadata": {},
     "output_type": "display_data"
    }
   ],
   "source": [
    "set.seed(2)\n",
    "bestCART = rpart(over50k ~ . , data = train, method=\"class\", cp = .002)\n",
    "table(predict(bestCART, newdata = test, type = \"class\"), test$over50k)"
   ]
  },
  {
   "cell_type": "code",
   "execution_count": 26,
   "metadata": {},
   "outputs": [
    {
     "data": {
      "text/html": [
       "0.855758807588076"
      ],
      "text/latex": [
       "0.855758807588076"
      ],
      "text/markdown": [
       "0.855758807588076"
      ],
      "text/plain": [
       "[1] 0.8557588"
      ]
     },
     "metadata": {},
     "output_type": "display_data"
    }
   ],
   "source": [
    "(10515 + 2116) / nrow(test)"
   ]
  },
  {
   "cell_type": "code",
   "execution_count": 51,
   "metadata": {},
   "outputs": [
    {
     "data": {
      "image/png": "[encoded data removed]",
      "text/plain": [
       "plot without title"
      ]
     },
     "metadata": {},
     "output_type": "display_data"
    }
   ],
   "source": [
    "prp(bestCART)"
   ]
  },
  {
   "cell_type": "code",
   "execution_count": 44,
   "metadata": {},
   "outputs": [
    {
     "data": {
      "text/html": [
       "12791"
      ],
      "text/latex": [
       "12791"
      ],
      "text/markdown": [
       "12791"
      ],
      "text/plain": [
       "[1] 12791"
      ]
     },
     "metadata": {},
     "output_type": "display_data"
    }
   ],
   "source": [
    "9178+535+1240+1838"
   ]
  },
  {
   "cell_type": "code",
   "execution_count": 45,
   "metadata": {},
   "outputs": [
    {
     "data": {
      "text/html": [
       "14760"
      ],
      "text/latex": [
       "14760"
      ],
      "text/markdown": [
       "14760"
      ],
      "text/plain": [
       "[1] 14760"
      ]
     },
     "metadata": {},
     "output_type": "display_data"
    }
   ],
   "source": [
    "nrow(test)"
   ]
  },
  {
   "cell_type": "code",
   "execution_count": 47,
   "metadata": {},
   "outputs": [
    {
     "data": {
      "text/html": [
       "1.15393636150418"
      ],
      "text/latex": [
       "1.15393636150418"
      ],
      "text/markdown": [
       "1.15393636150418"
      ],
      "text/plain": [
       "[1] 1.153936"
      ]
     },
     "metadata": {},
     "output_type": "display_data"
    }
   ],
   "source": [
    "14760 / 12791"
   ]
  },
  {
   "cell_type": "code",
   "execution_count": null,
   "metadata": {},
   "outputs": [],
   "source": []
  }
 ],
 "metadata": {
  "kernelspec": {
   "display_name": "R",
   "language": "R",
   "name": "ir"
  },
  "language_info": {
   "codemirror_mode": "r",
   "file_extension": ".r",
   "mimetype": "text/x-r-source",
   "name": "R",
   "pygments_lexer": "r",
   "version": "3.4.4"
  }
 },
 "nbformat": 4,
 "nbformat_minor": 2
}
