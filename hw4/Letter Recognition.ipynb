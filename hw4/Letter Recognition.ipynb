{
 "cells": [
  {
   "cell_type": "code",
   "execution_count": 1,
   "metadata": {},
   "outputs": [],
   "source": [
    "letters = read.csv(\"letters_ABPR.csv\")"
   ]
  },
  {
   "cell_type": "code",
   "execution_count": 2,
   "metadata": {},
   "outputs": [],
   "source": [
    "library(caTools)\n",
    "letters$isB = as.factor(letters$letter == \"B\")\n",
    "set.seed(1000)\n",
    "split = sample.split(letters$isB, SplitRatio = 0.5)"
   ]
  },
  {
   "cell_type": "code",
   "execution_count": 3,
   "metadata": {},
   "outputs": [],
   "source": [
    "train = subset(letters, split == TRUE)\n",
    "test = subset(letters, split == FALSE)"
   ]
  },
  {
   "cell_type": "code",
   "execution_count": 4,
   "metadata": {},
   "outputs": [
    {
     "data": {
      "text/plain": [
       "\n",
       "FALSE  TRUE \n",
       " 1175   383 "
      ]
     },
     "metadata": {},
     "output_type": "display_data"
    }
   ],
   "source": [
    "table(test$isB)"
   ]
  },
  {
   "cell_type": "code",
   "execution_count": 5,
   "metadata": {},
   "outputs": [
    {
     "data": {
      "text/html": [
       "0.754172015404365"
      ],
      "text/latex": [
       "0.754172015404365"
      ],
      "text/markdown": [
       "0.754172015404365"
      ],
      "text/plain": [
       "[1] 0.754172"
      ]
     },
     "metadata": {},
     "output_type": "display_data"
    }
   ],
   "source": [
    "1175 / (383 + 1175)"
   ]
  },
  {
   "cell_type": "code",
   "execution_count": 6,
   "metadata": {},
   "outputs": [
    {
     "data": {
      "text/plain": [
       "       \n",
       "        FALSE TRUE\n",
       "  FALSE  1118   57\n",
       "  TRUE     43  340"
      ]
     },
     "metadata": {},
     "output_type": "display_data"
    }
   ],
   "source": [
    "library(rpart)\n",
    "CARTb = rpart(isB ~ . - letter, data=train, method=\"class\")\n",
    "BPredict = predict(CARTb, newdata = test, method = \"class\")\n",
    "table(test$isB, BPredict[,2] > .5)"
   ]
  },
  {
   "cell_type": "code",
   "execution_count": 7,
   "metadata": {},
   "outputs": [
    {
     "data": {
      "text/html": [
       "0.93581514762516"
      ],
      "text/latex": [
       "0.93581514762516"
      ],
      "text/markdown": [
       "0.93581514762516"
      ],
      "text/plain": [
       "[1] 0.9358151"
      ]
     },
     "metadata": {},
     "output_type": "display_data"
    }
   ],
   "source": [
    "(1118+340) / (1118+340+43+57)"
   ]
  },
  {
   "cell_type": "code",
   "execution_count": 8,
   "metadata": {},
   "outputs": [
    {
     "name": "stderr",
     "output_type": "stream",
     "text": [
      "randomForest 4.6-14\n",
      "Type rfNews() to see new features/changes/bug fixes.\n"
     ]
    }
   ],
   "source": [
    "library(randomForest)\n",
    "set.seed(1000)\n",
    "randomForestModel = randomForest(isB ~ . - letter, data=train)\n",
    "RFPredict = predict(randomForestModel, newdata = test)"
   ]
  },
  {
   "cell_type": "code",
   "execution_count": 47,
   "metadata": {},
   "outputs": [
    {
     "data": {
      "text/plain": [
       "       RFPredict\n",
       "        FALSE TRUE\n",
       "  FALSE  1163   12\n",
       "  TRUE      9  374"
      ]
     },
     "metadata": {},
     "output_type": "display_data"
    }
   ],
   "source": [
    "table(test$isB, RFPredict)"
   ]
  },
  {
   "cell_type": "code",
   "execution_count": 48,
   "metadata": {},
   "outputs": [
    {
     "data": {
      "text/html": [
       "0.986521181001284"
      ],
      "text/latex": [
       "0.986521181001284"
      ],
      "text/markdown": [
       "0.986521181001284"
      ],
      "text/plain": [
       "[1] 0.9865212"
      ]
     },
     "metadata": {},
     "output_type": "display_data"
    }
   ],
   "source": [
    "(1163+374) / (1166+372+11+9)"
   ]
  },
  {
   "cell_type": "code",
   "execution_count": 52,
   "metadata": {},
   "outputs": [
    {
     "data": {
      "text/plain": [
       "\n",
       "  A   B   P   R \n",
       "394 383 402 379 "
      ]
     },
     "metadata": {},
     "output_type": "display_data"
    },
    {
     "data": {
      "text/plain": [
       "\n",
       "  A   B   P   R \n",
       "395 383 401 379 "
      ]
     },
     "metadata": {},
     "output_type": "display_data"
    }
   ],
   "source": [
    "letters$letter = as.factor( letters$letter )\n",
    "set.seed(2000)\n",
    "split = sample.split(letters$letter, SplitRatio = 0.5)\n",
    "train = subset(letters, split == TRUE)\n",
    "test = subset(letters, split == FALSE)\n",
    "table(train$letter)\n",
    "table(test$letter)"
   ]
  },
  {
   "cell_type": "code",
   "execution_count": 53,
   "metadata": {},
   "outputs": [
    {
     "data": {
      "text/html": [
       "0.257381258023107"
      ],
      "text/latex": [
       "0.257381258023107"
      ],
      "text/markdown": [
       "0.257381258023107"
      ],
      "text/plain": [
       "[1] 0.2573813"
      ]
     },
     "metadata": {},
     "output_type": "display_data"
    }
   ],
   "source": [
    "401 / nrow(test)"
   ]
  },
  {
   "cell_type": "code",
   "execution_count": 59,
   "metadata": {},
   "outputs": [
    {
     "data": {
      "text/plain": [
       "   \n",
       "      A   B   P   R\n",
       "  1 348   8   2  10\n",
       "  2   4 318  21  24\n",
       "  3   0  12 363   5\n",
       "  4  43  45  15 340"
      ]
     },
     "metadata": {},
     "output_type": "display_data"
    }
   ],
   "source": [
    "CART = rpart(letter ~ . - isB, data=train, method=\"class\")\n",
    "LPredict = predict(CART, newdata = test, method = \"class\")\n",
    "table(max.col(LPredict), test$letter)"
   ]
  },
  {
   "cell_type": "code",
   "execution_count": 60,
   "metadata": {},
   "outputs": [
    {
     "data": {
      "text/html": [
       "0.878690629011553"
      ],
      "text/latex": [
       "0.878690629011553"
      ],
      "text/markdown": [
       "0.878690629011553"
      ],
      "text/plain": [
       "[1] 0.8786906"
      ]
     },
     "metadata": {},
     "output_type": "display_data"
    }
   ],
   "source": [
    "(348 + 318 + 363 + 340) / nrow(test)"
   ]
  },
  {
   "cell_type": "code",
   "execution_count": 63,
   "metadata": {},
   "outputs": [
    {
     "data": {
      "text/plain": [
       "   RFPredict\n",
       "      A   B   P   R\n",
       "  A 391   0   3   1\n",
       "  B   0 380   1   2\n",
       "  P   0   6 394   1\n",
       "  R   3  14   0 362"
      ]
     },
     "metadata": {},
     "output_type": "display_data"
    }
   ],
   "source": [
    "set.seed(1000)\n",
    "randomForestModel = randomForest(letter ~ . - isB, data=train)\n",
    "RFPredict = predict(randomForestModel, newdata = test)\n",
    "table(test$letter, RFPredict)"
   ]
  },
  {
   "cell_type": "code",
   "execution_count": 64,
   "metadata": {},
   "outputs": [
    {
     "data": {
      "text/html": [
       "0.9801026957638"
      ],
      "text/latex": [
       "0.9801026957638"
      ],
      "text/markdown": [
       "0.9801026957638"
      ],
      "text/plain": [
       "[1] 0.9801027"
      ]
     },
     "metadata": {},
     "output_type": "display_data"
    }
   ],
   "source": [
    "(391 + 380 + 394 + 362) / nrow(test)"
   ]
  },
  {
   "cell_type": "code",
   "execution_count": null,
   "metadata": {},
   "outputs": [],
   "source": []
  }
 ],
 "metadata": {
  "kernelspec": {
   "display_name": "R",
   "language": "R",
   "name": "ir"
  },
  "language_info": {
   "codemirror_mode": "r",
   "file_extension": ".r",
   "mimetype": "text/x-r-source",
   "name": "R",
   "pygments_lexer": "r",
   "version": "3.2.3"
  }
 },
 "nbformat": 4,
 "nbformat_minor": 2
}
