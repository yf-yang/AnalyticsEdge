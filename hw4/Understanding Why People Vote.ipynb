{
 "cells": [
  {
   "cell_type": "code",
   "execution_count": 1,
   "metadata": {},
   "outputs": [],
   "source": [
    "gerber = read.csv(\"gerber.csv\")"
   ]
  },
  {
   "cell_type": "code",
   "execution_count": 2,
   "metadata": {},
   "outputs": [
    {
     "data": {
      "text/plain": [
       "      sex              yob           voting         hawthorne    \n",
       " Min.   :0.0000   Min.   :1900   Min.   :0.0000   Min.   :0.000  \n",
       " 1st Qu.:0.0000   1st Qu.:1947   1st Qu.:0.0000   1st Qu.:0.000  \n",
       " Median :0.0000   Median :1956   Median :0.0000   Median :0.000  \n",
       " Mean   :0.4993   Mean   :1956   Mean   :0.3159   Mean   :0.111  \n",
       " 3rd Qu.:1.0000   3rd Qu.:1965   3rd Qu.:1.0000   3rd Qu.:0.000  \n",
       " Max.   :1.0000   Max.   :1986   Max.   :1.0000   Max.   :1.000  \n",
       "   civicduty        neighbors          self           control      \n",
       " Min.   :0.0000   Min.   :0.000   Min.   :0.0000   Min.   :0.0000  \n",
       " 1st Qu.:0.0000   1st Qu.:0.000   1st Qu.:0.0000   1st Qu.:0.0000  \n",
       " Median :0.0000   Median :0.000   Median :0.0000   Median :1.0000  \n",
       " Mean   :0.1111   Mean   :0.111   Mean   :0.1111   Mean   :0.5558  \n",
       " 3rd Qu.:0.0000   3rd Qu.:0.000   3rd Qu.:0.0000   3rd Qu.:1.0000  \n",
       " Max.   :1.0000   Max.   :1.000   Max.   :1.0000   Max.   :1.0000  "
      ]
     },
     "metadata": {},
     "output_type": "display_data"
    }
   ],
   "source": [
    "summary(gerber)"
   ]
  },
  {
   "cell_type": "code",
   "execution_count": 3,
   "metadata": {},
   "outputs": [
    {
     "name": "stderr",
     "output_type": "stream",
     "text": [
      "ERROR while rich displaying an object: Error in dn[[2L]]: subscript out of bounds\n",
      "\n",
      "Traceback:\n",
      "1. FUN(X[[i]], ...)\n",
      "2. tryCatch(withCallingHandlers({\n",
      " .     if (!mime %in% names(repr::mime2repr)) \n",
      " .         stop(\"No repr_* for mimetype \", mime, \" in repr::mime2repr\")\n",
      " .     rpr <- repr::mime2repr[[mime]](obj)\n",
      " .     if (is.null(rpr)) \n",
      " .         return(NULL)\n",
      " .     prepare_content(is.raw(rpr), rpr)\n",
      " . }, error = error_handler), error = outer_handler)\n",
      "3. tryCatchList(expr, classes, parentenv, handlers)\n",
      "4. tryCatchOne(expr, names, parentenv, handlers[[1L]])\n",
      "5. doTryCatch(return(expr), name, parentenv, handler)\n",
      "6. withCallingHandlers({\n",
      " .     if (!mime %in% names(repr::mime2repr)) \n",
      " .         stop(\"No repr_* for mimetype \", mime, \" in repr::mime2repr\")\n",
      " .     rpr <- repr::mime2repr[[mime]](obj)\n",
      " .     if (is.null(rpr)) \n",
      " .         return(NULL)\n",
      " .     prepare_content(is.raw(rpr), rpr)\n",
      " . }, error = error_handler)\n",
      "7. repr::mime2repr[[mime]](obj)\n",
      "8. repr_markdown.numeric(obj)\n",
      "9. repr_vector_generic(html_escape_names(obj), \"%s. %s\\n\", \"%s\\n:   %s\", \n",
      " .     \"**%s:** %s\", \"%s\\n\\n\", item_uses_numbers = TRUE, escape_fun = html_escape)\n",
      "10. html_escape_names(obj)\n",
      "11. .escape_names(obj, \"html\")\n",
      "12. colnames(obj)\n",
      "ERROR while rich displaying an object: Error in dn[[2L]]: subscript out of bounds\n",
      "\n",
      "Traceback:\n",
      "1. FUN(X[[i]], ...)\n",
      "2. tryCatch(withCallingHandlers({\n",
      " .     if (!mime %in% names(repr::mime2repr)) \n",
      " .         stop(\"No repr_* for mimetype \", mime, \" in repr::mime2repr\")\n",
      " .     rpr <- repr::mime2repr[[mime]](obj)\n",
      " .     if (is.null(rpr)) \n",
      " .         return(NULL)\n",
      " .     prepare_content(is.raw(rpr), rpr)\n",
      " . }, error = error_handler), error = outer_handler)\n",
      "3. tryCatchList(expr, classes, parentenv, handlers)\n",
      "4. tryCatchOne(expr, names, parentenv, handlers[[1L]])\n",
      "5. doTryCatch(return(expr), name, parentenv, handler)\n",
      "6. withCallingHandlers({\n",
      " .     if (!mime %in% names(repr::mime2repr)) \n",
      " .         stop(\"No repr_* for mimetype \", mime, \" in repr::mime2repr\")\n",
      " .     rpr <- repr::mime2repr[[mime]](obj)\n",
      " .     if (is.null(rpr)) \n",
      " .         return(NULL)\n",
      " .     prepare_content(is.raw(rpr), rpr)\n",
      " . }, error = error_handler)\n",
      "7. repr::mime2repr[[mime]](obj)\n",
      "8. repr_latex.numeric(obj)\n",
      "9. repr_vector_generic(latex_escape_names(obj), \"\\\\item %s\\n\", \"\\\\item[%s] %s\\n\", \n",
      " .     \"\\\\textbf{%s:} %s\", enum_wrap = \"\\\\begin{enumerate*}\\n%s\\\\end{enumerate*}\\n\", \n",
      " .     named_wrap = \"\\\\begin{description*}\\n%s\\\\end{description*}\\n\", \n",
      " .     only_named_item = \"\\\\textbf{%s:} %s\", escape_fun = latex_escape)\n",
      "10. latex_escape_names(obj)\n",
      "11. .escape_names(obj, \"latex\")\n",
      "12. colnames(obj)\n"
     ]
    },
    {
     "data": {
      "text/html": [
       "<dl class=dl-horizontal>\n",
       "\t<dt>FALSE</dt>\n",
       "\t\t<dd>0.315090885314502</dd>\n",
       "\t<dt>TRUE</dt>\n",
       "\t\t<dd>0.322374620458591</dd>\n",
       "</dl>\n"
      ],
      "text/plain": [
       "    FALSE      TRUE \n",
       "0.3150909 0.3223746 "
      ]
     },
     "metadata": {},
     "output_type": "display_data"
    },
    {
     "name": "stderr",
     "output_type": "stream",
     "text": [
      "ERROR while rich displaying an object: Error in dn[[2L]]: subscript out of bounds\n",
      "\n",
      "Traceback:\n",
      "1. FUN(X[[i]], ...)\n",
      "2. tryCatch(withCallingHandlers({\n",
      " .     if (!mime %in% names(repr::mime2repr)) \n",
      " .         stop(\"No repr_* for mimetype \", mime, \" in repr::mime2repr\")\n",
      " .     rpr <- repr::mime2repr[[mime]](obj)\n",
      " .     if (is.null(rpr)) \n",
      " .         return(NULL)\n",
      " .     prepare_content(is.raw(rpr), rpr)\n",
      " . }, error = error_handler), error = outer_handler)\n",
      "3. tryCatchList(expr, classes, parentenv, handlers)\n",
      "4. tryCatchOne(expr, names, parentenv, handlers[[1L]])\n",
      "5. doTryCatch(return(expr), name, parentenv, handler)\n",
      "6. withCallingHandlers({\n",
      " .     if (!mime %in% names(repr::mime2repr)) \n",
      " .         stop(\"No repr_* for mimetype \", mime, \" in repr::mime2repr\")\n",
      " .     rpr <- repr::mime2repr[[mime]](obj)\n",
      " .     if (is.null(rpr)) \n",
      " .         return(NULL)\n",
      " .     prepare_content(is.raw(rpr), rpr)\n",
      " . }, error = error_handler)\n",
      "7. repr::mime2repr[[mime]](obj)\n",
      "8. repr_markdown.numeric(obj)\n",
      "9. repr_vector_generic(html_escape_names(obj), \"%s. %s\\n\", \"%s\\n:   %s\", \n",
      " .     \"**%s:** %s\", \"%s\\n\\n\", item_uses_numbers = TRUE, escape_fun = html_escape)\n",
      "10. html_escape_names(obj)\n",
      "11. .escape_names(obj, \"html\")\n",
      "12. colnames(obj)\n",
      "ERROR while rich displaying an object: Error in dn[[2L]]: subscript out of bounds\n",
      "\n",
      "Traceback:\n",
      "1. FUN(X[[i]], ...)\n",
      "2. tryCatch(withCallingHandlers({\n",
      " .     if (!mime %in% names(repr::mime2repr)) \n",
      " .         stop(\"No repr_* for mimetype \", mime, \" in repr::mime2repr\")\n",
      " .     rpr <- repr::mime2repr[[mime]](obj)\n",
      " .     if (is.null(rpr)) \n",
      " .         return(NULL)\n",
      " .     prepare_content(is.raw(rpr), rpr)\n",
      " . }, error = error_handler), error = outer_handler)\n",
      "3. tryCatchList(expr, classes, parentenv, handlers)\n",
      "4. tryCatchOne(expr, names, parentenv, handlers[[1L]])\n",
      "5. doTryCatch(return(expr), name, parentenv, handler)\n",
      "6. withCallingHandlers({\n",
      " .     if (!mime %in% names(repr::mime2repr)) \n",
      " .         stop(\"No repr_* for mimetype \", mime, \" in repr::mime2repr\")\n",
      " .     rpr <- repr::mime2repr[[mime]](obj)\n",
      " .     if (is.null(rpr)) \n",
      " .         return(NULL)\n",
      " .     prepare_content(is.raw(rpr), rpr)\n",
      " . }, error = error_handler)\n",
      "7. repr::mime2repr[[mime]](obj)\n",
      "8. repr_latex.numeric(obj)\n",
      "9. repr_vector_generic(latex_escape_names(obj), \"\\\\item %s\\n\", \"\\\\item[%s] %s\\n\", \n",
      " .     \"\\\\textbf{%s:} %s\", enum_wrap = \"\\\\begin{enumerate*}\\n%s\\\\end{enumerate*}\\n\", \n",
      " .     named_wrap = \"\\\\begin{description*}\\n%s\\\\end{description*}\\n\", \n",
      " .     only_named_item = \"\\\\textbf{%s:} %s\", escape_fun = latex_escape)\n",
      "10. latex_escape_names(obj)\n",
      "11. .escape_names(obj, \"latex\")\n",
      "12. colnames(obj)\n"
     ]
    },
    {
     "data": {
      "text/html": [
       "<dl class=dl-horizontal>\n",
       "\t<dt>FALSE</dt>\n",
       "\t\t<dd>0.316069782192202</dd>\n",
       "\t<dt>TRUE</dt>\n",
       "\t\t<dd>0.314537652415092</dd>\n",
       "</dl>\n"
      ],
      "text/plain": [
       "    FALSE      TRUE \n",
       "0.3160698 0.3145377 "
      ]
     },
     "metadata": {},
     "output_type": "display_data"
    },
    {
     "name": "stderr",
     "output_type": "stream",
     "text": [
      "ERROR while rich displaying an object: Error in dn[[2L]]: subscript out of bounds\n",
      "\n",
      "Traceback:\n",
      "1. FUN(X[[i]], ...)\n",
      "2. tryCatch(withCallingHandlers({\n",
      " .     if (!mime %in% names(repr::mime2repr)) \n",
      " .         stop(\"No repr_* for mimetype \", mime, \" in repr::mime2repr\")\n",
      " .     rpr <- repr::mime2repr[[mime]](obj)\n",
      " .     if (is.null(rpr)) \n",
      " .         return(NULL)\n",
      " .     prepare_content(is.raw(rpr), rpr)\n",
      " . }, error = error_handler), error = outer_handler)\n",
      "3. tryCatchList(expr, classes, parentenv, handlers)\n",
      "4. tryCatchOne(expr, names, parentenv, handlers[[1L]])\n",
      "5. doTryCatch(return(expr), name, parentenv, handler)\n",
      "6. withCallingHandlers({\n",
      " .     if (!mime %in% names(repr::mime2repr)) \n",
      " .         stop(\"No repr_* for mimetype \", mime, \" in repr::mime2repr\")\n",
      " .     rpr <- repr::mime2repr[[mime]](obj)\n",
      " .     if (is.null(rpr)) \n",
      " .         return(NULL)\n",
      " .     prepare_content(is.raw(rpr), rpr)\n",
      " . }, error = error_handler)\n",
      "7. repr::mime2repr[[mime]](obj)\n",
      "8. repr_markdown.numeric(obj)\n",
      "9. repr_vector_generic(html_escape_names(obj), \"%s. %s\\n\", \"%s\\n:   %s\", \n",
      " .     \"**%s:** %s\", \"%s\\n\\n\", item_uses_numbers = TRUE, escape_fun = html_escape)\n",
      "10. html_escape_names(obj)\n",
      "11. .escape_names(obj, \"html\")\n",
      "12. colnames(obj)\n",
      "ERROR while rich displaying an object: Error in dn[[2L]]: subscript out of bounds\n",
      "\n",
      "Traceback:\n",
      "1. FUN(X[[i]], ...)\n",
      "2. tryCatch(withCallingHandlers({\n",
      " .     if (!mime %in% names(repr::mime2repr)) \n",
      " .         stop(\"No repr_* for mimetype \", mime, \" in repr::mime2repr\")\n",
      " .     rpr <- repr::mime2repr[[mime]](obj)\n",
      " .     if (is.null(rpr)) \n",
      " .         return(NULL)\n",
      " .     prepare_content(is.raw(rpr), rpr)\n",
      " . }, error = error_handler), error = outer_handler)\n",
      "3. tryCatchList(expr, classes, parentenv, handlers)\n",
      "4. tryCatchOne(expr, names, parentenv, handlers[[1L]])\n",
      "5. doTryCatch(return(expr), name, parentenv, handler)\n",
      "6. withCallingHandlers({\n",
      " .     if (!mime %in% names(repr::mime2repr)) \n",
      " .         stop(\"No repr_* for mimetype \", mime, \" in repr::mime2repr\")\n",
      " .     rpr <- repr::mime2repr[[mime]](obj)\n",
      " .     if (is.null(rpr)) \n",
      " .         return(NULL)\n",
      " .     prepare_content(is.raw(rpr), rpr)\n",
      " . }, error = error_handler)\n",
      "7. repr::mime2repr[[mime]](obj)\n",
      "8. repr_latex.numeric(obj)\n",
      "9. repr_vector_generic(latex_escape_names(obj), \"\\\\item %s\\n\", \"\\\\item[%s] %s\\n\", \n",
      " .     \"\\\\textbf{%s:} %s\", enum_wrap = \"\\\\begin{enumerate*}\\n%s\\\\end{enumerate*}\\n\", \n",
      " .     named_wrap = \"\\\\begin{description*}\\n%s\\\\end{description*}\\n\", \n",
      " .     only_named_item = \"\\\\textbf{%s:} %s\", escape_fun = latex_escape)\n",
      "10. latex_escape_names(obj)\n",
      "11. .escape_names(obj, \"latex\")\n",
      "12. colnames(obj)\n"
     ]
    },
    {
     "data": {
      "text/html": [
       "<dl class=dl-horizontal>\n",
       "\t<dt>FALSE</dt>\n",
       "\t\t<dd>0.308150501989323</dd>\n",
       "\t<dt>TRUE</dt>\n",
       "\t\t<dd>0.377948221250753</dd>\n",
       "</dl>\n"
      ],
      "text/plain": [
       "    FALSE      TRUE \n",
       "0.3081505 0.3779482 "
      ]
     },
     "metadata": {},
     "output_type": "display_data"
    },
    {
     "name": "stderr",
     "output_type": "stream",
     "text": [
      "ERROR while rich displaying an object: Error in dn[[2L]]: subscript out of bounds\n",
      "\n",
      "Traceback:\n",
      "1. FUN(X[[i]], ...)\n",
      "2. tryCatch(withCallingHandlers({\n",
      " .     if (!mime %in% names(repr::mime2repr)) \n",
      " .         stop(\"No repr_* for mimetype \", mime, \" in repr::mime2repr\")\n",
      " .     rpr <- repr::mime2repr[[mime]](obj)\n",
      " .     if (is.null(rpr)) \n",
      " .         return(NULL)\n",
      " .     prepare_content(is.raw(rpr), rpr)\n",
      " . }, error = error_handler), error = outer_handler)\n",
      "3. tryCatchList(expr, classes, parentenv, handlers)\n",
      "4. tryCatchOne(expr, names, parentenv, handlers[[1L]])\n",
      "5. doTryCatch(return(expr), name, parentenv, handler)\n",
      "6. withCallingHandlers({\n",
      " .     if (!mime %in% names(repr::mime2repr)) \n",
      " .         stop(\"No repr_* for mimetype \", mime, \" in repr::mime2repr\")\n",
      " .     rpr <- repr::mime2repr[[mime]](obj)\n",
      " .     if (is.null(rpr)) \n",
      " .         return(NULL)\n",
      " .     prepare_content(is.raw(rpr), rpr)\n",
      " . }, error = error_handler)\n",
      "7. repr::mime2repr[[mime]](obj)\n",
      "8. repr_markdown.numeric(obj)\n",
      "9. repr_vector_generic(html_escape_names(obj), \"%s. %s\\n\", \"%s\\n:   %s\", \n",
      " .     \"**%s:** %s\", \"%s\\n\\n\", item_uses_numbers = TRUE, escape_fun = html_escape)\n",
      "10. html_escape_names(obj)\n",
      "11. .escape_names(obj, \"html\")\n",
      "12. colnames(obj)\n",
      "ERROR while rich displaying an object: Error in dn[[2L]]: subscript out of bounds\n",
      "\n",
      "Traceback:\n",
      "1. FUN(X[[i]], ...)\n",
      "2. tryCatch(withCallingHandlers({\n",
      " .     if (!mime %in% names(repr::mime2repr)) \n",
      " .         stop(\"No repr_* for mimetype \", mime, \" in repr::mime2repr\")\n",
      " .     rpr <- repr::mime2repr[[mime]](obj)\n",
      " .     if (is.null(rpr)) \n",
      " .         return(NULL)\n",
      " .     prepare_content(is.raw(rpr), rpr)\n",
      " . }, error = error_handler), error = outer_handler)\n",
      "3. tryCatchList(expr, classes, parentenv, handlers)\n",
      "4. tryCatchOne(expr, names, parentenv, handlers[[1L]])\n",
      "5. doTryCatch(return(expr), name, parentenv, handler)\n",
      "6. withCallingHandlers({\n",
      " .     if (!mime %in% names(repr::mime2repr)) \n",
      " .         stop(\"No repr_* for mimetype \", mime, \" in repr::mime2repr\")\n",
      " .     rpr <- repr::mime2repr[[mime]](obj)\n",
      " .     if (is.null(rpr)) \n",
      " .         return(NULL)\n",
      " .     prepare_content(is.raw(rpr), rpr)\n",
      " . }, error = error_handler)\n",
      "7. repr::mime2repr[[mime]](obj)\n",
      "8. repr_latex.numeric(obj)\n",
      "9. repr_vector_generic(latex_escape_names(obj), \"\\\\item %s\\n\", \"\\\\item[%s] %s\\n\", \n",
      " .     \"\\\\textbf{%s:} %s\", enum_wrap = \"\\\\begin{enumerate*}\\n%s\\\\end{enumerate*}\\n\", \n",
      " .     named_wrap = \"\\\\begin{description*}\\n%s\\\\end{description*}\\n\", \n",
      " .     only_named_item = \"\\\\textbf{%s:} %s\", escape_fun = latex_escape)\n",
      "10. latex_escape_names(obj)\n",
      "11. .escape_names(obj, \"latex\")\n",
      "12. colnames(obj)\n"
     ]
    },
    {
     "data": {
      "text/html": [
       "<dl class=dl-horizontal>\n",
       "\t<dt>FALSE</dt>\n",
       "\t\t<dd>0.312244577690884</dd>\n",
       "\t<dt>TRUE</dt>\n",
       "\t\t<dd>0.345151499293527</dd>\n",
       "</dl>\n"
      ],
      "text/plain": [
       "    FALSE      TRUE \n",
       "0.3122446 0.3451515 "
      ]
     },
     "metadata": {},
     "output_type": "display_data"
    }
   ],
   "source": [
    "tapply(gerber$voting, gerber$hawthorne == 1, mean)\n",
    "tapply(gerber$voting, gerber$civicduty == 1, mean)\n",
    "tapply(gerber$voting, gerber$neighbors == 1, mean)\n",
    "tapply(gerber$voting, gerber$self == 1, mean)"
   ]
  },
  {
   "cell_type": "code",
   "execution_count": 4,
   "metadata": {},
   "outputs": [
    {
     "data": {
      "text/plain": [
       "\n",
       "Call:\n",
       "glm(formula = voting ~ neighbors + self + civicduty + hawthorne, \n",
       "    family = \"binomial\", data = gerber)\n",
       "\n",
       "Deviance Residuals: \n",
       "    Min       1Q   Median       3Q      Max  \n",
       "-0.9744  -0.8691  -0.8389   1.4586   1.5590  \n",
       "\n",
       "Coefficients:\n",
       "             Estimate Std. Error  z value Pr(>|z|)    \n",
       "(Intercept) -0.863358   0.005006 -172.459  < 2e-16 ***\n",
       "neighbors    0.365092   0.011679   31.260  < 2e-16 ***\n",
       "self         0.222937   0.011867   18.786  < 2e-16 ***\n",
       "civicduty    0.084368   0.012100    6.972 3.12e-12 ***\n",
       "hawthorne    0.120477   0.012037   10.009  < 2e-16 ***\n",
       "---\n",
       "Signif. codes:  0 ‘***’ 0.001 ‘**’ 0.01 ‘*’ 0.05 ‘.’ 0.1 ‘ ’ 1\n",
       "\n",
       "(Dispersion parameter for binomial family taken to be 1)\n",
       "\n",
       "    Null deviance: 429238  on 344083  degrees of freedom\n",
       "Residual deviance: 428090  on 344079  degrees of freedom\n",
       "AIC: 428100\n",
       "\n",
       "Number of Fisher Scoring iterations: 4\n"
      ]
     },
     "metadata": {},
     "output_type": "display_data"
    }
   ],
   "source": [
    "summary(glm(voting ~ neighbors + self + civicduty + hawthorne, data = gerber, family = \"binomial\"))"
   ]
  },
  {
   "cell_type": "code",
   "execution_count": 12,
   "metadata": {},
   "outputs": [],
   "source": [
    "logit = glm(voting ~ neighbors + self + civicduty + hawthorne, data = gerber, family = \"binomial\")\n",
    "result = predict(logit, type = \"response\")"
   ]
  },
  {
   "cell_type": "code",
   "execution_count": 14,
   "metadata": {},
   "outputs": [
    {
     "data": {
      "text/plain": [
       "   \n",
       "     FALSE   TRUE\n",
       "  0 134513 100875\n",
       "  1  56730  51966"
      ]
     },
     "metadata": {},
     "output_type": "display_data"
    },
    {
     "data": {
      "text/html": [
       "0.541957777751944"
      ],
      "text/latex": [
       "0.541957777751944"
      ],
      "text/markdown": [
       "0.541957777751944"
      ],
      "text/plain": [
       "[1] 0.5419578"
      ]
     },
     "metadata": {},
     "output_type": "display_data"
    }
   ],
   "source": [
    "table(gerber$voting, result > 0.3)\n",
    "(134513 + 51966) / (134513+100875+56730+51966)"
   ]
  },
  {
   "cell_type": "code",
   "execution_count": 18,
   "metadata": {},
   "outputs": [
    {
     "data": {
      "text/plain": [
       "   \n",
       "     FALSE\n",
       "  0 235388\n",
       "  1 108696"
      ]
     },
     "metadata": {},
     "output_type": "display_data"
    },
    {
     "data": {
      "text/html": [
       "0.684100394089815"
      ],
      "text/latex": [
       "0.684100394089815"
      ],
      "text/markdown": [
       "0.684100394089815"
      ],
      "text/plain": [
       "[1] 0.6841004"
      ]
     },
     "metadata": {},
     "output_type": "display_data"
    }
   ],
   "source": [
    "table(gerber$voting, result > 0.5)\n",
    "235388 / (134513+100875+56730+51966)"
   ]
  },
  {
   "cell_type": "code",
   "execution_count": 23,
   "metadata": {},
   "outputs": [
    {
     "data": {
      "text/html": [
       "0.530846149206405"
      ],
      "text/latex": [
       "0.530846149206405"
      ],
      "text/markdown": [
       "0.530846149206405"
      ],
      "text/plain": [
       "[1] 0.5308461"
      ]
     },
     "metadata": {},
     "output_type": "display_data"
    }
   ],
   "source": [
    "library(ROCR)\n",
    "# Prediction function\n",
    "ROCRpred = prediction(result, gerber$voting)\n",
    "\n",
    "# Performance function\n",
    "as.numeric(performance(ROCRpred, measure = \"auc\")@y.values)"
   ]
  },
  {
   "cell_type": "code",
   "execution_count": 26,
   "metadata": {
    "scrolled": true
   },
   "outputs": [
    {
     "data": {
      "image/png": "[encoded data removed]",
      "text/plain": [
       "plot without title"
      ]
     },
     "metadata": {},
     "output_type": "display_data"
    }
   ],
   "source": [
    "library(rpart)\n",
    "library(rpart.plot)\n",
    "CARTmodel = rpart(voting ~ civicduty + hawthorne + self + neighbors, data=gerber)\n",
    "prp(CARTmodel)"
   ]
  },
  {
   "cell_type": "code",
   "execution_count": 27,
   "metadata": {},
   "outputs": [
    {
     "data": {
      "image/png": "[encoded data removed]",
      "text/plain": [
       "plot without title"
      ]
     },
     "metadata": {},
     "output_type": "display_data"
    }
   ],
   "source": [
    "CARTmodel2 = rpart(voting ~ civicduty + hawthorne + self + neighbors, data=gerber, cp=0.0)\n",
    "prp(CARTmodel2)"
   ]
  },
  {
   "cell_type": "code",
   "execution_count": 29,
   "metadata": {},
   "outputs": [
    {
     "data": {
      "image/png": "[encoded data removed]",
      "text/plain": [
       "plot without title"
      ]
     },
     "metadata": {},
     "output_type": "display_data"
    }
   ],
   "source": [
    "CARTmodel3 = rpart(voting ~ civicduty + hawthorne + self + neighbors + sex, data=gerber, cp=0.0)\n",
    "prp(CARTmodel3)"
   ]
  },
  {
   "cell_type": "code",
   "execution_count": 32,
   "metadata": {},
   "outputs": [
    {
     "data": {
      "image/png": "[encoded data removed]",
      "text/plain": [
       "plot without title"
      ]
     },
     "metadata": {},
     "output_type": "display_data"
    }
   ],
   "source": [
    "CARTmodel4 = rpart(voting ~ control, data=gerber, cp = 0.0)\n",
    "prp(CARTmodel4, digits = 6)"
   ]
  },
  {
   "cell_type": "code",
   "execution_count": 34,
   "metadata": {},
   "outputs": [
    {
     "data": {
      "image/png": "[encoded data removed]",
      "text/plain": [
       "plot without title"
      ]
     },
     "metadata": {},
     "output_type": "display_data"
    }
   ],
   "source": [
    "CARTmodel5 = rpart(voting ~ sex + control, data=gerber, cp = 0.0)\n",
    "prp(CARTmodel5, digits = 6)"
   ]
  },
  {
   "cell_type": "code",
   "execution_count": 35,
   "metadata": {},
   "outputs": [
    {
     "data": {
      "text/html": [
       "0.043023"
      ],
      "text/latex": [
       "0.043023"
      ],
      "text/markdown": [
       "0.043023"
      ],
      "text/plain": [
       "[1] 0.043023"
      ]
     },
     "metadata": {},
     "output_type": "display_data"
    },
    {
     "data": {
      "text/html": [
       "0.04372"
      ],
      "text/latex": [
       "0.04372"
      ],
      "text/markdown": [
       "0.04372"
      ],
      "text/plain": [
       "[1] 0.04372"
      ]
     },
     "metadata": {},
     "output_type": "display_data"
    }
   ],
   "source": [
    "0.345818 - 0.302795\n",
    "0.334176 - 0.290456"
   ]
  },
  {
   "cell_type": "code",
   "execution_count": 42,
   "metadata": {},
   "outputs": [
    {
     "data": {
      "text/plain": [
       "\n",
       "Call:\n",
       "glm(formula = voting ~ sex + control, family = \"binomial\", data = gerber)\n",
       "\n",
       "Deviance Residuals: \n",
       "    Min       1Q   Median       3Q      Max  \n",
       "-0.9220  -0.9012  -0.8290   1.4564   1.5717  \n",
       "\n",
       "Coefficients:\n",
       "             Estimate Std. Error z value Pr(>|z|)    \n",
       "(Intercept) -0.635538   0.006511 -97.616  < 2e-16 ***\n",
       "sex         -0.055791   0.007343  -7.597 3.02e-14 ***\n",
       "control     -0.200142   0.007364 -27.179  < 2e-16 ***\n",
       "---\n",
       "Signif. codes:  0 ‘***’ 0.001 ‘**’ 0.01 ‘*’ 0.05 ‘.’ 0.1 ‘ ’ 1\n",
       "\n",
       "(Dispersion parameter for binomial family taken to be 1)\n",
       "\n",
       "    Null deviance: 429238  on 344083  degrees of freedom\n",
       "Residual deviance: 428443  on 344081  degrees of freedom\n",
       "AIC: 428449\n",
       "\n",
       "Number of Fisher Scoring iterations: 4\n"
      ]
     },
     "metadata": {},
     "output_type": "display_data"
    }
   ],
   "source": [
    "summary(glm(voting ~ sex + control, data = gerber, family=\"binomial\"))"
   ]
  },
  {
   "cell_type": "code",
   "execution_count": 40,
   "metadata": {},
   "outputs": [
    {
     "data": {
      "text/html": [
       "<dl class=dl-horizontal>\n",
       "\t<dt>1</dt>\n",
       "\t\t<dd>0.346255945755663</dd>\n",
       "\t<dt>2</dt>\n",
       "\t\t<dd>0.302445515818743</dd>\n",
       "\t<dt>3</dt>\n",
       "\t\t<dd>0.333737549855941</dd>\n",
       "\t<dt>4</dt>\n",
       "\t\t<dd>0.290806452511949</dd>\n",
       "</dl>\n"
      ],
      "text/latex": [
       "\\begin{description*}\n",
       "\\item[1] 0.346255945755663\n",
       "\\item[2] 0.302445515818743\n",
       "\\item[3] 0.333737549855941\n",
       "\\item[4] 0.290806452511949\n",
       "\\end{description*}\n"
      ],
      "text/markdown": [
       "1\n",
       ":   0.3462559457556632\n",
       ":   0.3024455158187433\n",
       ":   0.3337375498559414\n",
       ":   0.290806452511949\n",
       "\n"
      ],
      "text/plain": [
       "        1         2         3         4 \n",
       "0.3462559 0.3024455 0.3337375 0.2908065 "
      ]
     },
     "metadata": {},
     "output_type": "display_data"
    }
   ],
   "source": [
    "Possibilities = data.frame(sex=c(0,0,1,1),control=c(0,1,0,1))\n",
    "predict(glm(voting ~ sex + control, data = gerber, family=\"binomial\"), newdata=Possibilities, type=\"response\")"
   ]
  },
  {
   "cell_type": "code",
   "execution_count": 43,
   "metadata": {},
   "outputs": [
    {
     "data": {
      "text/html": [
       "0.000350452511948984"
      ],
      "text/latex": [
       "0.000350452511948984"
      ],
      "text/markdown": [
       "0.000350452511948984"
      ],
      "text/plain": [
       "[1] 0.0003504525"
      ]
     },
     "metadata": {},
     "output_type": "display_data"
    }
   ],
   "source": [
    "0.290806452511949 - 0.290456"
   ]
  },
  {
   "cell_type": "code",
   "execution_count": 44,
   "metadata": {},
   "outputs": [
    {
     "data": {
      "text/plain": [
       "\n",
       "Call:\n",
       "glm(formula = voting ~ sex + control + sex:control, family = \"binomial\", \n",
       "    data = gerber)\n",
       "\n",
       "Deviance Residuals: \n",
       "    Min       1Q   Median       3Q      Max  \n",
       "-0.9213  -0.9019  -0.8284   1.4573   1.5724  \n",
       "\n",
       "Coefficients:\n",
       "             Estimate Std. Error z value Pr(>|z|)    \n",
       "(Intercept) -0.637471   0.007603 -83.843  < 2e-16 ***\n",
       "sex         -0.051888   0.010801  -4.804 1.55e-06 ***\n",
       "control     -0.196553   0.010356 -18.980  < 2e-16 ***\n",
       "sex:control -0.007259   0.014729  -0.493    0.622    \n",
       "---\n",
       "Signif. codes:  0 ‘***’ 0.001 ‘**’ 0.01 ‘*’ 0.05 ‘.’ 0.1 ‘ ’ 1\n",
       "\n",
       "(Dispersion parameter for binomial family taken to be 1)\n",
       "\n",
       "    Null deviance: 429238  on 344083  degrees of freedom\n",
       "Residual deviance: 428442  on 344080  degrees of freedom\n",
       "AIC: 428450\n",
       "\n",
       "Number of Fisher Scoring iterations: 4\n"
      ]
     },
     "metadata": {},
     "output_type": "display_data"
    }
   ],
   "source": [
    "LogModel2 = glm(voting ~ sex + control + sex:control, data=gerber, family=\"binomial\")\n",
    "summary(LogModel2)"
   ]
  },
  {
   "cell_type": "code",
   "execution_count": 46,
   "metadata": {},
   "outputs": [
    {
     "data": {
      "text/html": [
       "<dl class=dl-horizontal>\n",
       "\t<dt>1</dt>\n",
       "\t\t<dd>0.345818348263972</dd>\n",
       "\t<dt>2</dt>\n",
       "\t\t<dd>0.302794706963031</dd>\n",
       "\t<dt>3</dt>\n",
       "\t\t<dd>0.334175657274619</dd>\n",
       "\t<dt>4</dt>\n",
       "\t\t<dd>0.290455779247702</dd>\n",
       "</dl>\n"
      ],
      "text/latex": [
       "\\begin{description*}\n",
       "\\item[1] 0.345818348263972\n",
       "\\item[2] 0.302794706963031\n",
       "\\item[3] 0.334175657274619\n",
       "\\item[4] 0.290455779247702\n",
       "\\end{description*}\n"
      ],
      "text/markdown": [
       "1\n",
       ":   0.3458183482639722\n",
       ":   0.3027947069630313\n",
       ":   0.3341756572746194\n",
       ":   0.290455779247702\n",
       "\n"
      ],
      "text/plain": [
       "        1         2         3         4 \n",
       "0.3458183 0.3027947 0.3341757 0.2904558 "
      ]
     },
     "metadata": {},
     "output_type": "display_data"
    }
   ],
   "source": [
    "predict(LogModel2, newdata=Possibilities, type=\"response\")"
   ]
  },
  {
   "cell_type": "code",
   "execution_count": null,
   "metadata": {},
   "outputs": [],
   "source": []
  }
 ],
 "metadata": {
  "kernelspec": {
   "display_name": "R",
   "language": "R",
   "name": "ir"
  },
  "language_info": {
   "codemirror_mode": "r",
   "file_extension": ".r",
   "mimetype": "text/x-r-source",
   "name": "R",
   "pygments_lexer": "r",
   "version": "3.4.4"
  }
 },
 "nbformat": 4,
 "nbformat_minor": 2
}
