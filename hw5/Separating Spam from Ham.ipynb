{
 "cells": [
  {
   "cell_type": "code",
   "execution_count": 1,
   "metadata": {},
   "outputs": [],
   "source": [
    "emails = read.csv(\"emails.csv\", stringsAsFactors = FALSE)"
   ]
  },
  {
   "cell_type": "code",
   "execution_count": 2,
   "metadata": {},
   "outputs": [
    {
     "data": {
      "text/html": [
       "5728"
      ],
      "text/latex": [
       "5728"
      ],
      "text/markdown": [
       "5728"
      ],
      "text/plain": [
       "[1] 5728"
      ]
     },
     "metadata": {},
     "output_type": "display_data"
    }
   ],
   "source": [
    "nrow(emails)"
   ]
  },
  {
   "cell_type": "code",
   "execution_count": 3,
   "metadata": {},
   "outputs": [
    {
     "data": {
      "text/plain": [
       "\n",
       "   0    1 \n",
       "4360 1368 "
      ]
     },
     "metadata": {},
     "output_type": "display_data"
    }
   ],
   "source": [
    "table(emails$spam)"
   ]
  },
  {
   "cell_type": "code",
   "execution_count": 4,
   "metadata": {},
   "outputs": [
    {
     "data": {
      "text/html": [
       "<span style=white-space:pre-wrap>'Subject: naturally irresistible your corporate identity  lt is really hard to recollect a company : the  market is full of suqgestions and the information isoverwhelminq ; but a good  catchy logo , stylish statlonery and outstanding website  will make the task much easier .  we do not promise that havinq ordered a iogo your  company will automaticaily become a world ieader : it isguite ciear that  without good products , effective business organization and practicable aim it  will be hotat nowadays market ; but we do promise that your marketing efforts  will become much more effective . here is the list of clear  benefits : creativeness : hand - made , original logos , specially done  to reflect your distinctive company image . convenience : logo and stationery  are provided in all formats ; easy - to - use content management system letsyou  change your website content and even its structure . promptness : you  will see logo drafts within three business days . affordability : your  marketing break - through shouldn \\' t make gaps in your budget . 100 % satisfaction  guaranteed : we provide unlimited amount of changes with no extra fees for you to  be surethat you will love the result of this collaboration . have a look at our  portfolio _ _ _ _ _ _ _ _ _ _ _ _ _ _ _ _ _ _ _ _ _ _ _ _ _ _ _ _ _ _ _ _ _ _ _ _ _ _ _ _ _ _ _ _ _ _ _ _ _ _ _ _ not interested . . . _ _ _ _ _ _ _ _ _ _ _ _ _ _ _ _ _ _ _ _ _ _ _ _ _ _ _ _ _ _ _ _ _ _ _ _ _ _ _ _ _ _ _ _ _ _ _ _ _ _ _ _'</span>"
      ],
      "text/latex": [
       "'Subject: naturally irresistible your corporate identity  lt is really hard to recollect a company : the  market is full of suqgestions and the information isoverwhelminq ; but a good  catchy logo , stylish statlonery and outstanding website  will make the task much easier .  we do not promise that havinq ordered a iogo your  company will automaticaily become a world ieader : it isguite ciear that  without good products , effective business organization and practicable aim it  will be hotat nowadays market ; but we do promise that your marketing efforts  will become much more effective . here is the list of clear  benefits : creativeness : hand - made , original logos , specially done  to reflect your distinctive company image . convenience : logo and stationery  are provided in all formats ; easy - to - use content management system letsyou  change your website content and even its structure . promptness : you  will see logo drafts within three business days . affordability : your  marketing break - through shouldn \\textbackslash{}' t make gaps in your budget . 100 \\% satisfaction  guaranteed : we provide unlimited amount of changes with no extra fees for you to  be surethat you will love the result of this collaboration . have a look at our  portfolio \\_ \\_ \\_ \\_ \\_ \\_ \\_ \\_ \\_ \\_ \\_ \\_ \\_ \\_ \\_ \\_ \\_ \\_ \\_ \\_ \\_ \\_ \\_ \\_ \\_ \\_ \\_ \\_ \\_ \\_ \\_ \\_ \\_ \\_ \\_ \\_ \\_ \\_ \\_ \\_ \\_ \\_ \\_ \\_ \\_ \\_ \\_ \\_ \\_ \\_ \\_ \\_ not interested . . . \\_ \\_ \\_ \\_ \\_ \\_ \\_ \\_ \\_ \\_ \\_ \\_ \\_ \\_ \\_ \\_ \\_ \\_ \\_ \\_ \\_ \\_ \\_ \\_ \\_ \\_ \\_ \\_ \\_ \\_ \\_ \\_ \\_ \\_ \\_ \\_ \\_ \\_ \\_ \\_ \\_ \\_ \\_ \\_ \\_ \\_ \\_ \\_ \\_ \\_ \\_ \\_'"
      ],
      "text/markdown": [
       "<span style=white-space:pre-wrap>'Subject: naturally irresistible your corporate identity  lt is really hard to recollect a company : the  market is full of suqgestions and the information isoverwhelminq ; but a good  catchy logo , stylish statlonery and outstanding website  will make the task much easier .  we do not promise that havinq ordered a iogo your  company will automaticaily become a world ieader : it isguite ciear that  without good products , effective business organization and practicable aim it  will be hotat nowadays market ; but we do promise that your marketing efforts  will become much more effective . here is the list of clear  benefits : creativeness : hand - made , original logos , specially done  to reflect your distinctive company image . convenience : logo and stationery  are provided in all formats ; easy - to - use content management system letsyou  change your website content and even its structure . promptness : you  will see logo drafts within three business days . affordability : your  marketing break - through shouldn \\' t make gaps in your budget . 100 % satisfaction  guaranteed : we provide unlimited amount of changes with no extra fees for you to  be surethat you will love the result of this collaboration . have a look at our  portfolio _ _ _ _ _ _ _ _ _ _ _ _ _ _ _ _ _ _ _ _ _ _ _ _ _ _ _ _ _ _ _ _ _ _ _ _ _ _ _ _ _ _ _ _ _ _ _ _ _ _ _ _ not interested . . . _ _ _ _ _ _ _ _ _ _ _ _ _ _ _ _ _ _ _ _ _ _ _ _ _ _ _ _ _ _ _ _ _ _ _ _ _ _ _ _ _ _ _ _ _ _ _ _ _ _ _ _'</span>"
      ],
      "text/plain": [
       "[1] \"Subject: naturally irresistible your corporate identity  lt is really hard to recollect a company : the  market is full of suqgestions and the information isoverwhelminq ; but a good  catchy logo , stylish statlonery and outstanding website  will make the task much easier .  we do not promise that havinq ordered a iogo your  company will automaticaily become a world ieader : it isguite ciear that  without good products , effective business organization and practicable aim it  will be hotat nowadays market ; but we do promise that your marketing efforts  will become much more effective . here is the list of clear  benefits : creativeness : hand - made , original logos , specially done  to reflect your distinctive company image . convenience : logo and stationery  are provided in all formats ; easy - to - use content management system letsyou  change your website content and even its structure . promptness : you  will see logo drafts within three business days . affordability : your  marketing break - through shouldn ' t make gaps in your budget . 100 % satisfaction  guaranteed : we provide unlimited amount of changes with no extra fees for you to  be surethat you will love the result of this collaboration . have a look at our  portfolio _ _ _ _ _ _ _ _ _ _ _ _ _ _ _ _ _ _ _ _ _ _ _ _ _ _ _ _ _ _ _ _ _ _ _ _ _ _ _ _ _ _ _ _ _ _ _ _ _ _ _ _ not interested . . . _ _ _ _ _ _ _ _ _ _ _ _ _ _ _ _ _ _ _ _ _ _ _ _ _ _ _ _ _ _ _ _ _ _ _ _ _ _ _ _ _ _ _ _ _ _ _ _ _ _ _ _\""
      ]
     },
     "metadata": {},
     "output_type": "display_data"
    }
   ],
   "source": [
    "emails$text[1]"
   ]
  },
  {
   "cell_type": "code",
   "execution_count": 5,
   "metadata": {},
   "outputs": [
    {
     "data": {
      "text/html": [
       "43952"
      ],
      "text/latex": [
       "43952"
      ],
      "text/markdown": [
       "43952"
      ],
      "text/plain": [
       "[1] 43952"
      ]
     },
     "metadata": {},
     "output_type": "display_data"
    }
   ],
   "source": [
    "max(nchar(emails$text))"
   ]
  },
  {
   "cell_type": "code",
   "execution_count": 6,
   "metadata": {},
   "outputs": [
    {
     "data": {
      "text/html": [
       "1992"
      ],
      "text/latex": [
       "1992"
      ],
      "text/markdown": [
       "1992"
      ],
      "text/plain": [
       "[1] 1992"
      ]
     },
     "metadata": {},
     "output_type": "display_data"
    }
   ],
   "source": [
    "which.min(nchar(emails$text))"
   ]
  },
  {
   "cell_type": "code",
   "execution_count": 7,
   "metadata": {},
   "outputs": [
    {
     "name": "stderr",
     "output_type": "stream",
     "text": [
      "Loading required package: NLP\n"
     ]
    }
   ],
   "source": [
    "library(tm)\n",
    "library(SnowballC)"
   ]
  },
  {
   "cell_type": "code",
   "execution_count": 8,
   "metadata": {},
   "outputs": [],
   "source": [
    "corpus = VCorpus(VectorSource(emails$text))\n",
    "corpus = tm_map(corpus, content_transformer(tolower))\n",
    "corpus = tm_map(corpus, removePunctuation)\n",
    "corpus = tm_map(corpus, removeWords, c(stopwords(\"english\")))\n",
    "corpus = tm_map(corpus, stemDocument)"
   ]
  },
  {
   "cell_type": "code",
   "execution_count": 9,
   "metadata": {},
   "outputs": [],
   "source": [
    "dtm = DocumentTermMatrix(corpus)"
   ]
  },
  {
   "cell_type": "code",
   "execution_count": 10,
   "metadata": {},
   "outputs": [
    {
     "data": {
      "text/plain": [
       "<<DocumentTermMatrix (documents: 5728, terms: 28687)>>\n",
       "Non-/sparse entries: 481719/163837417\n",
       "Sparsity           : 100%\n",
       "Maximal term length: 24\n",
       "Weighting          : term frequency (tf)"
      ]
     },
     "metadata": {},
     "output_type": "display_data"
    }
   ],
   "source": [
    "dtm"
   ]
  },
  {
   "cell_type": "code",
   "execution_count": 11,
   "metadata": {},
   "outputs": [],
   "source": [
    "spdtm = removeSparseTerms(dtm, 0.95)"
   ]
  },
  {
   "cell_type": "code",
   "execution_count": 12,
   "metadata": {},
   "outputs": [
    {
     "data": {
      "text/plain": [
       "<<DocumentTermMatrix (documents: 5728, terms: 330)>>\n",
       "Non-/sparse entries: 213551/1676689\n",
       "Sparsity           : 89%\n",
       "Maximal term length: 10\n",
       "Weighting          : term frequency (tf)"
      ]
     },
     "metadata": {},
     "output_type": "display_data"
    }
   ],
   "source": [
    "spdtm"
   ]
  },
  {
   "cell_type": "code",
   "execution_count": 13,
   "metadata": {},
   "outputs": [
    {
     "data": {
      "text/html": [
       "<strong>enron:</strong> 92"
      ],
      "text/latex": [
       "\\textbf{enron:} 92"
      ],
      "text/markdown": [
       "**enron:** 92"
      ],
      "text/plain": [
       "enron \n",
       "   92 "
      ]
     },
     "metadata": {},
     "output_type": "display_data"
    }
   ],
   "source": [
    "emailsSparse = as.data.frame(as.matrix(spdtm))\n",
    "colnames(emailsSparse) = make.names(colnames(emailsSparse))\n",
    "which.max(colSums(emailsSparse))"
   ]
  },
  {
   "cell_type": "code",
   "execution_count": 15,
   "metadata": {},
   "outputs": [],
   "source": [
    "emailsSparse$spam = emails$spam"
   ]
  },
  {
   "cell_type": "code",
   "execution_count": 16,
   "metadata": {},
   "outputs": [
    {
     "data": {
      "text/html": [
       "6"
      ],
      "text/latex": [
       "6"
      ],
      "text/markdown": [
       "6"
      ],
      "text/plain": [
       "[1] 6"
      ]
     },
     "metadata": {},
     "output_type": "display_data"
    }
   ],
   "source": [
    "sum(colSums(subset(emailsSparse, spam == 0)) > 5000)"
   ]
  },
  {
   "cell_type": "code",
   "execution_count": 17,
   "metadata": {},
   "outputs": [
    {
     "data": {
      "text/html": [
       "3"
      ],
      "text/latex": [
       "3"
      ],
      "text/markdown": [
       "3"
      ],
      "text/plain": [
       "[1] 3"
      ]
     },
     "metadata": {},
     "output_type": "display_data"
    }
   ],
   "source": [
    "sum(colSums(subset(emailsSparse, spam == 1)) >= 1000) - 1"
   ]
  },
  {
   "cell_type": "code",
   "execution_count": 18,
   "metadata": {},
   "outputs": [],
   "source": [
    "library(caTools)\n",
    "\n",
    "emailsSparse$spam = as.factor(emailsSparse$spam)\n",
    "set.seed(123)\n",
    "split = sample.split(emailsSparse$spam, SplitRatio = 0.7)\n",
    "\n",
    "train = subset(emailsSparse, split==TRUE)\n",
    "test = subset(emailsSparse, split==FALSE)"
   ]
  },
  {
   "cell_type": "code",
   "execution_count": 19,
   "metadata": {},
   "outputs": [
    {
     "name": "stderr",
     "output_type": "stream",
     "text": [
      "Warning message:\n",
      "“glm.fit: algorithm did not converge”Warning message:\n",
      "“glm.fit: fitted probabilities numerically 0 or 1 occurred”"
     ]
    }
   ],
   "source": [
    "spamLog = glm(spam ~., data = train, family = binomial)"
   ]
  },
  {
   "cell_type": "code",
   "execution_count": 21,
   "metadata": {},
   "outputs": [],
   "source": [
    "library(rpart)\n",
    "library(rpart.plot)\n",
    "spamCART = rpart(spam ~., data = train, method = \"class\")"
   ]
  },
  {
   "cell_type": "code",
   "execution_count": 24,
   "metadata": {},
   "outputs": [],
   "source": [
    "library(randomForest)\n",
    "set.seed(123)\n",
    "spamRF = randomForest(spam ~., data = train)"
   ]
  },
  {
   "cell_type": "code",
   "execution_count": 26,
   "metadata": {},
   "outputs": [],
   "source": [
    "predictLog = predict(spamLog)\n",
    "predictCART = predict(spamCART)[,2]\n",
    "predictRF = predict(spamRF, type=\"prob\")[,2]"
   ]
  },
  {
   "cell_type": "code",
   "execution_count": 27,
   "metadata": {},
   "outputs": [
    {
     "data": {
      "text/html": [
       "3056"
      ],
      "text/latex": [
       "3056"
      ],
      "text/markdown": [
       "3056"
      ],
      "text/plain": [
       "[1] 3056"
      ]
     },
     "metadata": {},
     "output_type": "display_data"
    },
    {
     "data": {
      "text/html": [
       "954"
      ],
      "text/latex": [
       "954"
      ],
      "text/markdown": [
       "954"
      ],
      "text/plain": [
       "[1] 954"
      ]
     },
     "metadata": {},
     "output_type": "display_data"
    },
    {
     "data": {
      "text/html": [
       "0"
      ],
      "text/latex": [
       "0"
      ],
      "text/markdown": [
       "0"
      ],
      "text/plain": [
       "[1] 0"
      ]
     },
     "metadata": {},
     "output_type": "display_data"
    }
   ],
   "source": [
    "sum(predictLog < 0.00001)\n",
    "sum(predictLog > 0.99999)\n",
    "sum(predictLog < 0.99999 && predictLog > 0.00001)"
   ]
  },
  {
   "cell_type": "code",
   "execution_count": 28,
   "metadata": {},
   "outputs": [
    {
     "data": {
      "text/html": [
       "4010"
      ],
      "text/latex": [
       "4010"
      ],
      "text/markdown": [
       "4010"
      ],
      "text/plain": [
       "[1] 4010"
      ]
     },
     "metadata": {},
     "output_type": "display_data"
    }
   ],
   "source": [
    "nrow(train)"
   ]
  },
  {
   "cell_type": "code",
   "execution_count": 30,
   "metadata": {},
   "outputs": [
    {
     "data": {
      "text/plain": [
       "\n",
       "Call:\n",
       "glm(formula = spam ~ ., family = binomial, data = train)\n",
       "\n",
       "Deviance Residuals: \n",
       "   Min      1Q  Median      3Q     Max  \n",
       "-1.011   0.000   0.000   0.000   1.354  \n",
       "\n",
       "Coefficients:\n",
       "              Estimate Std. Error z value Pr(>|z|)\n",
       "(Intercept) -3.082e+01  1.055e+04  -0.003    0.998\n",
       "X000         1.474e+01  1.058e+04   0.001    0.999\n",
       "X2000       -3.631e+01  1.556e+04  -0.002    0.998\n",
       "X2001       -3.215e+01  1.318e+04  -0.002    0.998\n",
       "X713        -2.427e+01  2.914e+04  -0.001    0.999\n",
       "X853        -1.212e+00  5.942e+04   0.000    1.000\n",
       "abl         -2.049e+00  2.088e+04   0.000    1.000\n",
       "access      -1.480e+01  1.335e+04  -0.001    0.999\n",
       "account      2.488e+01  8.165e+03   0.003    0.998\n",
       "addit        1.463e+00  2.703e+04   0.000    1.000\n",
       "address     -4.613e+00  1.113e+04   0.000    1.000\n",
       "allow        1.899e+01  6.436e+03   0.003    0.998\n",
       "alreadi     -2.407e+01  3.319e+04  -0.001    0.999\n",
       "also         2.990e+01  1.378e+04   0.002    0.998\n",
       "analysi     -2.405e+01  3.860e+04  -0.001    1.000\n",
       "anoth       -8.744e+00  2.032e+04   0.000    1.000\n",
       "applic      -2.649e+00  1.674e+04   0.000    1.000\n",
       "appreci     -2.145e+01  2.762e+04  -0.001    0.999\n",
       "approv      -1.302e+00  1.589e+04   0.000    1.000\n",
       "april       -2.620e+01  2.208e+04  -0.001    0.999\n",
       "area         2.041e+01  2.266e+04   0.001    0.999\n",
       "arrang       1.069e+01  2.135e+04   0.001    1.000\n",
       "ask         -7.746e+00  1.976e+04   0.000    1.000\n",
       "assist      -1.128e+01  2.490e+04   0.000    1.000\n",
       "associ       9.049e+00  1.909e+04   0.000    1.000\n",
       "attach      -1.037e+01  1.534e+04  -0.001    0.999\n",
       "attend      -3.451e+01  3.257e+04  -0.001    0.999\n",
       "avail        8.651e+00  1.709e+04   0.001    1.000\n",
       "back        -1.323e+01  2.272e+04  -0.001    1.000\n",
       "base        -1.354e+01  2.122e+04  -0.001    0.999\n",
       "begin        2.228e+01  2.973e+04   0.001    0.999\n",
       "believ       3.233e+01  2.136e+04   0.002    0.999\n",
       "best        -8.201e+00  1.333e+03  -0.006    0.995\n",
       "better       4.263e+01  2.360e+04   0.002    0.999\n",
       "book         4.301e+00  2.024e+04   0.000    1.000\n",
       "bring        1.607e+01  6.767e+04   0.000    1.000\n",
       "busi        -4.803e+00  1.000e+04   0.000    1.000\n",
       "buy          4.170e+01  3.892e+04   0.001    0.999\n",
       "call        -1.145e+00  1.111e+04   0.000    1.000\n",
       "can          3.762e+00  7.674e+03   0.000    1.000\n",
       "case        -3.372e+01  2.880e+04  -0.001    0.999\n",
       "chang       -2.717e+01  2.215e+04  -0.001    0.999\n",
       "check        1.425e+00  1.963e+04   0.000    1.000\n",
       "click        1.376e+01  7.077e+03   0.002    0.998\n",
       "com          1.936e+00  4.039e+03   0.000    1.000\n",
       "come        -1.166e+00  1.511e+04   0.000    1.000\n",
       "comment     -3.251e+00  3.387e+04   0.000    1.000\n",
       "communic     1.580e+01  8.958e+03   0.002    0.999\n",
       "compani      4.781e+00  9.186e+03   0.001    1.000\n",
       "complet     -1.363e+01  2.024e+04  -0.001    0.999\n",
       "confer      -7.503e-01  8.557e+03   0.000    1.000\n",
       "confirm     -1.300e+01  1.514e+04  -0.001    0.999\n",
       "contact      1.530e+00  1.262e+04   0.000    1.000\n",
       "continu      1.487e+01  1.535e+04   0.001    0.999\n",
       "contract    -1.295e+01  1.498e+04  -0.001    0.999\n",
       "copi        -4.274e+01  3.070e+04  -0.001    0.999\n",
       "corp         1.606e+01  2.708e+04   0.001    1.000\n",
       "corpor      -8.286e-01  2.818e+04   0.000    1.000\n",
       "cost        -1.938e+00  1.833e+04   0.000    1.000\n",
       "cours        1.665e+01  1.834e+04   0.001    0.999\n",
       "creat        1.338e+01  3.946e+04   0.000    1.000\n",
       "credit       2.617e+01  1.314e+04   0.002    0.998\n",
       "crenshaw     9.994e+01  6.769e+04   0.001    0.999\n",
       "current      3.629e+00  1.707e+04   0.000    1.000\n",
       "custom       1.829e+01  1.008e+04   0.002    0.999\n",
       "data        -2.609e+01  2.271e+04  -0.001    0.999\n",
       "date        -2.786e+00  1.699e+04   0.000    1.000\n",
       "day         -6.100e+00  5.866e+03  -0.001    0.999\n",
       "deal        -1.129e+01  1.448e+04  -0.001    0.999\n",
       "dear        -2.313e+00  2.306e+04   0.000    1.000\n",
       "depart      -4.068e+01  2.509e+04  -0.002    0.999\n",
       "deriv       -4.971e+01  3.587e+04  -0.001    0.999\n",
       "design      -7.923e+00  2.939e+04   0.000    1.000\n",
       "detail       1.197e+01  2.301e+04   0.001    1.000\n",
       "develop      5.976e+00  9.455e+03   0.001    0.999\n",
       "differ      -2.293e+00  1.075e+04   0.000    1.000\n",
       "direct      -2.051e+01  3.194e+04  -0.001    0.999\n",
       "director    -1.770e+01  1.793e+04  -0.001    0.999\n",
       "discuss     -1.051e+01  1.915e+04  -0.001    1.000\n",
       "doc         -2.597e+01  2.603e+04  -0.001    0.999\n",
       "don          2.129e+01  1.456e+04   0.001    0.999\n",
       "done         6.828e+00  1.882e+04   0.000    1.000\n",
       "due         -4.163e+00  3.532e+04   0.000    1.000\n",
       "ect          8.685e-01  5.342e+03   0.000    1.000\n",
       "edu         -2.122e-01  6.917e+02   0.000    1.000\n",
       "effect       1.948e+01  2.100e+04   0.001    0.999\n",
       "effort       1.606e+01  5.670e+04   0.000    1.000\n",
       "either      -2.744e+01  4.000e+04  -0.001    0.999\n",
       "email        3.833e+00  1.186e+04   0.000    1.000\n",
       "end         -1.311e+01  2.938e+04   0.000    1.000\n",
       "energi      -1.620e+01  1.646e+04  -0.001    0.999\n",
       "engin        2.664e+01  2.394e+04   0.001    0.999\n",
       "enron       -8.789e+00  5.719e+03  -0.002    0.999\n",
       "etc          9.470e-01  1.569e+04   0.000    1.000\n",
       "even        -1.654e+01  2.289e+04  -0.001    0.999\n",
       "event        1.694e+01  1.851e+04   0.001    0.999\n",
       "expect      -1.179e+01  1.914e+04  -0.001    1.000\n",
       "experi       2.460e+00  2.240e+04   0.000    1.000\n",
       "fax          3.537e+00  3.386e+04   0.000    1.000\n",
       "feel         2.596e+00  2.348e+04   0.000    1.000\n",
       "file        -2.943e+01  2.165e+04  -0.001    0.999\n",
       "final        8.075e+00  5.008e+04   0.000    1.000\n",
       "financ      -9.122e+00  7.524e+03  -0.001    0.999\n",
       "financi     -9.747e+00  1.727e+04  -0.001    1.000\n",
       "find        -2.623e+00  9.727e+03   0.000    1.000\n",
       "first       -4.666e-01  2.043e+04   0.000    1.000\n",
       "follow       1.766e+01  3.080e+03   0.006    0.995\n",
       "form         8.483e+00  1.674e+04   0.001    1.000\n",
       "forward     -3.484e+00  1.864e+04   0.000    1.000\n",
       "free         6.113e+00  8.121e+03   0.001    0.999\n",
       "friday      -1.146e+01  1.996e+04  -0.001    1.000\n",
       "full         2.125e+01  2.190e+04   0.001    0.999\n",
       "futur        4.146e+01  1.439e+04   0.003    0.998\n",
       "gas         -3.901e+00  4.160e+03  -0.001    0.999\n",
       "get          5.154e+00  9.737e+03   0.001    1.000\n",
       "gibner       2.901e+01  2.460e+04   0.001    0.999\n",
       "give        -2.518e+01  2.130e+04  -0.001    0.999\n",
       "given       -2.186e+01  5.426e+04   0.000    1.000\n",
       "good         5.399e+00  1.619e+04   0.000    1.000\n",
       "great        1.222e+01  1.090e+04   0.001    0.999\n",
       "group        5.264e-01  1.037e+04   0.000    1.000\n",
       "happi        1.939e-02  1.202e+04   0.000    1.000\n",
       "hear         2.887e+01  2.281e+04   0.001    0.999\n",
       "hello        2.166e+01  1.361e+04   0.002    0.999\n",
       "help         1.731e+01  2.791e+03   0.006    0.995\n",
       "high        -1.982e+00  2.554e+04   0.000    1.000\n",
       "home         5.973e+00  8.965e+03   0.001    0.999\n",
       "hope        -1.435e+01  2.179e+04  -0.001    0.999\n",
       "hou          6.852e+00  6.437e+03   0.001    0.999\n",
       "hour         2.478e+00  1.333e+04   0.000    1.000\n",
       "houston     -1.855e+01  7.305e+03  -0.003    0.998\n",
       "howev       -3.449e+01  3.562e+04  -0.001    0.999\n",
       "http         2.528e+01  2.107e+04   0.001    0.999\n",
       "idea        -1.845e+01  3.892e+04   0.000    1.000\n",
       "immedi       6.285e+01  3.346e+04   0.002    0.999\n",
       "import      -1.859e+00  2.236e+04   0.000    1.000\n",
       "includ      -3.454e+00  1.799e+04   0.000    1.000\n",
       "increas      6.476e+00  2.329e+04   0.000    1.000\n",
       "industri    -3.160e+01  2.373e+04  -0.001    0.999\n",
       "info        -1.255e+00  4.857e+03   0.000    1.000\n",
       "inform       2.078e+01  8.549e+03   0.002    0.998\n",
       "interest     2.698e+01  1.159e+04   0.002    0.998\n",
       "intern      -7.991e+00  3.351e+04   0.000    1.000\n",
       "internet     8.749e+00  1.100e+04   0.001    0.999\n",
       "interview   -1.640e+01  1.873e+04  -0.001    0.999\n",
       "invest       3.201e+01  2.393e+04   0.001    0.999\n",
       "invit        4.304e+00  2.215e+04   0.000    1.000\n",
       "involv       3.815e+01  3.315e+04   0.001    0.999\n",
       "issu        -3.708e+01  3.396e+04  -0.001    0.999\n",
       "john        -5.326e-01  2.856e+04   0.000    1.000\n",
       "join        -3.824e+01  2.334e+04  -0.002    0.999\n",
       "juli        -1.358e+01  3.009e+04   0.000    1.000\n",
       "just        -1.021e+01  1.114e+04  -0.001    0.999\n",
       "kaminski    -1.812e+01  6.029e+03  -0.003    0.998\n",
       "keep         1.867e+01  2.782e+04   0.001    0.999\n",
       "kevin       -3.779e+01  4.738e+04  -0.001    0.999\n",
       "know         1.277e+01  1.526e+04   0.001    0.999\n",
       "last         1.046e+00  1.372e+04   0.000    1.000\n",
       "let         -2.763e+01  1.462e+04  -0.002    0.998\n",
       "life         5.812e+01  3.864e+04   0.002    0.999\n",
       "like         5.649e+00  7.660e+03   0.001    0.999\n",
       "line         8.743e+00  1.236e+04   0.001    0.999\n",
       "link        -6.929e+00  1.345e+04  -0.001    1.000\n",
       "list        -8.692e+00  2.149e+03  -0.004    0.997\n",
       "locat        2.073e+01  1.597e+04   0.001    0.999\n",
       "london       6.745e+00  1.642e+04   0.000    1.000\n",
       "long        -1.489e+01  1.934e+04  -0.001    0.999\n",
       "look        -7.031e+00  1.563e+04   0.000    1.000\n",
       "lot         -1.964e+01  1.321e+04  -0.001    0.999\n",
       "made         2.820e+00  2.743e+04   0.000    1.000\n",
       "mail         7.584e+00  1.021e+04   0.001    0.999\n",
       "make         2.901e+01  1.528e+04   0.002    0.998\n",
       "manag        6.014e+00  1.445e+04   0.000    1.000\n",
       "mani         1.885e+01  1.442e+04   0.001    0.999\n",
       "mark        -3.350e+01  3.208e+04  -0.001    0.999\n",
       "market       7.895e+00  8.012e+03   0.001    0.999\n",
       "may         -9.434e+00  1.397e+04  -0.001    0.999\n",
       "mean         6.078e-01  2.952e+04   0.000    1.000\n",
       "meet        -1.063e+00  1.263e+04   0.000    1.000\n",
       "member       1.381e+01  2.343e+04   0.001    1.000\n",
       "mention     -2.279e+01  2.714e+04  -0.001    0.999\n",
       "messag       1.716e+01  2.562e+03   0.007    0.995\n",
       "might        1.244e+01  1.753e+04   0.001    0.999\n",
       "model       -2.292e+01  1.049e+04  -0.002    0.998\n",
       "monday      -1.034e+00  3.233e+04   0.000    1.000\n",
       "money        3.264e+01  1.321e+04   0.002    0.998\n",
       "month       -3.727e+00  1.112e+04   0.000    1.000\n",
       "morn        -2.645e+01  3.403e+04  -0.001    0.999\n",
       "move        -3.834e+01  3.011e+04  -0.001    0.999\n",
       "much         3.775e-01  1.392e+04   0.000    1.000\n",
       "name         1.672e+01  1.322e+04   0.001    0.999\n",
       "need         8.437e-01  1.221e+04   0.000    1.000\n",
       "net          1.256e+01  2.197e+04   0.001    1.000\n",
       "new          1.003e+00  1.009e+04   0.000    1.000\n",
       "next.        1.492e+01  1.724e+04   0.001    0.999\n",
       "note         1.446e+01  2.294e+04   0.001    0.999\n",
       "now          3.790e+01  1.219e+04   0.003    0.998\n",
       "number      -9.622e+00  1.591e+04  -0.001    1.000\n",
       "offer        1.174e+01  1.084e+04   0.001    0.999\n",
       "offic       -1.344e+01  2.311e+04  -0.001    1.000\n",
       "one          1.241e+01  6.652e+03   0.002    0.999\n",
       "onlin        3.589e+01  1.665e+04   0.002    0.998\n",
       "open         2.114e+01  2.961e+04   0.001    0.999\n",
       "oper        -1.696e+01  2.757e+04  -0.001    1.000\n",
       "opportun    -4.131e+00  1.918e+04   0.000    1.000\n",
       "option      -1.085e+00  9.325e+03   0.000    1.000\n",
       "order        6.533e+00  1.242e+04   0.001    1.000\n",
       "origin       3.226e+01  3.818e+04   0.001    0.999\n",
       "part         4.594e+00  3.483e+04   0.000    1.000\n",
       "particip    -1.154e+01  1.738e+04  -0.001    0.999\n",
       "peopl       -1.864e+01  1.439e+04  -0.001    0.999\n",
       "per          1.367e+01  1.273e+04   0.001    0.999\n",
       "person       1.870e+01  9.575e+03   0.002    0.998\n",
       "phone       -6.957e+00  1.172e+04  -0.001    1.000\n",
       "place        9.005e+00  3.661e+04   0.000    1.000\n",
       "plan        -1.830e+01  6.320e+03  -0.003    0.998\n",
       "pleas       -7.961e+00  9.484e+03  -0.001    0.999\n",
       "point        5.498e+00  3.403e+04   0.000    1.000\n",
       "posit       -1.543e+01  2.316e+04  -0.001    0.999\n",
       "possibl     -1.366e+01  2.492e+04  -0.001    1.000\n",
       "power       -5.643e+00  1.173e+04   0.000    1.000\n",
       "present     -6.163e+00  1.278e+04   0.000    1.000\n",
       "price        3.428e+00  7.850e+03   0.000    1.000\n",
       "problem      1.262e+01  9.763e+03   0.001    0.999\n",
       "process     -2.957e-01  1.191e+04   0.000    1.000\n",
       "product      1.016e+01  1.345e+04   0.001    0.999\n",
       "program      1.444e+00  1.183e+04   0.000    1.000\n",
       "project      2.173e+00  1.497e+04   0.000    1.000\n",
       "provid       2.422e-01  1.859e+04   0.000    1.000\n",
       "public      -5.250e+01  2.341e+04  -0.002    0.998\n",
       "put         -1.052e+01  2.681e+04   0.000    1.000\n",
       "question    -3.467e+01  1.859e+04  -0.002    0.999\n",
       "rate        -3.112e+00  1.319e+04   0.000    1.000\n",
       "read        -1.527e+01  2.145e+04  -0.001    0.999\n",
       "real         2.046e+01  2.358e+04   0.001    0.999\n",
       "realli      -2.667e+01  4.640e+04  -0.001    1.000\n",
       "receiv       5.765e-01  1.585e+04   0.000    1.000\n",
       "recent      -2.067e+00  1.780e+04   0.000    1.000\n",
       "regard      -3.668e+00  1.511e+04   0.000    1.000\n",
       "relat       -5.114e+01  1.793e+04  -0.003    0.998\n",
       "remov        2.325e+01  2.484e+04   0.001    0.999\n",
       "repli        1.538e+01  2.916e+04   0.001    1.000\n",
       "report      -1.482e+01  1.477e+04  -0.001    0.999\n",
       "request     -1.232e+01  1.167e+04  -0.001    0.999\n",
       "requir       5.004e-01  2.937e+04   0.000    1.000\n",
       "research    -2.826e+01  1.553e+04  -0.002    0.999\n",
       "resourc     -2.735e+01  3.522e+04  -0.001    0.999\n",
       "respond      2.974e+01  3.888e+04   0.001    0.999\n",
       "respons     -1.960e+01  3.667e+04  -0.001    1.000\n",
       "result      -5.002e-01  3.140e+04   0.000    1.000\n",
       "resum       -9.219e+00  2.100e+04   0.000    1.000\n",
       "return       1.745e+01  1.844e+04   0.001    0.999\n",
       "review      -4.825e+00  1.013e+04   0.000    1.000\n",
       "right        2.312e+01  1.590e+04   0.001    0.999\n",
       "risk        -4.001e+00  1.718e+04   0.000    1.000\n",
       "robert      -2.096e+01  2.907e+04  -0.001    0.999\n",
       "run         -5.162e+01  4.434e+04  -0.001    0.999\n",
       "say          7.366e+00  2.217e+04   0.000    1.000\n",
       "schedul      1.919e+00  3.580e+04   0.000    1.000\n",
       "school      -3.870e+00  2.882e+04   0.000    1.000\n",
       "secur       -1.604e+01  2.201e+03  -0.007    0.994\n",
       "see         -1.120e+01  1.293e+04  -0.001    0.999\n",
       "send        -2.427e+01  1.222e+04  -0.002    0.998\n",
       "sent        -1.488e+01  2.195e+04  -0.001    0.999\n",
       "servic      -7.164e+00  1.235e+04  -0.001    1.000\n",
       "set         -9.353e+00  2.627e+04   0.000    1.000\n",
       "sever        2.041e+01  3.093e+04   0.001    0.999\n",
       "shall        1.930e+01  3.075e+04   0.001    0.999\n",
       "shirley     -7.133e+01  6.329e+04  -0.001    0.999\n",
       "short       -8.974e+00  1.721e+04  -0.001    1.000\n",
       "sinc        -3.438e+00  3.546e+04   0.000    1.000\n",
       "sincer      -2.073e+01  3.515e+04  -0.001    1.000\n",
       "site         8.689e+00  1.496e+04   0.001    1.000\n",
       "softwar      2.575e+01  1.059e+04   0.002    0.998\n",
       "soon         2.350e+01  3.731e+04   0.001    0.999\n",
       "sorri        6.036e+00  2.299e+04   0.000    1.000\n",
       "special      1.777e+01  2.755e+04   0.001    0.999\n",
       "specif      -2.337e+01  3.083e+04  -0.001    0.999\n",
       "start        1.437e+01  1.897e+04   0.001    0.999\n",
       "state        1.221e+01  1.677e+04   0.001    0.999\n",
       "still        3.878e+00  2.622e+04   0.000    1.000\n",
       "stinson     -4.345e+01  2.697e+04  -0.002    0.999\n",
       "student     -1.815e+01  2.186e+04  -0.001    0.999\n",
       "subject      3.041e+01  1.055e+04   0.003    0.998\n",
       "success      4.344e+00  2.783e+04   0.000    1.000\n",
       "suggest     -3.842e+01  4.475e+04  -0.001    0.999\n",
       "support     -1.539e+01  1.976e+04  -0.001    0.999\n",
       "sure        -5.503e+00  2.078e+04   0.000    1.000\n",
       "system       3.778e+00  9.149e+03   0.000    1.000\n",
       "take         5.731e+00  1.716e+04   0.000    1.000\n",
       "talk        -1.011e+01  2.021e+04  -0.001    1.000\n",
       "team         7.940e+00  2.570e+04   0.000    1.000\n",
       "term         2.013e+01  2.303e+04   0.001    0.999\n",
       "thank       -3.890e+01  1.059e+04  -0.004    0.997\n",
       "thing        2.579e+01  1.341e+04   0.002    0.998\n",
       "think       -1.218e+01  2.077e+04  -0.001    1.000\n",
       "thought      1.243e+01  3.023e+04   0.000    1.000\n",
       "thursday    -1.491e+01  3.262e+04   0.000    1.000\n",
       "time        -5.921e+00  8.335e+03  -0.001    0.999\n",
       "today       -1.762e+01  1.965e+04  -0.001    0.999\n",
       "togeth      -2.355e+01  1.869e+04  -0.001    0.999\n",
       "trade       -1.755e+01  1.483e+04  -0.001    0.999\n",
       "tri          9.278e-01  1.282e+04   0.000    1.000\n",
       "tuesday     -2.808e+01  3.959e+04  -0.001    0.999\n",
       "two         -2.573e+01  1.844e+04  -0.001    0.999\n",
       "type        -1.447e+01  2.755e+04  -0.001    1.000\n",
       "understand   9.307e+00  2.342e+04   0.000    1.000\n",
       "unit        -4.020e+00  3.008e+04   0.000    1.000\n",
       "univers      1.228e+01  2.197e+04   0.001    1.000\n",
       "updat       -1.510e+01  1.448e+04  -0.001    0.999\n",
       "use         -1.385e+01  9.382e+03  -0.001    0.999\n",
       "valu         9.024e-01  1.360e+04   0.000    1.000\n",
       "version     -3.606e+01  2.939e+04  -0.001    0.999\n",
       "vinc        -3.735e+01  8.647e+03  -0.004    0.997\n",
       "visit        2.585e+01  1.170e+04   0.002    0.998\n",
       "vkamin      -6.649e+01  5.703e+04  -0.001    0.999\n",
       "want        -2.555e+00  1.106e+04   0.000    1.000\n",
       "way          1.339e+01  1.138e+04   0.001    0.999\n",
       "web          2.791e+00  1.686e+04   0.000    1.000\n",
       "websit      -2.563e+01  1.848e+04  -0.001    0.999\n",
       "wednesday   -1.526e+01  2.642e+04  -0.001    1.000\n",
       "week        -6.795e+00  1.046e+04  -0.001    0.999\n",
       "well        -2.222e+01  9.713e+03  -0.002    0.998\n",
       "will        -1.119e+01  5.980e+03  -0.002    0.999\n",
       "wish         1.173e+01  3.175e+04   0.000    1.000\n",
       "within       2.900e+01  2.163e+04   0.001    0.999\n",
       "without      1.942e+01  1.763e+04   0.001    0.999\n",
       "work        -1.099e+01  1.160e+04  -0.001    0.999\n",
       "write        4.406e+01  2.825e+04   0.002    0.999\n",
       "www         -7.867e+00  2.224e+04   0.000    1.000\n",
       "year        -1.010e+01  1.039e+04  -0.001    0.999\n",
       "\n",
       "(Dispersion parameter for binomial family taken to be 1)\n",
       "\n",
       "    Null deviance: 4409.49  on 4009  degrees of freedom\n",
       "Residual deviance:   13.46  on 3679  degrees of freedom\n",
       "AIC: 675.46\n",
       "\n",
       "Number of Fisher Scoring iterations: 25\n"
      ]
     },
     "metadata": {},
     "output_type": "display_data"
    }
   ],
   "source": [
    "summary(spamLog)"
   ]
  },
  {
   "cell_type": "code",
   "execution_count": 31,
   "metadata": {},
   "outputs": [
    {
     "data": {
      "image/png": "[encoded data removed]",
      "text/plain": [
       "plot without title"
      ]
     },
     "metadata": {},
     "output_type": "display_data"
    }
   ],
   "source": [
    "prp(spamCART)"
   ]
  },
  {
   "cell_type": "code",
   "execution_count": 34,
   "metadata": {},
   "outputs": [
    {
     "data": {
      "text/plain": [
       "       \n",
       "           0    1\n",
       "  FALSE 3052    4\n",
       "  TRUE     0  954"
      ]
     },
     "metadata": {},
     "output_type": "display_data"
    }
   ],
   "source": [
    "table(predictLog > 0.5, train$spam)"
   ]
  },
  {
   "cell_type": "code",
   "execution_count": 36,
   "metadata": {},
   "outputs": [
    {
     "data": {
      "text/html": [
       "0.999002493765586"
      ],
      "text/latex": [
       "0.999002493765586"
      ],
      "text/markdown": [
       "0.999002493765586"
      ],
      "text/plain": [
       "[1] 0.9990025"
      ]
     },
     "metadata": {},
     "output_type": "display_data"
    }
   ],
   "source": [
    "(3052 + 954) / nrow(train)"
   ]
  },
  {
   "cell_type": "code",
   "execution_count": 37,
   "metadata": {},
   "outputs": [
    {
     "name": "stderr",
     "output_type": "stream",
     "text": [
      "Loading required package: gplots\n",
      "\n",
      "Attaching package: ‘gplots’\n",
      "\n",
      "The following object is masked from ‘package:stats’:\n",
      "\n",
      "    lowess\n",
      "\n"
     ]
    },
    {
     "data": {
      "text/html": [
       "0.999995895774563"
      ],
      "text/latex": [
       "0.999995895774563"
      ],
      "text/markdown": [
       "0.999995895774563"
      ],
      "text/plain": [
       "[1] 0.9999959"
      ]
     },
     "metadata": {},
     "output_type": "display_data"
    }
   ],
   "source": [
    "library(ROCR)\n",
    "as.numeric(performance(prediction(predictLog, train$spam), 'auc')@y.values)"
   ]
  },
  {
   "cell_type": "code",
   "execution_count": 38,
   "metadata": {},
   "outputs": [
    {
     "data": {
      "text/plain": [
       "       \n",
       "           0    1\n",
       "  FALSE 2885   64\n",
       "  TRUE   167  894"
      ]
     },
     "metadata": {},
     "output_type": "display_data"
    },
    {
     "data": {
      "text/html": [
       "0.969604448433144"
      ],
      "text/latex": [
       "0.969604448433144"
      ],
      "text/markdown": [
       "0.969604448433144"
      ],
      "text/plain": [
       "[1] 0.9696044"
      ]
     },
     "metadata": {},
     "output_type": "display_data"
    }
   ],
   "source": [
    "table(predictCART > 0.5, train$spam)\n",
    "as.numeric(performance(prediction(predictCART, train$spam), 'auc')@y.values)"
   ]
  },
  {
   "cell_type": "code",
   "execution_count": 39,
   "metadata": {},
   "outputs": [
    {
     "data": {
      "text/html": [
       "0.942394014962594"
      ],
      "text/latex": [
       "0.942394014962594"
      ],
      "text/markdown": [
       "0.942394014962594"
      ],
      "text/plain": [
       "[1] 0.942394"
      ]
     },
     "metadata": {},
     "output_type": "display_data"
    }
   ],
   "source": [
    "(2885 + 894) / nrow(train)"
   ]
  },
  {
   "cell_type": "code",
   "execution_count": 40,
   "metadata": {},
   "outputs": [
    {
     "data": {
      "text/plain": [
       "       \n",
       "           0    1\n",
       "  FALSE 3015   42\n",
       "  TRUE    37  916"
      ]
     },
     "metadata": {},
     "output_type": "display_data"
    },
    {
     "data": {
      "text/html": [
       "0.997815526011213"
      ],
      "text/latex": [
       "0.997815526011213"
      ],
      "text/markdown": [
       "0.997815526011213"
      ],
      "text/plain": [
       "[1] 0.9978155"
      ]
     },
     "metadata": {},
     "output_type": "display_data"
    }
   ],
   "source": [
    "table(predictRF > 0.5, train$spam)\n",
    "as.numeric(performance(prediction(predictRF, train$spam), 'auc')@y.values)"
   ]
  },
  {
   "cell_type": "code",
   "execution_count": 41,
   "metadata": {},
   "outputs": [
    {
     "data": {
      "text/html": [
       "0.980299251870324"
      ],
      "text/latex": [
       "0.980299251870324"
      ],
      "text/markdown": [
       "0.980299251870324"
      ],
      "text/plain": [
       "[1] 0.9802993"
      ]
     },
     "metadata": {},
     "output_type": "display_data"
    }
   ],
   "source": [
    "(3015 + 916) / nrow(train)"
   ]
  },
  {
   "cell_type": "code",
   "execution_count": 42,
   "metadata": {},
   "outputs": [],
   "source": [
    "predictLog = predict(spamLog, newdata = test)\n",
    "predictCART = predict(spamCART, newdata = test)[,2]\n",
    "predictRF = predict(spamRF, type=\"prob\", newdata = test)[,2]"
   ]
  },
  {
   "cell_type": "code",
   "execution_count": 43,
   "metadata": {},
   "outputs": [
    {
     "data": {
      "text/plain": [
       "       \n",
       "           0    1\n",
       "  FALSE 1258   34\n",
       "  TRUE    50  376"
      ]
     },
     "metadata": {},
     "output_type": "display_data"
    },
    {
     "data": {
      "text/html": [
       "0.976799433131953"
      ],
      "text/latex": [
       "0.976799433131953"
      ],
      "text/markdown": [
       "0.976799433131953"
      ],
      "text/plain": [
       "[1] 0.9767994"
      ]
     },
     "metadata": {},
     "output_type": "display_data"
    },
    {
     "data": {
      "text/plain": [
       "       \n",
       "           0    1\n",
       "  FALSE 1228   24\n",
       "  TRUE    80  386"
      ]
     },
     "metadata": {},
     "output_type": "display_data"
    },
    {
     "data": {
      "text/html": [
       "0.963175952860446"
      ],
      "text/latex": [
       "0.963175952860446"
      ],
      "text/markdown": [
       "0.963175952860446"
      ],
      "text/plain": [
       "[1] 0.963176"
      ]
     },
     "metadata": {},
     "output_type": "display_data"
    },
    {
     "data": {
      "text/plain": [
       "       \n",
       "           0    1\n",
       "  FALSE 1291   23\n",
       "  TRUE    17  387"
      ]
     },
     "metadata": {},
     "output_type": "display_data"
    },
    {
     "data": {
      "text/html": [
       "0.99758987842172"
      ],
      "text/latex": [
       "0.99758987842172"
      ],
      "text/markdown": [
       "0.99758987842172"
      ],
      "text/plain": [
       "[1] 0.9975899"
      ]
     },
     "metadata": {},
     "output_type": "display_data"
    }
   ],
   "source": [
    "table(predictLog > 0.5, test$spam)\n",
    "as.numeric(performance(prediction(predictLog, test$spam), 'auc')@y.values)\n",
    "table(predictCART > 0.5, test$spam)\n",
    "as.numeric(performance(prediction(predictCART, test$spam), 'auc')@y.values)\n",
    "table(predictRF > 0.5, test$spam)\n",
    "as.numeric(performance(prediction(predictRF, test$spam), 'auc')@y.values)"
   ]
  },
  {
   "cell_type": "code",
   "execution_count": 45,
   "metadata": {},
   "outputs": [
    {
     "data": {
      "text/html": [
       "0.951105937136205"
      ],
      "text/latex": [
       "0.951105937136205"
      ],
      "text/markdown": [
       "0.951105937136205"
      ],
      "text/plain": [
       "[1] 0.9511059"
      ]
     },
     "metadata": {},
     "output_type": "display_data"
    },
    {
     "data": {
      "text/html": [
       "0.939464493597206"
      ],
      "text/latex": [
       "0.939464493597206"
      ],
      "text/markdown": [
       "0.939464493597206"
      ],
      "text/plain": [
       "[1] 0.9394645"
      ]
     },
     "metadata": {},
     "output_type": "display_data"
    },
    {
     "data": {
      "text/html": [
       "0.976717112922002"
      ],
      "text/latex": [
       "0.976717112922002"
      ],
      "text/markdown": [
       "0.976717112922002"
      ],
      "text/plain": [
       "[1] 0.9767171"
      ]
     },
     "metadata": {},
     "output_type": "display_data"
    }
   ],
   "source": [
    "(1258 + 376) / nrow(test)\n",
    "(1228 + 386) / nrow(test)\n",
    "(1291 + 387) / nrow(test)"
   ]
  },
  {
   "cell_type": "code",
   "execution_count": null,
   "metadata": {},
   "outputs": [],
   "source": []
  }
 ],
 "metadata": {
  "kernelspec": {
   "display_name": "R",
   "language": "R",
   "name": "ir"
  },
  "language_info": {
   "codemirror_mode": "r",
   "file_extension": ".r",
   "mimetype": "text/x-r-source",
   "name": "R",
   "pygments_lexer": "r",
   "version": "3.2.3"
  }
 },
 "nbformat": 4,
 "nbformat_minor": 2
}
