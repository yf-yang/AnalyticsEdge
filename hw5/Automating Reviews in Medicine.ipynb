{
 "cells": [
  {
   "cell_type": "code",
   "execution_count": 6,
   "metadata": {},
   "outputs": [],
   "source": [
    "trials = read.csv(\"clinical_trial.csv\", fileEncoding=\"latin1\", stringsAsFactors=FALSE)"
   ]
  },
  {
   "cell_type": "code",
   "execution_count": 8,
   "metadata": {},
   "outputs": [
    {
     "data": {
      "text/html": [
       "3708"
      ],
      "text/latex": [
       "3708"
      ],
      "text/markdown": [
       "3708"
      ],
      "text/plain": [
       "[1] 3708"
      ]
     },
     "metadata": {},
     "output_type": "display_data"
    }
   ],
   "source": [
    "max(nchar(trials$abstract))"
   ]
  },
  {
   "cell_type": "code",
   "execution_count": 9,
   "metadata": {},
   "outputs": [
    {
     "data": {
      "text/html": [
       "112"
      ],
      "text/latex": [
       "112"
      ],
      "text/markdown": [
       "112"
      ],
      "text/plain": [
       "[1] 112"
      ]
     },
     "metadata": {},
     "output_type": "display_data"
    }
   ],
   "source": [
    "sum(nchar(trials$abstract) == 0)"
   ]
  },
  {
   "cell_type": "code",
   "execution_count": 13,
   "metadata": {},
   "outputs": [
    {
     "data": {
      "text/html": [
       "'A decade of letrozole: FACE.'"
      ],
      "text/latex": [
       "'A decade of letrozole: FACE.'"
      ],
      "text/markdown": [
       "'A decade of letrozole: FACE.'"
      ],
      "text/plain": [
       "[1] \"A decade of letrozole: FACE.\""
      ]
     },
     "metadata": {},
     "output_type": "display_data"
    }
   ],
   "source": [
    "trials$title[which.min(nchar(trials$title))]"
   ]
  },
  {
   "cell_type": "code",
   "execution_count": 14,
   "metadata": {},
   "outputs": [
    {
     "name": "stderr",
     "output_type": "stream",
     "text": [
      "Loading required package: NLP\n"
     ]
    }
   ],
   "source": [
    "library(tm)\n",
    "library(SnowballC)"
   ]
  },
  {
   "cell_type": "code",
   "execution_count": 20,
   "metadata": {},
   "outputs": [],
   "source": [
    "corpusTitle = VCorpus(VectorSource(trials$title)) \n",
    "corpusTitle = tm_map(corpusTitle, content_transformer(tolower))\n",
    "corpusTitle = tm_map(corpusTitle, removePunctuation)\n",
    "corpusTitle = tm_map(corpusTitle, removeWords, c(stopwords(\"english\")))\n",
    "corpusTitle = tm_map(corpusTitle, stemDocument)\n",
    "\n",
    "corpusAbstract = VCorpus(VectorSource(trials$abstract))\n",
    "corpusAbstract = tm_map(corpusAbstract, content_transformer(tolower))\n",
    "corpusAbstract = tm_map(corpusAbstract, removePunctuation)\n",
    "corpusAbstract = tm_map(corpusAbstract, removeWords, c(stopwords(\"english\")))\n",
    "corpusAbstract = tm_map(corpusAbstract, stemDocument)"
   ]
  },
  {
   "cell_type": "code",
   "execution_count": 21,
   "metadata": {},
   "outputs": [],
   "source": [
    "dtmTitle = DocumentTermMatrix(corpusTitle)\n",
    "dtmTitle = removeSparseTerms(dtmTitle, 0.95)\n",
    "dtmTitle = as.data.frame(as.matrix(dtmTitle))\n",
    "\n",
    "dtmAbstract = DocumentTermMatrix(corpusAbstract)\n",
    "dtmAbstract = removeSparseTerms(dtmAbstract, 0.95)\n",
    "dtmAbstract = as.data.frame(as.matrix(dtmAbstract))"
   ]
  },
  {
   "cell_type": "code",
   "execution_count": 23,
   "metadata": {},
   "outputs": [
    {
     "data": {
      "text/html": [
       "31"
      ],
      "text/latex": [
       "31"
      ],
      "text/markdown": [
       "31"
      ],
      "text/plain": [
       "[1] 31"
      ]
     },
     "metadata": {},
     "output_type": "display_data"
    },
    {
     "data": {
      "text/html": [
       "335"
      ],
      "text/latex": [
       "335"
      ],
      "text/markdown": [
       "335"
      ],
      "text/plain": [
       "[1] 335"
      ]
     },
     "metadata": {},
     "output_type": "display_data"
    }
   ],
   "source": [
    "ncol(dtmTitle)\n",
    "ncol(dtmAbstract)"
   ]
  },
  {
   "cell_type": "code",
   "execution_count": 24,
   "metadata": {},
   "outputs": [
    {
     "data": {
      "text/html": [
       "<strong>patient:</strong> 212"
      ],
      "text/latex": [
       "\\textbf{patient:} 212"
      ],
      "text/markdown": [
       "**patient:** 212"
      ],
      "text/plain": [
       "patient \n",
       "    212 "
      ]
     },
     "metadata": {},
     "output_type": "display_data"
    }
   ],
   "source": [
    "which.max(colSums(dtmAbstract))"
   ]
  },
  {
   "cell_type": "code",
   "execution_count": 25,
   "metadata": {},
   "outputs": [],
   "source": [
    "colnames(dtmTitle) = paste0(\"T\", colnames(dtmTitle))\n",
    "colnames(dtmAbstract) = paste0(\"A\", colnames(dtmAbstract))"
   ]
  },
  {
   "cell_type": "code",
   "execution_count": 26,
   "metadata": {},
   "outputs": [],
   "source": [
    "dtm = cbind(dtmTitle, dtmAbstract)"
   ]
  },
  {
   "cell_type": "code",
   "execution_count": 27,
   "metadata": {},
   "outputs": [],
   "source": [
    "dtm$trial = trials$trial"
   ]
  },
  {
   "cell_type": "code",
   "execution_count": 28,
   "metadata": {},
   "outputs": [
    {
     "data": {
      "text/html": [
       "367"
      ],
      "text/latex": [
       "367"
      ],
      "text/markdown": [
       "367"
      ],
      "text/plain": [
       "[1] 367"
      ]
     },
     "metadata": {},
     "output_type": "display_data"
    }
   ],
   "source": [
    "ncol(dtm)"
   ]
  },
  {
   "cell_type": "code",
   "execution_count": 30,
   "metadata": {},
   "outputs": [],
   "source": [
    "library(caTools)\n",
    "set.seed(144)\n",
    "split = sample.split(dtm$trial, SplitRatio = 0.7)\n",
    "train = subset(dtm, split==TRUE)\n",
    "test = subset(dtm, split==FALSE)"
   ]
  },
  {
   "cell_type": "code",
   "execution_count": 31,
   "metadata": {},
   "outputs": [
    {
     "data": {
      "text/plain": [
       "\n",
       "  0   1 \n",
       "730 572 "
      ]
     },
     "metadata": {},
     "output_type": "display_data"
    }
   ],
   "source": [
    "table(train$trial)"
   ]
  },
  {
   "cell_type": "code",
   "execution_count": 33,
   "metadata": {},
   "outputs": [
    {
     "data": {
      "text/html": [
       "0.560675883256528"
      ],
      "text/latex": [
       "0.560675883256528"
      ],
      "text/markdown": [
       "0.560675883256528"
      ],
      "text/plain": [
       "[1] 0.5606759"
      ]
     },
     "metadata": {},
     "output_type": "display_data"
    }
   ],
   "source": [
    "730 / nrow(train)"
   ]
  },
  {
   "cell_type": "code",
   "execution_count": 34,
   "metadata": {},
   "outputs": [],
   "source": [
    "library(rpart)\n",
    "library(rpart.plot)"
   ]
  },
  {
   "cell_type": "code",
   "execution_count": 37,
   "metadata": {},
   "outputs": [
    {
     "data": {
      "image/png": "[encoded data removed]",
      "text/plain": [
       "plot without title"
      ]
     },
     "metadata": {},
     "output_type": "display_data"
    }
   ],
   "source": [
    "trialCART = rpart(trial ~ ., data = train, method = \"class\")\n",
    "prp(trialCART)"
   ]
  },
  {
   "cell_type": "code",
   "execution_count": 38,
   "metadata": {},
   "outputs": [
    {
     "data": {
      "text/html": [
       "0.871886120996441"
      ],
      "text/latex": [
       "0.871886120996441"
      ],
      "text/markdown": [
       "0.871886120996441"
      ],
      "text/plain": [
       "[1] 0.8718861"
      ]
     },
     "metadata": {},
     "output_type": "display_data"
    }
   ],
   "source": [
    "max(predict(trialCART)[,2])"
   ]
  },
  {
   "cell_type": "code",
   "execution_count": 39,
   "metadata": {},
   "outputs": [
    {
     "data": {
      "text/plain": [
       "   \n",
       "    FALSE TRUE\n",
       "  0   631   99\n",
       "  1   131  441"
      ]
     },
     "metadata": {},
     "output_type": "display_data"
    }
   ],
   "source": [
    "table(train$trial, predict(trialCART)[,2]>0.5)"
   ]
  },
  {
   "cell_type": "code",
   "execution_count": 43,
   "metadata": {},
   "outputs": [
    {
     "data": {
      "text/html": [
       "0.823348694316436"
      ],
      "text/latex": [
       "0.823348694316436"
      ],
      "text/markdown": [
       "0.823348694316436"
      ],
      "text/plain": [
       "[1] 0.8233487"
      ]
     },
     "metadata": {},
     "output_type": "display_data"
    },
    {
     "data": {
      "text/html": [
       "0.770979020979021"
      ],
      "text/latex": [
       "0.770979020979021"
      ],
      "text/markdown": [
       "0.770979020979021"
      ],
      "text/plain": [
       "[1] 0.770979"
      ]
     },
     "metadata": {},
     "output_type": "display_data"
    },
    {
     "data": {
      "text/html": [
       "0.864383561643836"
      ],
      "text/latex": [
       "0.864383561643836"
      ],
      "text/markdown": [
       "0.864383561643836"
      ],
      "text/plain": [
       "[1] 0.8643836"
      ]
     },
     "metadata": {},
     "output_type": "display_data"
    }
   ],
   "source": [
    "(631 + 441) / nrow(train)\n",
    "441 / (441 + 131)\n",
    "631 / (631 + 99)"
   ]
  },
  {
   "cell_type": "code",
   "execution_count": 45,
   "metadata": {},
   "outputs": [],
   "source": [
    "testPredict = predict(trialCART, newdata = test)"
   ]
  },
  {
   "cell_type": "code",
   "execution_count": 46,
   "metadata": {},
   "outputs": [
    {
     "data": {
      "text/plain": [
       "       \n",
       "          0   1\n",
       "  FALSE 261  83\n",
       "  TRUE   52 162"
      ]
     },
     "metadata": {},
     "output_type": "display_data"
    }
   ],
   "source": [
    "table(testPredict[,2] > .5, test$trial)"
   ]
  },
  {
   "cell_type": "code",
   "execution_count": 47,
   "metadata": {},
   "outputs": [
    {
     "data": {
      "text/html": [
       "0.758064516129032"
      ],
      "text/latex": [
       "0.758064516129032"
      ],
      "text/markdown": [
       "0.758064516129032"
      ],
      "text/plain": [
       "[1] 0.7580645"
      ]
     },
     "metadata": {},
     "output_type": "display_data"
    }
   ],
   "source": [
    "(261 + 162) / nrow(test)"
   ]
  },
  {
   "cell_type": "code",
   "execution_count": 55,
   "metadata": {},
   "outputs": [
    {
     "data": {
      "text/html": [
       "0.837106344135098"
      ],
      "text/latex": [
       "0.837106344135098"
      ],
      "text/markdown": [
       "0.837106344135098"
      ],
      "text/plain": [
       "[1] 0.8371063"
      ]
     },
     "metadata": {},
     "output_type": "display_data"
    }
   ],
   "source": [
    "library(ROCR)\n",
    "as.numeric(performance(prediction(testPredict[,2], test$trial), \"auc\")@y.values)"
   ]
  },
  {
   "cell_type": "code",
   "execution_count": null,
   "metadata": {},
   "outputs": [],
   "source": []
  }
 ],
 "metadata": {
  "kernelspec": {
   "display_name": "R",
   "language": "R",
   "name": "ir"
  },
  "language_info": {
   "codemirror_mode": "r",
   "file_extension": ".r",
   "mimetype": "text/x-r-source",
   "name": "R",
   "pygments_lexer": "r",
   "version": "3.2.3"
  }
 },
 "nbformat": 4,
 "nbformat_minor": 2
}
