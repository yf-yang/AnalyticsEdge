{
 "cells": [
  {
   "cell_type": "code",
   "execution_count": 2,
   "metadata": {},
   "outputs": [
    {
     "name": "stdout",
     "output_type": "stream",
     "text": [
      "'data.frame':\t458005 obs. of  16 variables:\n",
      " $ age              : int  85 59 67 52 67 68 75 70 67 67 ...\n",
      " $ alzheimers       : int  0 0 0 0 0 0 0 0 0 0 ...\n",
      " $ arthritis        : int  0 0 0 0 0 0 0 0 0 0 ...\n",
      " $ cancer           : int  0 0 0 0 0 0 0 0 0 0 ...\n",
      " $ copd             : int  0 0 0 0 0 0 0 0 0 0 ...\n",
      " $ depression       : int  0 0 0 0 0 0 0 0 0 0 ...\n",
      " $ diabetes         : int  0 0 0 0 0 0 0 0 0 0 ...\n",
      " $ heart.failure    : int  0 0 0 0 0 0 0 0 0 0 ...\n",
      " $ ihd              : int  0 0 0 0 0 0 0 0 0 0 ...\n",
      " $ kidney           : int  0 0 0 0 0 0 0 0 0 0 ...\n",
      " $ osteoporosis     : int  0 0 0 0 0 0 0 0 0 0 ...\n",
      " $ stroke           : int  0 0 0 0 0 0 0 0 0 0 ...\n",
      " $ reimbursement2008: int  0 0 0 0 0 0 0 0 0 0 ...\n",
      " $ bucket2008       : int  1 1 1 1 1 1 1 1 1 1 ...\n",
      " $ reimbursement2009: int  0 0 0 0 0 0 0 0 0 0 ...\n",
      " $ bucket2009       : int  1 1 1 1 1 1 1 1 1 1 ...\n"
     ]
    },
    {
     "data": {
      "text/plain": [
       "\n",
       "          1           2           3           4           5 \n",
       "0.671267781 0.190170413 0.089466272 0.043324855 0.005770679 "
      ]
     },
     "metadata": {},
     "output_type": "display_data"
    }
   ],
   "source": [
    "# Read in the data\n",
    "Claims = read.csv(\"ClaimsData.csv\")\n",
    "\n",
    "str(Claims)\n",
    "\n",
    "# Percentage of patients in each cost bucket\n",
    "table(Claims$bucket2009)/nrow(Claims)\n",
    "\n",
    "# Split the data\n",
    "library(caTools)\n",
    "\n",
    "set.seed(88)\n",
    "\n",
    "spl = sample.split(Claims$bucket2009, SplitRatio = 0.6)\n",
    "\n",
    "ClaimsTrain = subset(Claims, spl==TRUE)\n",
    "\n",
    "ClaimsTest = subset(Claims, spl==FALSE)"
   ]
  },
  {
   "cell_type": "code",
   "execution_count": 3,
   "metadata": {},
   "outputs": [
    {
     "data": {
      "text/plain": [
       "      age           alzheimers       arthritis          cancer       \n",
       " Min.   : 26.00   Min.   :0.0000   Min.   :0.0000   Min.   :0.00000  \n",
       " 1st Qu.: 67.00   1st Qu.:0.0000   1st Qu.:0.0000   1st Qu.:0.00000  \n",
       " Median : 73.00   Median :0.0000   Median :0.0000   Median :0.00000  \n",
       " Mean   : 72.64   Mean   :0.1928   Mean   :0.1546   Mean   :0.06402  \n",
       " 3rd Qu.: 81.00   3rd Qu.:0.0000   3rd Qu.:0.0000   3rd Qu.:0.00000  \n",
       " Max.   :100.00   Max.   :1.0000   Max.   :1.0000   Max.   :1.00000  \n",
       "      copd          depression        diabetes      heart.failure   \n",
       " Min.   :0.0000   Min.   :0.0000   Min.   :0.0000   Min.   :0.0000  \n",
       " 1st Qu.:0.0000   1st Qu.:0.0000   1st Qu.:0.0000   1st Qu.:0.0000  \n",
       " Median :0.0000   Median :0.0000   Median :0.0000   Median :0.0000  \n",
       " Mean   :0.1369   Mean   :0.2129   Mean   :0.3809   Mean   :0.2852  \n",
       " 3rd Qu.:0.0000   3rd Qu.:0.0000   3rd Qu.:1.0000   3rd Qu.:1.0000  \n",
       " Max.   :1.0000   Max.   :1.0000   Max.   :1.0000   Max.   :1.0000  \n",
       "      ihd             kidney        osteoporosis        stroke       \n",
       " Min.   :0.0000   Min.   :0.0000   Min.   :0.0000   Min.   :0.00000  \n",
       " 1st Qu.:0.0000   1st Qu.:0.0000   1st Qu.:0.0000   1st Qu.:0.00000  \n",
       " Median :0.0000   Median :0.0000   Median :0.0000   Median :0.00000  \n",
       " Mean   :0.4205   Mean   :0.1616   Mean   :0.1738   Mean   :0.04497  \n",
       " 3rd Qu.:1.0000   3rd Qu.:0.0000   3rd Qu.:0.0000   3rd Qu.:0.00000  \n",
       " Max.   :1.0000   Max.   :1.0000   Max.   :1.0000   Max.   :1.00000  \n",
       " reimbursement2008   bucket2008    reimbursement2009   bucket2009   \n",
       " Min.   :     0    Min.   :1.000   Min.   :     0    Min.   :1.000  \n",
       " 1st Qu.:     0    1st Qu.:1.000   1st Qu.:   130    1st Qu.:1.000  \n",
       " Median :   960    Median :1.000   Median :  1540    Median :1.000  \n",
       " Mean   :  4016    Mean   :1.438   Mean   :  4280    Mean   :1.522  \n",
       " 3rd Qu.:  3110    3rd Qu.:2.000   3rd Qu.:  4220    3rd Qu.:2.000  \n",
       " Max.   :194910    Max.   :5.000   Max.   :158800    Max.   :5.000  "
      ]
     },
     "metadata": {},
     "output_type": "display_data"
    }
   ],
   "source": [
    "summary(ClaimsTrain)"
   ]
  },
  {
   "cell_type": "code",
   "execution_count": 4,
   "metadata": {},
   "outputs": [
    {
     "data": {
      "text/plain": [
       "   \n",
       "         1      2      3      4      5\n",
       "  1 110138   7787   3427   1452    174\n",
       "  2  16000  10721   4629   2931    559\n",
       "  3   7006   4629   2774   1621    360\n",
       "  4   2688   1943   1415   1539    352\n",
       "  5    293    191    160    309    104"
      ]
     },
     "metadata": {},
     "output_type": "display_data"
    },
    {
     "data": {
      "text/plain": [
       "   \n",
       "        1     2     3     4     5\n",
       "  1     0  7787  6854  4356   696\n",
       "  2 32000     0  4629  5862  1677\n",
       "  3 28024  9258     0  1621   720\n",
       "  4 16128  7772  2830     0   352\n",
       "  5  2344  1146   640   618     0"
      ]
     },
     "metadata": {},
     "output_type": "display_data"
    },
    {
     "data": {
      "text/html": [
       "0.73860547373937"
      ],
      "text/latex": [
       "0.73860547373937"
      ],
      "text/markdown": [
       "0.73860547373937"
      ],
      "text/plain": [
       "[1] 0.7386055"
      ]
     },
     "metadata": {},
     "output_type": "display_data"
    }
   ],
   "source": [
    "# Baseline method\n",
    "table(ClaimsTest$bucket2009, ClaimsTest$bucket2008)\n",
    "\n",
    "# Penalty Matrix\n",
    "PenaltyMatrix = matrix(c(0,1,2,3,4,2,0,1,2,3,4,2,0,1,2,6,4,2,0,1,8,6,4,2,0), byrow=TRUE, nrow=5)\n",
    "\n",
    "# Penalty Error of Baseline Method\n",
    "as.matrix(table(ClaimsTest$bucket2009, ClaimsTest$bucket2008))*PenaltyMatrix\n",
    "\n",
    "sum(as.matrix(table(ClaimsTest$bucket2009, ClaimsTest$bucket2008))*PenaltyMatrix)/nrow(ClaimsTest)"
   ]
  },
  {
   "cell_type": "code",
   "execution_count": 10,
   "metadata": {},
   "outputs": [
    {
     "data": {
      "text/html": [
       "0.6712699643017"
      ],
      "text/latex": [
       "0.6712699643017"
      ],
      "text/markdown": [
       "0.6712699643017"
      ],
      "text/plain": [
       "[1] 0.67127"
      ]
     },
     "metadata": {},
     "output_type": "display_data"
    },
    {
     "data": {
      "text/html": [
       "1.04430082641019"
      ],
      "text/latex": [
       "1.04430082641019"
      ],
      "text/markdown": [
       "1.04430082641019"
      ],
      "text/plain": [
       "[1] 1.044301"
      ]
     },
     "metadata": {},
     "output_type": "display_data"
    }
   ],
   "source": [
    "table(ClaimsTest$bucket2009, rep(1, nrow(ClaimsTest)))[1,1] / nrow(ClaimsTest)\n",
    "sum(as.matrix(table(ClaimsTest$bucket2009, rep(1, nrow(ClaimsTest))))*PenaltyMatrix[,1])/nrow(ClaimsTest)"
   ]
  },
  {
   "cell_type": "code",
   "execution_count": 6,
   "metadata": {},
   "outputs": [
    {
     "data": {
      "text/html": [
       "183202"
      ],
      "text/latex": [
       "183202"
      ],
      "text/markdown": [
       "183202"
      ],
      "text/plain": [
       "[1] 183202"
      ]
     },
     "metadata": {},
     "output_type": "display_data"
    }
   ],
   "source": []
  },
  {
   "cell_type": "code",
   "execution_count": null,
   "metadata": {},
   "outputs": [],
   "source": []
  }
 ],
 "metadata": {
  "kernelspec": {
   "display_name": "R",
   "language": "R",
   "name": "ir"
  },
  "language_info": {
   "codemirror_mode": "r",
   "file_extension": ".r",
   "mimetype": "text/x-r-source",
   "name": "R",
   "pygments_lexer": "r",
   "version": "3.4.4"
  }
 },
 "nbformat": 4,
 "nbformat_minor": 2
}
