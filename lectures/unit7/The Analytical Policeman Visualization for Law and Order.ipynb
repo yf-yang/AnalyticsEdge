{
 "cells": [
  {
   "cell_type": "code",
   "execution_count": 1,
   "metadata": {},
   "outputs": [],
   "source": [
    "# Load our data:\n",
    "mvt = read.csv(\"mvt.csv\", stringsAsFactors=FALSE)"
   ]
  },
  {
   "cell_type": "code",
   "execution_count": 2,
   "metadata": {},
   "outputs": [],
   "source": [
    "# Convert the Date variable to a format that R will recognize:\n",
    "mvt$Date = strptime(mvt$Date, format=\"%m/%d/%y %H:%M\")\n",
    "\n",
    "# Extract the hour and the day of the week:\n",
    "mvt$Weekday = weekdays(mvt$Date)\n",
    "mvt$Hour = mvt$Date$hour"
   ]
  },
  {
   "cell_type": "code",
   "execution_count": 3,
   "metadata": {},
   "outputs": [
    {
     "name": "stderr",
     "output_type": "stream",
     "text": [
      "Loading required package: ggplot2\n"
     ]
    }
   ],
   "source": [
    "library(maps)\n",
    "library(ggmap)"
   ]
  },
  {
   "cell_type": "code",
   "execution_count": 15,
   "metadata": {},
   "outputs": [
    {
     "name": "stderr",
     "output_type": "stream",
     "text": [
      "Map from URL : http://tile.stamen.com/terrain/11/523/759.jpg\n"
     ]
    },
    {
     "ename": "ERROR",
     "evalue": "Error in readJPEG(tmp): JPEG decompression error: Not a JPEG file: starts with 0x89 0x50\n",
     "output_type": "error",
     "traceback": [
      "Error in readJPEG(tmp): JPEG decompression error: Not a JPEG file: starts with 0x89 0x50\nTraceback:\n",
      "1. get_map(location = c(left = -88, bottom = 41.5, right = -87.4, \n .     top = 42.1), zoom = 11, source = \"stamen\")",
      "2. get_stamenmap(bbox = location, zoom = zoom, maptype = maptype, \n .     crop = crop, messaging = messaging, urlonly = urlonly, filename = filename, \n .     force = force, color = color)",
      "3. lapply(split(tilesNeeded, 1:nrow(tilesNeeded)), function(v) {\n .     v <- as.numeric(v)\n .     get_stamenmap_tile(maptype, zoom, v[1], v[2], force = force, \n .         messaging = messaging)\n . })",
      "4. FUN(X[[i]], ...)",
      "5. get_stamenmap_tile(maptype, zoom, v[1], v[2], force = force, \n .     messaging = messaging)",
      "6. readJPEG(tmp)"
     ]
    }
   ],
   "source": [
    "# Load a map of Chicago into R:\n",
    "chicago = get_map(location = c(left = -88, bottom = 41.5, right = -87.4, top = 42.1), zoom = 11, source = \"stamen\")"
   ]
  },
  {
   "cell_type": "code",
   "execution_count": 19,
   "metadata": {},
   "outputs": [],
   "source": [
    "# Round our latitude and longitude to 2 digits of accuracy, and create a crime counts data frame for each area:\n",
    "LatLonCounts = as.data.frame(table(round(mvt$Longitude,2), round(mvt$Latitude,2)))"
   ]
  },
  {
   "cell_type": "code",
   "execution_count": 20,
   "metadata": {},
   "outputs": [],
   "source": [
    "# Convert our Longitude and Latitude variable to numbers:\n",
    "LatLonCounts$Long = as.numeric(as.character(LatLonCounts$Var1))\n",
    "LatLonCounts$Lat = as.numeric(as.character(LatLonCounts$Var2))"
   ]
  },
  {
   "cell_type": "code",
   "execution_count": null,
   "metadata": {},
   "outputs": [],
   "source": [
    "# We can also use the geom_tile geometry\n",
    "ggmap(chicago) + geom_tile(data = LatLonCounts, aes(x = Long, y = Lat, alpha = Freq), fill=\"red\")"
   ]
  },
  {
   "cell_type": "code",
   "execution_count": 21,
   "metadata": {},
   "outputs": [
    {
     "name": "stdout",
     "output_type": "stream",
     "text": [
      "'data.frame':\t1638 obs. of  5 variables:\n",
      " $ Var1: Factor w/ 42 levels \"-87.93\",\"-87.92\",..: 1 2 3 4 5 6 7 8 9 10 ...\n",
      " $ Var2: Factor w/ 39 levels \"41.64\",\"41.65\",..: 1 1 1 1 1 1 1 1 1 1 ...\n",
      " $ Freq: int  0 0 0 0 0 0 0 0 0 0 ...\n",
      " $ Long: num  -87.9 -87.9 -87.9 -87.9 -87.9 ...\n",
      " $ Lat : num  41.6 41.6 41.6 41.6 41.6 ...\n"
     ]
    }
   ],
   "source": [
    "str(LatLonCounts)"
   ]
  },
  {
   "cell_type": "code",
   "execution_count": 22,
   "metadata": {},
   "outputs": [
    {
     "data": {
      "text/html": [
       "952"
      ],
      "text/latex": [
       "952"
      ],
      "text/markdown": [
       "952"
      ],
      "text/plain": [
       "[1] 952"
      ]
     },
     "metadata": {},
     "output_type": "display_data"
    }
   ],
   "source": [
    "sum(LatLonCounts$Freq == 0)"
   ]
  },
  {
   "cell_type": "code",
   "execution_count": 18,
   "metadata": {},
   "outputs": [
    {
     "ename": "ERROR",
     "evalue": "Error in eval(expr, envir, enclos): object 'freq' not found\n",
     "output_type": "error",
     "traceback": [
      "Error in eval(expr, envir, enclos): object 'freq' not found\nTraceback:\n",
      "1. str(subset(mvt, freq == 0))",
      "2. subset(mvt, freq == 0)",
      "3. subset.data.frame(mvt, freq == 0)",
      "4. eval(e, x, parent.frame())",
      "5. eval(expr, envir, enclos)"
     ]
    }
   ],
   "source": [
    "str(subset(mvt, freq == 0))"
   ]
  },
  {
   "cell_type": "code",
   "execution_count": 17,
   "metadata": {},
   "outputs": [
    {
     "name": "stdout",
     "output_type": "stream",
     "text": [
      "'data.frame':\t191641 obs. of  5 variables:\n",
      " $ Date     : POSIXlt, format: \"2012-12-31 23:15:00\" \"2012-12-31 22:00:00\" ...\n",
      " $ Latitude : num  41.8 41.9 42 41.8 41.8 ...\n",
      " $ Longitude: num  -87.6 -87.7 -87.8 -87.7 -87.6 ...\n",
      " $ Weekday  : chr  \"星期一\" \"星期一\" \"星期一\" \"星期一\" ...\n",
      " $ Hour     : int  23 22 22 22 21 20 20 20 19 18 ...\n"
     ]
    }
   ],
   "source": [
    "str(mvt)"
   ]
  },
  {
   "cell_type": "code",
   "execution_count": 24,
   "metadata": {},
   "outputs": [],
   "source": [
    "murderer = read.csv(\"murders.csv\")"
   ]
  },
  {
   "cell_type": "code",
   "execution_count": 25,
   "metadata": {},
   "outputs": [
    {
     "data": {
      "text/plain": [
       "        State      Population       PopulationDensity      Murders      \n",
       " Alabama   : 1   Min.   :  563626   Min.   :    1.264   Min.   :   7.0  \n",
       " Alaska    : 1   1st Qu.: 1696962   1st Qu.:   46.185   1st Qu.:  49.5  \n",
       " Arizona   : 1   Median : 4339367   Median :  102.600   Median : 151.0  \n",
       " Arkansas  : 1   Mean   : 6075769   Mean   :  394.549   Mean   : 273.2  \n",
       " California: 1   3rd Qu.: 6636084   3rd Qu.:  224.350   3rd Qu.: 394.0  \n",
       " Colorado  : 1   Max.   :37253956   Max.   :10298.000   Max.   :1811.0  \n",
       " (Other)   :45                                                          \n",
       "   GunMurders      GunOwnership   \n",
       " Min.   :   2.0   Min.   :0.0360  \n",
       " 1st Qu.:  24.5   1st Qu.:0.3055  \n",
       " Median :  97.0   Median :0.3980  \n",
       " Mean   : 184.4   Mean   :0.3695  \n",
       " 3rd Qu.: 268.0   3rd Qu.:0.4400  \n",
       " Max.   :1257.0   Max.   :0.5970  \n",
       "                                  "
      ]
     },
     "metadata": {},
     "output_type": "display_data"
    }
   ],
   "source": [
    "summary(murderer)"
   ]
  },
  {
   "cell_type": "code",
   "execution_count": 26,
   "metadata": {},
   "outputs": [
    {
     "name": "stdout",
     "output_type": "stream",
     "text": [
      "'data.frame':\t51 obs. of  6 variables:\n",
      " $ State            : Factor w/ 51 levels \"Alabama\",\"Alaska\",..: 1 2 3 4 5 6 7 8 9 10 ...\n",
      " $ Population       : int  4779736 710231 6392017 2915918 37253956 5029196 3574097 897934 601723 19687653 ...\n",
      " $ PopulationDensity: num  94.65 1.26 57.05 56.43 244.2 ...\n",
      " $ Murders          : int  199 31 352 130 1811 117 131 48 131 987 ...\n",
      " $ GunMurders       : int  135 19 232 93 1257 65 97 38 99 669 ...\n",
      " $ GunOwnership     : num  0.517 0.578 0.311 0.553 0.213 0.347 0.167 0.255 0.036 0.245 ...\n"
     ]
    }
   ],
   "source": [
    "str(murderer)"
   ]
  },
  {
   "cell_type": "code",
   "execution_count": 37,
   "metadata": {},
   "outputs": [
    {
     "data": {
      "text/html": [
       "<table>\n",
       "<thead><tr><th></th><th scope=col>State</th><th scope=col>Population</th><th scope=col>PopulationDensity</th><th scope=col>Murders</th><th scope=col>GunMurders</th><th scope=col>GunOwnership</th></tr></thead>\n",
       "<tbody>\n",
       "\t<tr><th scope=row>5</th><td>California</td><td>37253956  </td><td>244.200   </td><td>1811      </td><td>1257      </td><td>0.213     </td></tr>\n",
       "\t<tr><th scope=row>19</th><td>Louisiana </td><td> 4533372  </td><td>105.000   </td><td> 437      </td><td> 351      </td><td>0.441     </td></tr>\n",
       "\t<tr><th scope=row>26</th><td>Missouri  </td><td> 5988927  </td><td> 87.260   </td><td> 419      </td><td> 321      </td><td>0.417     </td></tr>\n",
       "\t<tr><th scope=row>27</th><td>Montana   </td><td>  989415  </td><td>  6.858   </td><td>  21      </td><td>  12      </td><td>0.577     </td></tr>\n",
       "\t<tr><th scope=row>44</th><td>Texas     </td><td>25145561  </td><td> 98.070   </td><td>1246      </td><td> 805      </td><td>0.359     </td></tr>\n",
       "</tbody>\n",
       "</table>\n"
      ],
      "text/latex": [
       "\\begin{tabular}{r|llllll}\n",
       "  & State & Population & PopulationDensity & Murders & GunMurders & GunOwnership\\\\\n",
       "\\hline\n",
       "\t5 & California & 37253956   & 244.200    & 1811       & 1257       & 0.213     \\\\\n",
       "\t19 & Louisiana  &  4533372   & 105.000    &  437       &  351       & 0.441     \\\\\n",
       "\t26 & Missouri   &  5988927   &  87.260    &  419       &  321       & 0.417     \\\\\n",
       "\t27 & Montana    &   989415   &   6.858    &   21       &   12       & 0.577     \\\\\n",
       "\t44 & Texas      & 25145561   &  98.070    & 1246       &  805       & 0.359     \\\\\n",
       "\\end{tabular}\n"
      ],
      "text/markdown": [
       "\n",
       "| <!--/--> | State | Population | PopulationDensity | Murders | GunMurders | GunOwnership | \n",
       "|---|---|---|---|---|\n",
       "| 5 | California | 37253956   | 244.200    | 1811       | 1257       | 0.213      | \n",
       "| 19 | Louisiana  |  4533372   | 105.000    |  437       |  351       | 0.441      | \n",
       "| 26 | Missouri   |  5988927   |  87.260    |  419       |  321       | 0.417      | \n",
       "| 27 | Montana    |   989415   |   6.858    |   21       |   12       | 0.577      | \n",
       "| 44 | Texas      | 25145561   |  98.070    | 1246       |  805       | 0.359      | \n",
       "\n",
       "\n"
      ],
      "text/plain": [
       "   State      Population PopulationDensity Murders GunMurders GunOwnership\n",
       "5  California 37253956   244.200           1811    1257       0.213       \n",
       "19 Louisiana   4533372   105.000            437     351       0.441       \n",
       "26 Missouri    5988927    87.260            419     321       0.417       \n",
       "27 Montana      989415     6.858             21      12       0.577       \n",
       "44 Texas      25145561    98.070           1246     805       0.359       "
      ]
     },
     "metadata": {},
     "output_type": "display_data"
    }
   ],
   "source": [
    "murderer[murderer$State %in% c(\"California\", \"Montana\", \"Texas\", \"Louisiana\", \"Missouri\"), ]"
   ]
  },
  {
   "cell_type": "code",
   "execution_count": 28,
   "metadata": {},
   "outputs": [
    {
     "data": {
      "text/html": [
       "51"
      ],
      "text/latex": [
       "51"
      ],
      "text/markdown": [
       "51"
      ],
      "text/plain": [
       "[1] 51"
      ]
     },
     "metadata": {},
     "output_type": "display_data"
    }
   ],
   "source": [
    "which.max(murderer$GunOwnership)"
   ]
  },
  {
   "cell_type": "code",
   "execution_count": null,
   "metadata": {},
   "outputs": [],
   "source": []
  }
 ],
 "metadata": {
  "kernelspec": {
   "display_name": "R",
   "language": "R",
   "name": "ir"
  },
  "language_info": {
   "codemirror_mode": "r",
   "file_extension": ".r",
   "mimetype": "text/x-r-source",
   "name": "R",
   "pygments_lexer": "r",
   "version": "3.2.3"
  }
 },
 "nbformat": 4,
 "nbformat_minor": 2
}
