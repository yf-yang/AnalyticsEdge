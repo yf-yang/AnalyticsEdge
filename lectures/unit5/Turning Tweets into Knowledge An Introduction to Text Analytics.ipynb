{
 "cells": [
  {
   "cell_type": "code",
   "execution_count": 1,
   "metadata": {},
   "outputs": [
    {
     "name": "stdout",
     "output_type": "stream",
     "text": [
      "'data.frame':\t1181 obs. of  2 variables:\n",
      " $ Tweet: chr  \"I have to say, Apple has by far the best customer care service I have ever received! @Apple @AppStore\" \"iOS 7 is so fricking smooth & beautiful!! #ThanxApple @Apple\" \"LOVE U @APPLE\" \"Thank you @apple, loving my new iPhone 5S!!!!!  #apple #iphone5S pic.twitter.com/XmHJCU4pcb\" ...\n",
      " $ Avg  : num  2 2 1.8 1.8 1.8 1.8 1.8 1.6 1.6 1.6 ...\n"
     ]
    }
   ],
   "source": [
    "tweets = read.csv(\"tweets.csv\", stringsAsFactors=FALSE)\n",
    "\n",
    "str(tweets)"
   ]
  },
  {
   "cell_type": "code",
   "execution_count": 2,
   "metadata": {},
   "outputs": [
    {
     "data": {
      "text/plain": [
       "\n",
       "FALSE  TRUE \n",
       "  999   182 "
      ]
     },
     "metadata": {},
     "output_type": "display_data"
    }
   ],
   "source": [
    "tweets$Negative = as.factor(tweets$Avg <= -1)\n",
    "\n",
    "table(tweets$Negative)"
   ]
  },
  {
   "cell_type": "code",
   "execution_count": 4,
   "metadata": {},
   "outputs": [
    {
     "name": "stderr",
     "output_type": "stream",
     "text": [
      "Loading required package: NLP\n"
     ]
    }
   ],
   "source": [
    "library(tm)\n",
    "library(SnowballC)"
   ]
  },
  {
   "cell_type": "code",
   "execution_count": 5,
   "metadata": {},
   "outputs": [],
   "source": [
    "corpus = VCorpus(VectorSource(tweets$Tweet)) "
   ]
  },
  {
   "cell_type": "code",
   "execution_count": 6,
   "metadata": {},
   "outputs": [],
   "source": [
    "corpus = tm_map(corpus, content_transformer(tolower))\n",
    "corpus = tm_map(corpus, removePunctuation)\n",
    "corpus = tm_map(corpus, removeWords, c(\"apple\", stopwords(\"english\")))\n",
    "corpus = tm_map(corpus, stemDocument)"
   ]
  },
  {
   "cell_type": "code",
   "execution_count": 8,
   "metadata": {},
   "outputs": [
    {
     "data": {
      "text/html": [
       "<ol class=list-inline>\n",
       "\t<li>'iphon'</li>\n",
       "\t<li>'itun'</li>\n",
       "\t<li>'new'</li>\n",
       "</ol>\n"
      ],
      "text/latex": [
       "\\begin{enumerate*}\n",
       "\\item 'iphon'\n",
       "\\item 'itun'\n",
       "\\item 'new'\n",
       "\\end{enumerate*}\n"
      ],
      "text/markdown": [
       "1. 'iphon'\n",
       "2. 'itun'\n",
       "3. 'new'\n",
       "\n",
       "\n"
      ],
      "text/plain": [
       "[1] \"iphon\" \"itun\"  \"new\"  "
      ]
     },
     "metadata": {},
     "output_type": "display_data"
    }
   ],
   "source": [
    "frequencies = DocumentTermMatrix(corpus)\n",
    "findFreqTerms(frequencies, lowfreq=100)"
   ]
  },
  {
   "cell_type": "code",
   "execution_count": 10,
   "metadata": {},
   "outputs": [
    {
     "data": {
      "text/plain": [
       "<<DocumentTermMatrix (documents: 1181, terms: 309)>>\n",
       "Non-/sparse entries: 4669/360260\n",
       "Sparsity           : 99%\n",
       "Maximal term length: 20\n",
       "Weighting          : term frequency (tf)"
      ]
     },
     "metadata": {},
     "output_type": "display_data"
    }
   ],
   "source": [
    "sparse = removeSparseTerms(frequencies, 0.995)\n",
    "sparse\n",
    "\n",
    "# Convert to a data frame\n",
    "\n",
    "tweetsSparse = as.data.frame(as.matrix(sparse))\n",
    "\n",
    "# Make all variable names R-friendly\n",
    "\n",
    "colnames(tweetsSparse) = make.names(colnames(tweetsSparse))\n",
    "\n",
    "# Add dependent variable\n",
    "\n",
    "tweetsSparse$Negative = tweets$Negative"
   ]
  },
  {
   "cell_type": "code",
   "execution_count": 11,
   "metadata": {},
   "outputs": [],
   "source": [
    "library(caTools)\n",
    "\n",
    "set.seed(123)\n",
    "\n",
    "split = sample.split(tweetsSparse$Negative, SplitRatio = 0.7)\n",
    "\n",
    "trainSparse = subset(tweetsSparse, split==TRUE)\n",
    "testSparse = subset(tweetsSparse, split==FALSE)"
   ]
  },
  {
   "cell_type": "code",
   "execution_count": 13,
   "metadata": {},
   "outputs": [
    {
     "name": "stderr",
     "output_type": "stream",
     "text": [
      "Warning message:\n",
      "“glm.fit: algorithm did not converge”Warning message:\n",
      "“glm.fit: fitted probabilities numerically 0 or 1 occurred”Warning message in predict.lm(object, newdata, se.fit, scale = 1, type = ifelse(type == :\n",
      "“prediction from a rank-deficient fit may be misleading”"
     ]
    }
   ],
   "source": [
    "logit = glm(Negative ~ ., data=trainSparse, family=binomial)\n",
    "prediction = predict(logit, newdata = testSparse, type = \"response\")"
   ]
  },
  {
   "cell_type": "code",
   "execution_count": 15,
   "metadata": {},
   "outputs": [
    {
     "data": {
      "text/plain": [
       "       \n",
       "        FALSE TRUE\n",
       "  FALSE   252   24\n",
       "  TRUE     48   31"
      ]
     },
     "metadata": {},
     "output_type": "display_data"
    }
   ],
   "source": [
    "table(prediction > 0.5, testSparse$Negative)"
   ]
  },
  {
   "cell_type": "code",
   "execution_count": 16,
   "metadata": {},
   "outputs": [
    {
     "data": {
      "text/html": [
       "0.797183098591549"
      ],
      "text/latex": [
       "0.797183098591549"
      ],
      "text/markdown": [
       "0.797183098591549"
      ],
      "text/plain": [
       "[1] 0.7971831"
      ]
     },
     "metadata": {},
     "output_type": "display_data"
    }
   ],
   "source": [
    "(252 + 31) / nrow(testSparse)"
   ]
  },
  {
   "cell_type": "code",
   "execution_count": null,
   "metadata": {},
   "outputs": [],
   "source": []
  }
 ],
 "metadata": {
  "kernelspec": {
   "display_name": "R",
   "language": "R",
   "name": "ir"
  },
  "language_info": {
   "codemirror_mode": "r",
   "file_extension": ".r",
   "mimetype": "text/x-r-source",
   "name": "R",
   "pygments_lexer": "r",
   "version": "3.2.3"
  }
 },
 "nbformat": 4,
 "nbformat_minor": 2
}
