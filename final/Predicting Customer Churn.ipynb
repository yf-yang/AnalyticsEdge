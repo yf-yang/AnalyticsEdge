{
 "cells": [
  {
   "cell_type": "code",
   "execution_count": 1,
   "metadata": {},
   "outputs": [
    {
     "data": {
      "text/plain": [
       "    gender     SeniorCitizen    Partner    Dependents     tenure     \n",
       " Female:3483   Min.   :0.0000   No :3639   No :4933   Min.   : 1.00  \n",
       " Male  :3549   1st Qu.:0.0000   Yes:3393   Yes:2099   1st Qu.: 9.00  \n",
       "               Median :0.0000                         Median :29.00  \n",
       "               Mean   :0.1624                         Mean   :32.42  \n",
       "               3rd Qu.:0.0000                         3rd Qu.:55.00  \n",
       "               Max.   :1.0000                         Max.   :72.00  \n",
       " PhoneService    InternetService           Contract    PaperlessBilling\n",
       " No : 680     DSL        :2416   Month-to-month:3875   No :2864        \n",
       " Yes:6352     Fiber optic:3096   One year      :1472   Yes:4168        \n",
       "              No         :1520   Two year      :1685                   \n",
       "                                                                       \n",
       "                                                                       \n",
       "                                                                       \n",
       "                   PaymentMethod  MonthlyCharges    TotalCharges   \n",
       " Bank transfer (automatic):1542   Min.   : 18.25   Min.   :  18.8  \n",
       " Credit card (automatic)  :1521   1st Qu.: 35.59   1st Qu.: 401.4  \n",
       " Electronic check         :2365   Median : 70.35   Median :1397.5  \n",
       " Mailed check             :1604   Mean   : 64.80   Mean   :2283.3  \n",
       "                                  3rd Qu.: 89.86   3rd Qu.:3794.7  \n",
       "                                  Max.   :118.75   Max.   :8684.8  \n",
       "     Churn       \n",
       " Min.   :0.0000  \n",
       " 1st Qu.:0.0000  \n",
       " Median :0.0000  \n",
       " Mean   :0.2658  \n",
       " 3rd Qu.:1.0000  \n",
       " Max.   :1.0000  "
      ]
     },
     "metadata": {},
     "output_type": "display_data"
    },
    {
     "name": "stdout",
     "output_type": "stream",
     "text": [
      "'data.frame':\t7032 obs. of  13 variables:\n",
      " $ gender          : Factor w/ 2 levels \"Female\",\"Male\": 1 2 2 2 1 1 2 1 1 2 ...\n",
      " $ SeniorCitizen   : int  0 0 0 0 0 0 0 0 0 0 ...\n",
      " $ Partner         : Factor w/ 2 levels \"No\",\"Yes\": 2 1 1 1 1 1 1 1 2 1 ...\n",
      " $ Dependents      : Factor w/ 2 levels \"No\",\"Yes\": 1 1 1 1 1 1 2 1 1 2 ...\n",
      " $ tenure          : int  1 34 2 45 2 8 22 10 28 62 ...\n",
      " $ PhoneService    : Factor w/ 2 levels \"No\",\"Yes\": 1 2 2 1 2 2 2 1 2 2 ...\n",
      " $ InternetService : Factor w/ 3 levels \"DSL\",\"Fiber optic\",..: 1 1 1 1 2 2 2 1 2 1 ...\n",
      " $ Contract        : Factor w/ 3 levels \"Month-to-month\",..: 1 2 1 2 1 1 1 1 1 2 ...\n",
      " $ PaperlessBilling: Factor w/ 2 levels \"No\",\"Yes\": 2 1 2 1 2 2 2 1 2 1 ...\n",
      " $ PaymentMethod   : Factor w/ 4 levels \"Bank transfer (automatic)\",..: 3 4 4 1 3 3 2 4 3 1 ...\n",
      " $ MonthlyCharges  : num  29.9 57 53.9 42.3 70.7 ...\n",
      " $ TotalCharges    : num  29.9 1889.5 108.2 1840.8 151.7 ...\n",
      " $ Churn           : int  0 0 1 0 1 1 0 0 1 0 ...\n"
     ]
    }
   ],
   "source": [
    "customers = read.csv('telco-churn.csv')\n",
    "summary(customers)\n",
    "str(customers)"
   ]
  },
  {
   "cell_type": "code",
   "execution_count": 2,
   "metadata": {},
   "outputs": [
    {
     "data": {
      "text/html": [
       "1869"
      ],
      "text/latex": [
       "1869"
      ],
      "text/markdown": [
       "1869"
      ],
      "text/plain": [
       "[1] 1869"
      ]
     },
     "metadata": {},
     "output_type": "display_data"
    }
   ],
   "source": [
    "sum(customers$Churn)"
   ]
  },
  {
   "cell_type": "code",
   "execution_count": 10,
   "metadata": {},
   "outputs": [
    {
     "name": "stderr",
     "output_type": "stream",
     "text": [
      "ERROR while rich displaying an object: Error in dn[[2L]]: subscript out of bounds\n",
      "\n",
      "Traceback:\n",
      "1. FUN(X[[i]], ...)\n",
      "2. tryCatch(withCallingHandlers({\n",
      " .     if (!mime %in% names(repr::mime2repr)) \n",
      " .         stop(\"No repr_* for mimetype \", mime, \" in repr::mime2repr\")\n",
      " .     rpr <- repr::mime2repr[[mime]](obj)\n",
      " .     if (is.null(rpr)) \n",
      " .         return(NULL)\n",
      " .     prepare_content(is.raw(rpr), rpr)\n",
      " . }, error = error_handler), error = outer_handler)\n",
      "3. tryCatchList(expr, classes, parentenv, handlers)\n",
      "4. tryCatchOne(expr, names, parentenv, handlers[[1L]])\n",
      "5. doTryCatch(return(expr), name, parentenv, handler)\n",
      "6. withCallingHandlers({\n",
      " .     if (!mime %in% names(repr::mime2repr)) \n",
      " .         stop(\"No repr_* for mimetype \", mime, \" in repr::mime2repr\")\n",
      " .     rpr <- repr::mime2repr[[mime]](obj)\n",
      " .     if (is.null(rpr)) \n",
      " .         return(NULL)\n",
      " .     prepare_content(is.raw(rpr), rpr)\n",
      " . }, error = error_handler)\n",
      "7. repr::mime2repr[[mime]](obj)\n",
      "8. repr_markdown.numeric(obj)\n",
      "9. repr_vector_generic(html_escape_names(obj), \"%s. %s\\n\", \"%s\\n:   %s\", \n",
      " .     \"**%s:** %s\", \"%s\\n\\n\", item_uses_numbers = TRUE, escape_fun = html_escape)\n",
      "10. html_escape_names(obj)\n",
      "11. .escape_names(obj, \"html\")\n",
      "12. colnames(obj)\n",
      "ERROR while rich displaying an object: Error in dn[[2L]]: subscript out of bounds\n",
      "\n",
      "Traceback:\n",
      "1. FUN(X[[i]], ...)\n",
      "2. tryCatch(withCallingHandlers({\n",
      " .     if (!mime %in% names(repr::mime2repr)) \n",
      " .         stop(\"No repr_* for mimetype \", mime, \" in repr::mime2repr\")\n",
      " .     rpr <- repr::mime2repr[[mime]](obj)\n",
      " .     if (is.null(rpr)) \n",
      " .         return(NULL)\n",
      " .     prepare_content(is.raw(rpr), rpr)\n",
      " . }, error = error_handler), error = outer_handler)\n",
      "3. tryCatchList(expr, classes, parentenv, handlers)\n",
      "4. tryCatchOne(expr, names, parentenv, handlers[[1L]])\n",
      "5. doTryCatch(return(expr), name, parentenv, handler)\n",
      "6. withCallingHandlers({\n",
      " .     if (!mime %in% names(repr::mime2repr)) \n",
      " .         stop(\"No repr_* for mimetype \", mime, \" in repr::mime2repr\")\n",
      " .     rpr <- repr::mime2repr[[mime]](obj)\n",
      " .     if (is.null(rpr)) \n",
      " .         return(NULL)\n",
      " .     prepare_content(is.raw(rpr), rpr)\n",
      " . }, error = error_handler)\n",
      "7. repr::mime2repr[[mime]](obj)\n",
      "8. repr_latex.numeric(obj)\n",
      "9. repr_vector_generic(latex_escape_names(obj), \"\\\\item %s\\n\", \"\\\\item[%s] %s\\n\", \n",
      " .     \"\\\\textbf{%s:} %s\", enum_wrap = \"\\\\begin{enumerate*}\\n%s\\\\end{enumerate*}\\n\", \n",
      " .     named_wrap = \"\\\\begin{description*}\\n%s\\\\end{description*}\\n\", \n",
      " .     only_named_item = \"\\\\textbf{%s:} %s\", escape_fun = latex_escape)\n",
      "10. latex_escape_names(obj)\n",
      "11. .escape_names(obj, \"latex\")\n",
      "12. colnames(obj)\n"
     ]
    },
    {
     "data": {
      "text/html": [
       "<dl class=dl-horizontal>\n",
       "\t<dt>FALSE</dt>\n",
       "\t\t<dd>62.8339721254355</dd>\n",
       "\t<dt>TRUE</dt>\n",
       "\t\t<dd>66.3984903225806</dd>\n",
       "</dl>\n"
      ],
      "text/plain": [
       "   FALSE     TRUE \n",
       "62.83397 66.39849 "
      ]
     },
     "metadata": {},
     "output_type": "display_data"
    }
   ],
   "source": [
    "tapply(customers$MonthlyCharges, customers$Contract == 'Month-to-month', mean)"
   ]
  },
  {
   "cell_type": "code",
   "execution_count": 13,
   "metadata": {},
   "outputs": [],
   "source": [
    "library(caTools)\n",
    "set.seed(1)\n",
    "spl = sample.split(customers$Churn, SplitRatio = 0.7)\n",
    "train = subset(customers, spl == TRUE)\n",
    "test = subset(customers, spl == FALSE)"
   ]
  },
  {
   "cell_type": "code",
   "execution_count": 15,
   "metadata": {},
   "outputs": [
    {
     "data": {
      "text/plain": [
       "\n",
       "   0    1 \n",
       "3614 1308 "
      ]
     },
     "metadata": {},
     "output_type": "display_data"
    },
    {
     "data": {
      "text/plain": [
       "\n",
       "   0    1 \n",
       "1549  561 "
      ]
     },
     "metadata": {},
     "output_type": "display_data"
    }
   ],
   "source": [
    "table(train$Churn)\n",
    "table(test$Churn)"
   ]
  },
  {
   "cell_type": "code",
   "execution_count": 17,
   "metadata": {},
   "outputs": [
    {
     "data": {
      "text/html": [
       "0.734123222748815"
      ],
      "text/latex": [
       "0.734123222748815"
      ],
      "text/markdown": [
       "0.734123222748815"
      ],
      "text/plain": [
       "[1] 0.7341232"
      ]
     },
     "metadata": {},
     "output_type": "display_data"
    }
   ],
   "source": [
    "1549 / nrow(test)"
   ]
  },
  {
   "cell_type": "code",
   "execution_count": 19,
   "metadata": {},
   "outputs": [
    {
     "data": {
      "text/plain": [
       "          \n",
       "prediction    0    1\n",
       "     FALSE 1478  442\n",
       "     TRUE    71  119"
      ]
     },
     "metadata": {},
     "output_type": "display_data"
    }
   ],
   "source": [
    "log1 = glm(Churn ~ tenure, data=train, family=binomial)\n",
    "prediction = predict(log1, newdata=test, type=\"response\") > 0.5\n",
    "table(prediction, test$Churn)"
   ]
  },
  {
   "cell_type": "code",
   "execution_count": 20,
   "metadata": {},
   "outputs": [
    {
     "data": {
      "text/html": [
       "0.756872037914692"
      ],
      "text/latex": [
       "0.756872037914692"
      ],
      "text/markdown": [
       "0.756872037914692"
      ],
      "text/plain": [
       "[1] 0.756872"
      ]
     },
     "metadata": {},
     "output_type": "display_data"
    },
    {
     "data": {
      "text/html": [
       "0.212121212121212"
      ],
      "text/latex": [
       "0.212121212121212"
      ],
      "text/markdown": [
       "0.212121212121212"
      ],
      "text/plain": [
       "[1] 0.2121212"
      ]
     },
     "metadata": {},
     "output_type": "display_data"
    },
    {
     "data": {
      "text/html": [
       "0.0458360232408005"
      ],
      "text/latex": [
       "0.0458360232408005"
      ],
      "text/markdown": [
       "0.0458360232408005"
      ],
      "text/plain": [
       "[1] 0.04583602"
      ]
     },
     "metadata": {},
     "output_type": "display_data"
    }
   ],
   "source": [
    "(1478+119) / nrow(test)\n",
    "119 / (119+442)\n",
    "71 / (71+1478)"
   ]
  },
  {
   "cell_type": "code",
   "execution_count": 21,
   "metadata": {},
   "outputs": [
    {
     "data": {
      "text/plain": [
       "\n",
       "Call:\n",
       "glm(formula = Churn ~ tenure, family = binomial, data = train)\n",
       "\n",
       "Deviance Residuals: \n",
       "    Min       1Q   Median       3Q      Max  \n",
       "-1.1858  -0.8440  -0.4689   1.1690   2.3850  \n",
       "\n",
       "Coefficients:\n",
       "             Estimate Std. Error z value Pr(>|z|)    \n",
       "(Intercept)  0.059313   0.050868   1.166    0.244    \n",
       "tenure      -0.039493   0.001685 -23.435   <2e-16 ***\n",
       "---\n",
       "Signif. codes:  0 ‘***’ 0.001 ‘**’ 0.01 ‘*’ 0.05 ‘.’ 0.1 ‘ ’ 1\n",
       "\n",
       "(Dispersion parameter for binomial family taken to be 1)\n",
       "\n",
       "    Null deviance: 5699.5  on 4921  degrees of freedom\n",
       "Residual deviance: 5005.1  on 4920  degrees of freedom\n",
       "AIC: 5009.1\n",
       "\n",
       "Number of Fisher Scoring iterations: 4\n"
      ]
     },
     "metadata": {},
     "output_type": "display_data"
    }
   ],
   "source": [
    "summary(log1)"
   ]
  },
  {
   "cell_type": "code",
   "execution_count": 23,
   "metadata": {},
   "outputs": [
    {
     "data": {
      "text/plain": [
       "          \n",
       "prediction    0    1\n",
       "     FALSE 1015  169\n",
       "     TRUE   534  392"
      ]
     },
     "metadata": {},
     "output_type": "display_data"
    }
   ],
   "source": [
    "prediction = predict(log1, newdata=test, type=\"response\") > 0.3\n",
    "table(prediction, test$Churn)"
   ]
  },
  {
   "cell_type": "code",
   "execution_count": 25,
   "metadata": {},
   "outputs": [
    {
     "data": {
      "text/html": [
       "0.666824644549763"
      ],
      "text/latex": [
       "0.666824644549763"
      ],
      "text/markdown": [
       "0.666824644549763"
      ],
      "text/plain": [
       "[1] 0.6668246"
      ]
     },
     "metadata": {},
     "output_type": "display_data"
    },
    {
     "data": {
      "text/html": [
       "0.698752228163993"
      ],
      "text/latex": [
       "0.698752228163993"
      ],
      "text/markdown": [
       "0.698752228163993"
      ],
      "text/plain": [
       "[1] 0.6987522"
      ]
     },
     "metadata": {},
     "output_type": "display_data"
    },
    {
     "data": {
      "text/html": [
       "0.34473854099419"
      ],
      "text/latex": [
       "0.34473854099419"
      ],
      "text/markdown": [
       "0.34473854099419"
      ],
      "text/plain": [
       "[1] 0.3447385"
      ]
     },
     "metadata": {},
     "output_type": "display_data"
    }
   ],
   "source": [
    "(1015+392) / nrow(test)\n",
    "392 / (392+169)\n",
    "534 / (534+1015)"
   ]
  },
  {
   "cell_type": "code",
   "execution_count": 26,
   "metadata": {},
   "outputs": [
    {
     "data": {
      "text/plain": [
       "\n",
       "Call:\n",
       "glm(formula = Churn ~ ., family = binomial, data = train)\n",
       "\n",
       "Deviance Residuals: \n",
       "    Min       1Q   Median       3Q      Max  \n",
       "-1.7135  -0.7003  -0.2996   0.7876   3.4895  \n",
       "\n",
       "Coefficients:\n",
       "                                       Estimate Std. Error z value Pr(>|z|)    \n",
       "(Intercept)                           1.103e-02  2.635e-01   0.042 0.966607    \n",
       "genderMale                            4.286e-03  7.673e-02   0.056 0.955452    \n",
       "SeniorCitizen                         1.721e-01  9.934e-02   1.733 0.083150 .  \n",
       "PartnerYes                            9.759e-02  9.190e-02   1.062 0.288272    \n",
       "DependentsYes                        -1.386e-01  1.054e-01  -1.316 0.188341    \n",
       "tenure                               -6.070e-02  7.372e-03  -8.234  < 2e-16 ***\n",
       "PhoneServiceYes                      -7.686e-01  1.716e-01  -4.480 7.47e-06 ***\n",
       "InternetServiceFiber optic            9.785e-01  1.591e-01   6.150 7.77e-10 ***\n",
       "InternetServiceNo                    -4.057e-01  2.247e-01  -1.806 0.070995 .  \n",
       "ContractOne year                     -7.659e-01  1.266e-01  -6.048 1.46e-09 ***\n",
       "ContractTwo year                     -1.605e+00  2.104e-01  -7.627 2.40e-14 ***\n",
       "PaperlessBillingYes                   3.390e-01  8.796e-02   3.854 0.000116 ***\n",
       "PaymentMethodCredit card (automatic) -2.144e-01  1.350e-01  -1.589 0.112128    \n",
       "PaymentMethodElectronic check         2.974e-01  1.110e-01   2.680 0.007368 ** \n",
       "PaymentMethodMailed check            -1.325e-01  1.349e-01  -0.982 0.325895    \n",
       "MonthlyCharges                        2.039e-03  4.805e-03   0.424 0.671265    \n",
       "TotalCharges                          3.202e-04  8.358e-05   3.831 0.000128 ***\n",
       "---\n",
       "Signif. codes:  0 ‘***’ 0.001 ‘**’ 0.01 ‘*’ 0.05 ‘.’ 0.1 ‘ ’ 1\n",
       "\n",
       "(Dispersion parameter for binomial family taken to be 1)\n",
       "\n",
       "    Null deviance: 5699.5  on 4921  degrees of freedom\n",
       "Residual deviance: 4139.3  on 4905  degrees of freedom\n",
       "AIC: 4173.3\n",
       "\n",
       "Number of Fisher Scoring iterations: 6\n"
      ]
     },
     "metadata": {},
     "output_type": "display_data"
    }
   ],
   "source": [
    "log2 = glm(Churn ~ ., data=train, family=binomial)\n",
    "summary(log2)"
   ]
  },
  {
   "cell_type": "code",
   "execution_count": 35,
   "metadata": {},
   "outputs": [
    {
     "data": {
      "text/plain": [
       "       \n",
       "           0    1\n",
       "  FALSE 1398  251\n",
       "  TRUE   151  310"
      ]
     },
     "metadata": {},
     "output_type": "display_data"
    }
   ],
   "source": [
    "result = predict(log2, newdata=test, type=\"response\")\n",
    "table(result>.5, test$Churn)"
   ]
  },
  {
   "cell_type": "code",
   "execution_count": 32,
   "metadata": {},
   "outputs": [
    {
     "data": {
      "text/html": [
       "0.809478672985782"
      ],
      "text/latex": [
       "0.809478672985782"
      ],
      "text/markdown": [
       "0.809478672985782"
      ],
      "text/plain": [
       "[1] 0.8094787"
      ]
     },
     "metadata": {},
     "output_type": "display_data"
    }
   ],
   "source": [
    "(1398+310) / nrow(test)"
   ]
  },
  {
   "cell_type": "code",
   "execution_count": 38,
   "metadata": {},
   "outputs": [
    {
     "data": {
      "text/html": [
       "0.843580298484795"
      ],
      "text/latex": [
       "0.843580298484795"
      ],
      "text/markdown": [
       "0.843580298484795"
      ],
      "text/plain": [
       "[1] 0.8435803"
      ]
     },
     "metadata": {},
     "output_type": "display_data"
    },
    {
     "data": {
      "image/png": "[encoded data removed]",
      "text/plain": [
       "plot without title"
      ]
     },
     "metadata": {},
     "output_type": "display_data"
    }
   ],
   "source": [
    "library(ROCR)\n",
    "pred = prediction(result, test$Churn)\n",
    "perf = performance(pred, \"tpr\", \"fpr\")\n",
    "plot(perf)\n",
    "as.numeric(performance(pred, \"auc\")@y.values)"
   ]
  },
  {
   "cell_type": "code",
   "execution_count": 44,
   "metadata": {},
   "outputs": [],
   "source": [
    "set.seed(2)\n",
    "library(rpart)\n",
    "library(e1071)\n",
    "library(caret)\n",
    "trainset = train\n",
    "trainset$Churn = as.factor(trainset$Churn)\n",
    "numFolds = trainControl( method = \"cv\", number = 10 )\n",
    "cpGrid = expand.grid( .cp = seq(0.001,0.05,0.001)) \n",
    "cv = train(y = trainset$Churn, x = subset(trainset, select=-c(Churn)), method = \"rpart\", trControl = numFolds, tuneGrid = cpGrid)"
   ]
  },
  {
   "cell_type": "code",
   "execution_count": 45,
   "metadata": {},
   "outputs": [
    {
     "data": {
      "text/plain": [
       "CART \n",
       "\n",
       "4922 samples\n",
       "  12 predictors\n",
       "   2 classes: '0', '1' \n",
       "\n",
       "No pre-processing\n",
       "Resampling: Cross-Validated (10 fold) \n",
       "Summary of sample sizes: 4429, 4429, 4429, 4430, 4431, 4429, ... \n",
       "Resampling results across tuning parameters:\n",
       "\n",
       "  cp     Accuracy   Kappa    \n",
       "  0.001  0.7832126  0.4062902\n",
       "  0.002  0.7895089  0.4325894\n",
       "  0.003  0.7949917  0.4566237\n",
       "  0.004  0.7951946  0.4643329\n",
       "  0.005  0.7955973  0.4697463\n",
       "  0.006  0.7943774  0.4597698\n",
       "  0.007  0.7927572  0.4458371\n",
       "  0.008  0.7864630  0.4099815\n",
       "  0.009  0.7842259  0.3862573\n",
       "  0.010  0.7870735  0.3684397\n",
       "  0.011  0.7860573  0.3603338\n",
       "  0.012  0.7860573  0.3603338\n",
       "  0.013  0.7860573  0.3603338\n",
       "  0.014  0.7860573  0.3603338\n",
       "  0.015  0.7848353  0.3586054\n",
       "  0.016  0.7848353  0.3586054\n",
       "  0.017  0.7848353  0.3586054\n",
       "  0.018  0.7876866  0.3565063\n",
       "  0.019  0.7876866  0.3565063\n",
       "  0.020  0.7876866  0.3565063\n",
       "  0.021  0.7876866  0.3565063\n",
       "  0.022  0.7876866  0.3565063\n",
       "  0.023  0.7876866  0.3565063\n",
       "  0.024  0.7876866  0.3565063\n",
       "  0.025  0.7876866  0.3565063\n",
       "  0.026  0.7876866  0.3565063\n",
       "  0.027  0.7876866  0.3565063\n",
       "  0.028  0.7876866  0.3565063\n",
       "  0.029  0.7876866  0.3565063\n",
       "  0.030  0.7876866  0.3565063\n",
       "  0.031  0.7876866  0.3565063\n",
       "  0.032  0.7876866  0.3565063\n",
       "  0.033  0.7876866  0.3565063\n",
       "  0.034  0.7876866  0.3565063\n",
       "  0.035  0.7876866  0.3565063\n",
       "  0.036  0.7876866  0.3565063\n",
       "  0.037  0.7876866  0.3565063\n",
       "  0.038  0.7876866  0.3565063\n",
       "  0.039  0.7876866  0.3565063\n",
       "  0.040  0.7876866  0.3565063\n",
       "  0.041  0.7876866  0.3565063\n",
       "  0.042  0.7876866  0.3565063\n",
       "  0.043  0.7876866  0.3565063\n",
       "  0.044  0.7876866  0.3565063\n",
       "  0.045  0.7876866  0.3565063\n",
       "  0.046  0.7876866  0.3565063\n",
       "  0.047  0.7876866  0.3565063\n",
       "  0.048  0.7876866  0.3565063\n",
       "  0.049  0.7876866  0.3565063\n",
       "  0.050  0.7876866  0.3565063\n",
       "\n",
       "Accuracy was used to select the optimal model using the largest value.\n",
       "The final value used for the model was cp = 0.005."
      ]
     },
     "metadata": {},
     "output_type": "display_data"
    }
   ],
   "source": [
    "cv"
   ]
  },
  {
   "cell_type": "code",
   "execution_count": 53,
   "metadata": {},
   "outputs": [
    {
     "data": {
      "image/png": "[encoded data removed]",
      "text/plain": [
       "plot without title"
      ]
     },
     "metadata": {},
     "output_type": "display_data"
    }
   ],
   "source": [
    "set.seed(2)\n",
    "tree = rpart(Churn ~ ., data = train, method=\"class\", cp = 0.005)\n",
    "library(rpart.plot)\n",
    "prp(tree)"
   ]
  },
  {
   "cell_type": "code",
   "execution_count": 54,
   "metadata": {},
   "outputs": [
    {
     "data": {
      "text/plain": [
       "      \n",
       "result    0    1\n",
       "     0 1340  233\n",
       "     1  209  328"
      ]
     },
     "metadata": {},
     "output_type": "display_data"
    }
   ],
   "source": [
    "result = predict(tree, newdata = test, type = \"class\")\n",
    "table(result, test$Churn)"
   ]
  },
  {
   "cell_type": "code",
   "execution_count": 55,
   "metadata": {},
   "outputs": [
    {
     "data": {
      "text/html": [
       "0.790521327014218"
      ],
      "text/latex": [
       "0.790521327014218"
      ],
      "text/markdown": [
       "0.790521327014218"
      ],
      "text/plain": [
       "[1] 0.7905213"
      ]
     },
     "metadata": {},
     "output_type": "display_data"
    }
   ],
   "source": [
    "(1340+328) / nrow(test)"
   ]
  },
  {
   "cell_type": "code",
   "execution_count": 56,
   "metadata": {},
   "outputs": [
    {
     "data": {
      "text/html": [
       "0.584670231729055"
      ],
      "text/latex": [
       "0.584670231729055"
      ],
      "text/markdown": [
       "0.584670231729055"
      ],
      "text/plain": [
       "[1] 0.5846702"
      ]
     },
     "metadata": {},
     "output_type": "display_data"
    },
    {
     "data": {
      "text/html": [
       "0.134925758553906"
      ],
      "text/latex": [
       "0.134925758553906"
      ],
      "text/markdown": [
       "0.134925758553906"
      ],
      "text/plain": [
       "[1] 0.1349258"
      ]
     },
     "metadata": {},
     "output_type": "display_data"
    }
   ],
   "source": [
    "328 / (328 + 233)\n",
    "209 / (209 + 1340)"
   ]
  },
  {
   "cell_type": "code",
   "execution_count": null,
   "metadata": {},
   "outputs": [],
   "source": []
  }
 ],
 "metadata": {
  "kernelspec": {
   "display_name": "R",
   "language": "R",
   "name": "ir"
  },
  "language_info": {
   "codemirror_mode": "r",
   "file_extension": ".r",
   "mimetype": "text/x-r-source",
   "name": "R",
   "pygments_lexer": "r",
   "version": "3.4.4"
  }
 },
 "nbformat": 4,
 "nbformat_minor": 2
}
