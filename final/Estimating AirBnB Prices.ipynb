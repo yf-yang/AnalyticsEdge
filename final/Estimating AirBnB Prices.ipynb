{
 "cells": [
  {
   "cell_type": "code",
   "execution_count": 1,
   "metadata": {},
   "outputs": [
    {
     "data": {
      "text/plain": [
       "       id           host_is_superhost host_identity_verified     neighborhood\n",
       " Min.   :    8792   Min.   :0.0000    Min.   :0.000          Allston   :176  \n",
       " 1st Qu.:10173290   1st Qu.:0.0000    1st Qu.:0.000          BackBay   :279  \n",
       " Median :18118166   Median :0.0000    Median :0.000          BeaconHill:155  \n",
       " Mean   :16547573   Mean   :0.1441    Mean   :0.369          Brighton  :135  \n",
       " 3rd Qu.:22437060   3rd Qu.:0.0000    3rd Qu.:1.000          Downtown  :208  \n",
       " Max.   :28492737   Max.   :1.0000    Max.   :1.000          SouthEnd  :234  \n",
       "          room_type    accommodates      bathrooms        bedrooms    \n",
       " Entirehome/apt:951   Min.   : 1.000   Min.   :0.000   Min.   :0.000  \n",
       " Privateroom   :228   1st Qu.: 2.000   1st Qu.:1.000   1st Qu.:1.000  \n",
       " Sharedroom    :  8   Median : 3.000   Median :1.000   Median :1.000  \n",
       "                      Mean   : 3.239   Mean   :1.177   Mean   :1.177  \n",
       "                      3rd Qu.: 4.000   3rd Qu.:1.000   3rd Qu.:2.000  \n",
       "                      Max.   :16.000   Max.   :3.000   Max.   :5.000  \n",
       "      beds           price          logprice         logacc      \n",
       " Min.   :1.000   Min.   : 10.0   Min.   :2.303   Min.   :0.0000  \n",
       " 1st Qu.:1.000   1st Qu.:115.0   1st Qu.:4.745   1st Qu.:0.6931  \n",
       " Median :1.000   Median :179.0   Median :5.187   Median :1.0986  \n",
       " Mean   :1.652   Mean   :212.1   Mean   :5.158   Mean   :1.0501  \n",
       " 3rd Qu.:2.000   3rd Qu.:289.0   3rd Qu.:5.666   3rd Qu.:1.3863  \n",
       " Max.   :6.000   Max.   :999.0   Max.   :6.907   Max.   :2.7726  "
      ]
     },
     "metadata": {},
     "output_type": "display_data"
    },
    {
     "data": {
      "text/html": [
       "1187"
      ],
      "text/latex": [
       "1187"
      ],
      "text/markdown": [
       "1187"
      ],
      "text/plain": [
       "[1] 1187"
      ]
     },
     "metadata": {},
     "output_type": "display_data"
    }
   ],
   "source": [
    "train = read.csv('airbnb-train.csv')\n",
    "summary(train)\n",
    "nrow(train)"
   ]
  },
  {
   "cell_type": "code",
   "execution_count": 2,
   "metadata": {},
   "outputs": [
    {
     "name": "stderr",
     "output_type": "stream",
     "text": [
      "ERROR while rich displaying an object: Error in dn[[2L]]: subscript out of bounds\n",
      "\n",
      "Traceback:\n",
      "1. FUN(X[[i]], ...)\n",
      "2. tryCatch(withCallingHandlers({\n",
      " .     if (!mime %in% names(repr::mime2repr)) \n",
      " .         stop(\"No repr_* for mimetype \", mime, \" in repr::mime2repr\")\n",
      " .     rpr <- repr::mime2repr[[mime]](obj)\n",
      " .     if (is.null(rpr)) \n",
      " .         return(NULL)\n",
      " .     prepare_content(is.raw(rpr), rpr)\n",
      " . }, error = error_handler), error = outer_handler)\n",
      "3. tryCatchList(expr, classes, parentenv, handlers)\n",
      "4. tryCatchOne(expr, names, parentenv, handlers[[1L]])\n",
      "5. doTryCatch(return(expr), name, parentenv, handler)\n",
      "6. withCallingHandlers({\n",
      " .     if (!mime %in% names(repr::mime2repr)) \n",
      " .         stop(\"No repr_* for mimetype \", mime, \" in repr::mime2repr\")\n",
      " .     rpr <- repr::mime2repr[[mime]](obj)\n",
      " .     if (is.null(rpr)) \n",
      " .         return(NULL)\n",
      " .     prepare_content(is.raw(rpr), rpr)\n",
      " . }, error = error_handler)\n",
      "7. repr::mime2repr[[mime]](obj)\n",
      "8. repr_markdown.numeric(obj)\n",
      "9. repr_vector_generic(html_escape_names(obj), \"%s. %s\\n\", \"%s\\n:   %s\", \n",
      " .     \"**%s:** %s\", \"%s\\n\\n\", item_uses_numbers = TRUE, escape_fun = html_escape)\n",
      "10. html_escape_names(obj)\n",
      "11. .escape_names(obj, \"html\")\n",
      "12. colnames(obj)\n",
      "ERROR while rich displaying an object: Error in dn[[2L]]: subscript out of bounds\n",
      "\n",
      "Traceback:\n",
      "1. FUN(X[[i]], ...)\n",
      "2. tryCatch(withCallingHandlers({\n",
      " .     if (!mime %in% names(repr::mime2repr)) \n",
      " .         stop(\"No repr_* for mimetype \", mime, \" in repr::mime2repr\")\n",
      " .     rpr <- repr::mime2repr[[mime]](obj)\n",
      " .     if (is.null(rpr)) \n",
      " .         return(NULL)\n",
      " .     prepare_content(is.raw(rpr), rpr)\n",
      " . }, error = error_handler), error = outer_handler)\n",
      "3. tryCatchList(expr, classes, parentenv, handlers)\n",
      "4. tryCatchOne(expr, names, parentenv, handlers[[1L]])\n",
      "5. doTryCatch(return(expr), name, parentenv, handler)\n",
      "6. withCallingHandlers({\n",
      " .     if (!mime %in% names(repr::mime2repr)) \n",
      " .         stop(\"No repr_* for mimetype \", mime, \" in repr::mime2repr\")\n",
      " .     rpr <- repr::mime2repr[[mime]](obj)\n",
      " .     if (is.null(rpr)) \n",
      " .         return(NULL)\n",
      " .     prepare_content(is.raw(rpr), rpr)\n",
      " . }, error = error_handler)\n",
      "7. repr::mime2repr[[mime]](obj)\n",
      "8. repr_latex.numeric(obj)\n",
      "9. repr_vector_generic(latex_escape_names(obj), \"\\\\item %s\\n\", \"\\\\item[%s] %s\\n\", \n",
      " .     \"\\\\textbf{%s:} %s\", enum_wrap = \"\\\\begin{enumerate*}\\n%s\\\\end{enumerate*}\\n\", \n",
      " .     named_wrap = \"\\\\begin{description*}\\n%s\\\\end{description*}\\n\", \n",
      " .     only_named_item = \"\\\\textbf{%s:} %s\", escape_fun = latex_escape)\n",
      "10. latex_escape_names(obj)\n",
      "11. .escape_names(obj, \"latex\")\n",
      "12. colnames(obj)\n"
     ]
    },
    {
     "data": {
      "text/html": [
       "<dl class=dl-horizontal>\n",
       "\t<dt>Allston</dt>\n",
       "\t\t<dd>142.732954545455</dd>\n",
       "\t<dt>BackBay</dt>\n",
       "\t\t<dd>248.569892473118</dd>\n",
       "\t<dt>BeaconHill</dt>\n",
       "\t\t<dd>187.290322580645</dd>\n",
       "\t<dt>Brighton</dt>\n",
       "\t\t<dd>113.844444444444</dd>\n",
       "\t<dt>Downtown</dt>\n",
       "\t\t<dd>289.466346153846</dd>\n",
       "\t<dt>SouthEnd</dt>\n",
       "\t\t<dd>225.07264957265</dd>\n",
       "</dl>\n"
      ],
      "text/plain": [
       "   Allston    BackBay BeaconHill   Brighton   Downtown   SouthEnd \n",
       "  142.7330   248.5699   187.2903   113.8444   289.4663   225.0726 "
      ]
     },
     "metadata": {},
     "output_type": "display_data"
    }
   ],
   "source": [
    "tapply(train$price, train$neighborhood, mean)"
   ]
  },
  {
   "cell_type": "code",
   "execution_count": 2,
   "metadata": {},
   "outputs": [],
   "source": [
    "test = read.csv('airbnb-test.csv')"
   ]
  },
  {
   "cell_type": "code",
   "execution_count": 5,
   "metadata": {},
   "outputs": [
    {
     "data": {
      "text/html": [
       "5.1581131775666"
      ],
      "text/latex": [
       "5.1581131775666"
      ],
      "text/markdown": [
       "5.1581131775666"
      ],
      "text/plain": [
       "[1] 5.158113"
      ]
     },
     "metadata": {},
     "output_type": "display_data"
    },
    {
     "data": {
      "text/html": [
       "0.536626479106065"
      ],
      "text/latex": [
       "0.536626479106065"
      ],
      "text/markdown": [
       "0.536626479106065"
      ],
      "text/plain": [
       "[1] 0.5366265"
      ]
     },
     "metadata": {},
     "output_type": "display_data"
    }
   ],
   "source": [
    "mean(train$logprice)\n",
    "cor(train$logacc, train$logprice)"
   ]
  },
  {
   "cell_type": "code",
   "execution_count": 6,
   "metadata": {},
   "outputs": [
    {
     "data": {
      "text/plain": [
       "\n",
       "Call:\n",
       "lm(formula = logprice ~ logacc, data = train)\n",
       "\n",
       "Residuals:\n",
       "    Min      1Q  Median      3Q     Max \n",
       "-3.3773 -0.3531  0.0431  0.3902  2.1317 \n",
       "\n",
       "Coefficients:\n",
       "            Estimate Std. Error t value Pr(>|t|)    \n",
       "(Intercept)  4.41943    0.03738  118.22   <2e-16 ***\n",
       "logacc       0.70348    0.03213   21.89   <2e-16 ***\n",
       "---\n",
       "Signif. codes:  0 ‘***’ 0.001 ‘**’ 0.01 ‘*’ 0.05 ‘.’ 0.1 ‘ ’ 1\n",
       "\n",
       "Residual standard error: 0.5544 on 1185 degrees of freedom\n",
       "Multiple R-squared:  0.288,\tAdjusted R-squared:  0.2874 \n",
       "F-statistic: 479.3 on 1 and 1185 DF,  p-value: < 2.2e-16\n"
      ]
     },
     "metadata": {},
     "output_type": "display_data"
    }
   ],
   "source": [
    "simple = lm(logprice ~ logacc, data=train)\n",
    "summary(simple)"
   ]
  },
  {
   "cell_type": "code",
   "execution_count": 7,
   "metadata": {},
   "outputs": [],
   "source": [
    "pred = predict(simple, newdata=test)\n",
    "SSE = sum((pred - test$logprice)^2)\n",
    "SST = sum((mean(train$logprice) - test$logprice)^2)\n",
    "R2 = 1 - SSE/SST"
   ]
  },
  {
   "cell_type": "code",
   "execution_count": 8,
   "metadata": {},
   "outputs": [
    {
     "data": {
      "text/html": [
       "0.295686238360971"
      ],
      "text/latex": [
       "0.295686238360971"
      ],
      "text/markdown": [
       "0.295686238360971"
      ],
      "text/plain": [
       "[1] 0.2956862"
      ]
     },
     "metadata": {},
     "output_type": "display_data"
    }
   ],
   "source": [
    "R2"
   ]
  },
  {
   "cell_type": "code",
   "execution_count": 12,
   "metadata": {},
   "outputs": [
    {
     "data": {
      "text/html": [
       "<table>\n",
       "<thead><tr><th></th><th scope=col>host_is_superhost</th><th scope=col>host_identity_verified</th><th scope=col>logacc</th><th scope=col>bedrooms</th><th scope=col>beds</th><th scope=col>bathrooms</th></tr></thead>\n",
       "<tbody>\n",
       "\t<tr><th scope=row>host_is_superhost</th><td> 1.00000000</td><td> 0.1735286 </td><td> 0.04842347</td><td>-0.01513584</td><td> 0.04101662</td><td>-0.02334327</td></tr>\n",
       "\t<tr><th scope=row>host_identity_verified</th><td> 0.17352861</td><td> 1.0000000 </td><td>-0.11415079</td><td>-0.10377686</td><td>-0.13021182</td><td>-0.14956084</td></tr>\n",
       "\t<tr><th scope=row>logacc</th><td> 0.04842347</td><td>-0.1141508 </td><td> 1.00000000</td><td> 0.65151388</td><td> 0.77815621</td><td> 0.38589653</td></tr>\n",
       "\t<tr><th scope=row>bedrooms</th><td>-0.01513584</td><td>-0.1037769 </td><td> 0.65151388</td><td> 1.00000000</td><td> 0.72453587</td><td> 0.51547627</td></tr>\n",
       "\t<tr><th scope=row>beds</th><td> 0.04101662</td><td>-0.1302118 </td><td> 0.77815621</td><td> 0.72453587</td><td> 1.00000000</td><td> 0.44033248</td></tr>\n",
       "\t<tr><th scope=row>bathrooms</th><td>-0.02334327</td><td>-0.1495608 </td><td> 0.38589653</td><td> 0.51547627</td><td> 0.44033248</td><td> 1.00000000</td></tr>\n",
       "</tbody>\n",
       "</table>\n"
      ],
      "text/latex": [
       "\\begin{tabular}{r|llllll}\n",
       "  & host\\_is\\_superhost & host\\_identity\\_verified & logacc & bedrooms & beds & bathrooms\\\\\n",
       "\\hline\n",
       "\thost\\_is\\_superhost &  1.00000000 &  0.1735286  &  0.04842347 & -0.01513584 &  0.04101662 & -0.02334327\\\\\n",
       "\thost\\_identity\\_verified &  0.17352861 &  1.0000000  & -0.11415079 & -0.10377686 & -0.13021182 & -0.14956084\\\\\n",
       "\tlogacc &  0.04842347 & -0.1141508  &  1.00000000 &  0.65151388 &  0.77815621 &  0.38589653\\\\\n",
       "\tbedrooms & -0.01513584 & -0.1037769  &  0.65151388 &  1.00000000 &  0.72453587 &  0.51547627\\\\\n",
       "\tbeds &  0.04101662 & -0.1302118  &  0.77815621 &  0.72453587 &  1.00000000 &  0.44033248\\\\\n",
       "\tbathrooms & -0.02334327 & -0.1495608  &  0.38589653 &  0.51547627 &  0.44033248 &  1.00000000\\\\\n",
       "\\end{tabular}\n"
      ],
      "text/markdown": [
       "\n",
       "| <!--/--> | host_is_superhost | host_identity_verified | logacc | bedrooms | beds | bathrooms | \n",
       "|---|---|---|---|---|---|\n",
       "| host_is_superhost |  1.00000000 |  0.1735286  |  0.04842347 | -0.01513584 |  0.04101662 | -0.02334327 | \n",
       "| host_identity_verified |  0.17352861 |  1.0000000  | -0.11415079 | -0.10377686 | -0.13021182 | -0.14956084 | \n",
       "| logacc |  0.04842347 | -0.1141508  |  1.00000000 |  0.65151388 |  0.77815621 |  0.38589653 | \n",
       "| bedrooms | -0.01513584 | -0.1037769  |  0.65151388 |  1.00000000 |  0.72453587 |  0.51547627 | \n",
       "| beds |  0.04101662 | -0.1302118  |  0.77815621 |  0.72453587 |  1.00000000 |  0.44033248 | \n",
       "| bathrooms | -0.02334327 | -0.1495608  |  0.38589653 |  0.51547627 |  0.44033248 |  1.00000000 | \n",
       "\n",
       "\n"
      ],
      "text/plain": [
       "                       host_is_superhost host_identity_verified logacc     \n",
       "host_is_superhost       1.00000000        0.1735286              0.04842347\n",
       "host_identity_verified  0.17352861        1.0000000             -0.11415079\n",
       "logacc                  0.04842347       -0.1141508              1.00000000\n",
       "bedrooms               -0.01513584       -0.1037769              0.65151388\n",
       "beds                    0.04101662       -0.1302118              0.77815621\n",
       "bathrooms              -0.02334327       -0.1495608              0.38589653\n",
       "                       bedrooms    beds        bathrooms  \n",
       "host_is_superhost      -0.01513584  0.04101662 -0.02334327\n",
       "host_identity_verified -0.10377686 -0.13021182 -0.14956084\n",
       "logacc                  0.65151388  0.77815621  0.38589653\n",
       "bedrooms                1.00000000  0.72453587  0.51547627\n",
       "beds                    0.72453587  1.00000000  0.44033248\n",
       "bathrooms               0.51547627  0.44033248  1.00000000"
      ]
     },
     "metadata": {},
     "output_type": "display_data"
    }
   ],
   "source": [
    "cor(train[c('host_is_superhost', 'host_identity_verified', 'logacc', 'bedrooms', 'beds', 'bathrooms')])"
   ]
  },
  {
   "cell_type": "code",
   "execution_count": 13,
   "metadata": {},
   "outputs": [
    {
     "data": {
      "text/plain": [
       "\n",
       "Call:\n",
       "lm(formula = logprice ~ ., data = sub)\n",
       "\n",
       "Residuals:\n",
       "     Min       1Q   Median       3Q      Max \n",
       "-2.85657 -0.24703  0.01275  0.26600  2.10264 \n",
       "\n",
       "Coefficients:\n",
       "                       Estimate Std. Error t value Pr(>|t|)    \n",
       "(Intercept)             4.45230    0.06094  73.057  < 2e-16 ***\n",
       "host_is_superhost      -0.09784    0.03568  -2.742 0.006190 ** \n",
       "host_identity_verified -0.09107    0.02632  -3.460 0.000559 ***\n",
       "logacc                  0.04371    0.03963   1.103 0.270240    \n",
       "bedrooms                0.21591    0.02205   9.791  < 2e-16 ***\n",
       "room_typePrivateroom   -0.64155    0.04028 -15.926  < 2e-16 ***\n",
       "room_typeSharedroom    -0.82158    0.15035  -5.464 5.67e-08 ***\n",
       "neighborhoodBackBay     0.52385    0.04311  12.151  < 2e-16 ***\n",
       "neighborhoodBeaconHill  0.31858    0.04886   6.520 1.04e-10 ***\n",
       "neighborhoodBrighton   -0.04643    0.04851  -0.957 0.338716    \n",
       "neighborhoodDowntown    0.59520    0.04610  12.912  < 2e-16 ***\n",
       "neighborhoodSouthEnd    0.44098    0.04444   9.922  < 2e-16 ***\n",
       "bathrooms               0.19670    0.03696   5.323 1.22e-07 ***\n",
       "---\n",
       "Signif. codes:  0 ‘***’ 0.001 ‘**’ 0.01 ‘*’ 0.05 ‘.’ 0.1 ‘ ’ 1\n",
       "\n",
       "Residual standard error: 0.4173 on 1174 degrees of freedom\n",
       "Multiple R-squared:  0.6003,\tAdjusted R-squared:  0.5962 \n",
       "F-statistic: 146.9 on 12 and 1174 DF,  p-value: < 2.2e-16\n"
      ]
     },
     "metadata": {},
     "output_type": "display_data"
    },
    {
     "data": {
      "text/html": [
       "0.607291931990804"
      ],
      "text/latex": [
       "0.607291931990804"
      ],
      "text/markdown": [
       "0.607291931990804"
      ],
      "text/plain": [
       "[1] 0.6072919"
      ]
     },
     "metadata": {},
     "output_type": "display_data"
    }
   ],
   "source": [
    "sub = train[c('host_is_superhost', 'host_identity_verified', 'logacc', 'bedrooms', 'room_type', 'neighborhood', 'bathrooms', 'logprice')]\n",
    "complex = lm(logprice ~ ., data=sub)\n",
    "summary(complex)\n",
    "pred = predict(complex, newdata=test)\n",
    "SSE = sum((pred - test$logprice)^2)\n",
    "SST = sum((mean(train$logprice) - test$logprice)^2)\n",
    "1 - SSE/SST"
   ]
  },
  {
   "cell_type": "code",
   "execution_count": 15,
   "metadata": {},
   "outputs": [
    {
     "data": {
      "text/plain": [
       "n= 1187 \n",
       "\n",
       "node), split, n, deviance, yval\n",
       "      * denotes terminal node\n",
       "\n",
       "1) root 1187 511.59640 5.158113  \n",
       "  2) bedrooms< 1.5 845 287.75970 4.955000  \n",
       "    4) bedrooms>=0.5 624 247.53420 4.911670 *\n",
       "    5) bedrooms< 0.5 221  35.74613 5.077343 *\n",
       "  3) bedrooms>=1.5 342 102.84460 5.659957  \n",
       "    6) bedrooms< 2.5 267  76.07088 5.622199 *\n",
       "    7) bedrooms>=2.5 75  25.03790 5.794375 *"
      ]
     },
     "metadata": {},
     "output_type": "display_data"
    },
    {
     "data": {
      "text/html": [
       "0.223452690245461"
      ],
      "text/latex": [
       "0.223452690245461"
      ],
      "text/markdown": [
       "0.223452690245461"
      ],
      "text/plain": [
       "[1] 0.2234527"
      ]
     },
     "metadata": {},
     "output_type": "display_data"
    }
   ],
   "source": [
    "library(rpart)\n",
    "simpleTree = rpart(logprice ~ bedrooms, data=train, method=\"anova\", cp=0.001)\n",
    "simpleTree\n",
    "pred = predict(simpleTree, newdata=test)\n",
    "SSE = sum((pred - test$logprice)^2)\n",
    "SST = sum((mean(train$logprice) - test$logprice)^2)\n",
    "1 - SSE/SST"
   ]
  },
  {
   "cell_type": "code",
   "execution_count": 19,
   "metadata": {},
   "outputs": [
    {
     "data": {
      "text/html": [
       "0.608491551480655"
      ],
      "text/latex": [
       "0.608491551480655"
      ],
      "text/markdown": [
       "0.608491551480655"
      ],
      "text/plain": [
       "[1] 0.6084916"
      ]
     },
     "metadata": {},
     "output_type": "display_data"
    }
   ],
   "source": [
    "complexTree = rpart(logprice ~ logacc+host_identity_verified+host_is_superhost+bedrooms+bathrooms+room_type+neighborhood, data=train, method=\"anova\", cp=0.001)\n",
    "pred = predict(complexTree, newdata=test)\n",
    "SSE = sum((pred - test$logprice)^2)\n",
    "SST = sum((mean(train$logprice) - test$logprice)^2)\n",
    "1 - SSE/SST"
   ]
  },
  {
   "cell_type": "code",
   "execution_count": 4,
   "metadata": {},
   "outputs": [
    {
     "data": {
      "text/html": [
       "0.64529261087815"
      ],
      "text/latex": [
       "0.64529261087815"
      ],
      "text/markdown": [
       "0.64529261087815"
      ],
      "text/plain": [
       "[1] 0.6452926"
      ]
     },
     "metadata": {},
     "output_type": "display_data"
    }
   ],
   "source": [
    "library(randomForest)\n",
    "sub = train[c('logprice', 'logacc', 'host_identity_verified', 'host_is_superhost', 'bedrooms', 'bathrooms', 'room_type', 'neighborhood')]\n",
    "set.seed(1)\n",
    "ForestModel = randomForest(logprice ~ ., data=sub, nodesize=20, ntree=200)\n",
    "pred = predict(ForestModel, newdata=test)\n",
    "SSE = sum((pred - test$logprice)^2)\n",
    "SST = sum((mean(train$logprice) - test$logprice)^2)\n",
    "1 - SSE/SST"
   ]
  },
  {
   "cell_type": "code",
   "execution_count": null,
   "metadata": {},
   "outputs": [],
   "source": []
  },
  {
   "cell_type": "code",
   "execution_count": null,
   "metadata": {},
   "outputs": [],
   "source": []
  }
 ],
 "metadata": {
  "kernelspec": {
   "display_name": "R",
   "language": "R",
   "name": "ir"
  },
  "language_info": {
   "codemirror_mode": "r",
   "file_extension": ".r",
   "mimetype": "text/x-r-source",
   "name": "R",
   "pygments_lexer": "r",
   "version": "3.4.4"
  }
 },
 "nbformat": 4,
 "nbformat_minor": 2
}
