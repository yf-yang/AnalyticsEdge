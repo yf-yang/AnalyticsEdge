{
 "cells": [
  {
   "cell_type": "code",
   "execution_count": 1,
   "metadata": {},
   "outputs": [],
   "source": [
    "ratings = read.csv('movielens-user-genre-ratings.csv')\n",
    "points = ratings[,2:ncol(ratings)]"
   ]
  },
  {
   "cell_type": "code",
   "execution_count": 2,
   "metadata": {},
   "outputs": [
    {
     "name": "stderr",
     "output_type": "stream",
     "text": [
      "Loading required package: lattice\n",
      "Loading required package: ggplot2\n",
      "Warning message:\n",
      "“replacing previous import ‘stats::sigma’ by ‘robustbase::sigma’ when loading ‘ddalpha’”"
     ]
    }
   ],
   "source": [
    "library(caret)\n",
    "\n",
    "preproc = preProcess(points)\n",
    "\n",
    "pointsnorm = predict(preproc, points)"
   ]
  },
  {
   "cell_type": "code",
   "execution_count": 5,
   "metadata": {},
   "outputs": [
    {
     "data": {
      "text/html": [
       "7.01380332345005"
      ],
      "text/latex": [
       "7.01380332345005"
      ],
      "text/markdown": [
       "7.01380332345005"
      ],
      "text/plain": [
       "[1] 7.013803"
      ]
     },
     "metadata": {},
     "output_type": "display_data"
    }
   ],
   "source": [
    "max(pointsnorm$adventure)"
   ]
  },
  {
   "cell_type": "code",
   "execution_count": 6,
   "metadata": {},
   "outputs": [
    {
     "data": {
      "image/png": "[encoded data removed]",
      "text/plain": [
       "Plot with title “Cluster Dendrogram”"
      ]
     },
     "metadata": {},
     "output_type": "display_data"
    }
   ],
   "source": [
    "distances = dist(pointsnorm, method = \"euclidean\")\n",
    "\n",
    "dend = hclust(distances, method = \"ward.D\")\n",
    "\n",
    "plot(dend, labels = FALSE)"
   ]
  },
  {
   "cell_type": "code",
   "execution_count": 8,
   "metadata": {},
   "outputs": [
    {
     "data": {
      "text/plain": [
       "\n",
       "   1    2    3    4    5 \n",
       "2084  942 3968  748 1402 "
      ]
     },
     "metadata": {},
     "output_type": "display_data"
    }
   ],
   "source": [
    "library(caTools)\n",
    "set.seed(200)\n",
    "km = kmeans(pointsnorm, centers = 5)\n",
    "table(km$cluster)"
   ]
  },
  {
   "cell_type": "code",
   "execution_count": 9,
   "metadata": {},
   "outputs": [],
   "source": [
    "cluster1 = subset(pointsnorm, km$cluster == 1)\n",
    "cluster2 = subset(pointsnorm, km$cluster == 2)\n",
    "cluster3 = subset(pointsnorm, km$cluster == 3)\n",
    "cluster4 = subset(pointsnorm, km$cluster == 4)\n",
    "cluster5 = subset(pointsnorm, km$cluster == 5)"
   ]
  },
  {
   "cell_type": "code",
   "execution_count": 13,
   "metadata": {},
   "outputs": [
    {
     "data": {
      "text/html": [
       "<dl class=dl-horizontal>\n",
       "\t<dt>action</dt>\n",
       "\t\t<dd>0.549594791250415</dd>\n",
       "\t<dt>adventure</dt>\n",
       "\t\t<dd>0.282473212786792</dd>\n",
       "\t<dt>animation</dt>\n",
       "\t\t<dd>-0.103582638430877</dd>\n",
       "\t<dt>children</dt>\n",
       "\t\t<dd>-0.298463821590082</dd>\n",
       "\t<dt>comedy</dt>\n",
       "\t\t<dd>-0.273848674672323</dd>\n",
       "\t<dt>crime</dt>\n",
       "\t\t<dd>0.274774655080658</dd>\n",
       "\t<dt>documentary</dt>\n",
       "\t\t<dd>-0.183258850286967</dd>\n",
       "\t<dt>drama</dt>\n",
       "\t\t<dd>-0.163851252375052</dd>\n",
       "\t<dt>fantasy</dt>\n",
       "\t\t<dd>0.071648830357865</dd>\n",
       "\t<dt>film.noir</dt>\n",
       "\t\t<dd>-0.205877989709977</dd>\n",
       "\t<dt>horror</dt>\n",
       "\t\t<dd>0.33639042199471</dd>\n",
       "\t<dt>imax</dt>\n",
       "\t\t<dd>0.471851334812034</dd>\n",
       "\t<dt>musical</dt>\n",
       "\t\t<dd>-0.541933880257374</dd>\n",
       "\t<dt>mystery</dt>\n",
       "\t\t<dd>0.264565685047359</dd>\n",
       "\t<dt>romance</dt>\n",
       "\t\t<dd>-0.41641724746121</dd>\n",
       "\t<dt>sci.fi</dt>\n",
       "\t\t<dd>0.557995149755145</dd>\n",
       "\t<dt>thriller</dt>\n",
       "\t\t<dd>0.492591158187714</dd>\n",
       "\t<dt>war</dt>\n",
       "\t\t<dd>0.00161912432329727</dd>\n",
       "\t<dt>western</dt>\n",
       "\t\t<dd>-0.0889549652293476</dd>\n",
       "</dl>\n"
      ],
      "text/latex": [
       "\\begin{description*}\n",
       "\\item[action] 0.549594791250415\n",
       "\\item[adventure] 0.282473212786792\n",
       "\\item[animation] -0.103582638430877\n",
       "\\item[children] -0.298463821590082\n",
       "\\item[comedy] -0.273848674672323\n",
       "\\item[crime] 0.274774655080658\n",
       "\\item[documentary] -0.183258850286967\n",
       "\\item[drama] -0.163851252375052\n",
       "\\item[fantasy] 0.071648830357865\n",
       "\\item[film.noir] -0.205877989709977\n",
       "\\item[horror] 0.33639042199471\n",
       "\\item[imax] 0.471851334812034\n",
       "\\item[musical] -0.541933880257374\n",
       "\\item[mystery] 0.264565685047359\n",
       "\\item[romance] -0.41641724746121\n",
       "\\item[sci.fi] 0.557995149755145\n",
       "\\item[thriller] 0.492591158187714\n",
       "\\item[war] 0.00161912432329727\n",
       "\\item[western] -0.0889549652293476\n",
       "\\end{description*}\n"
      ],
      "text/markdown": [
       "action\n",
       ":   0.549594791250415adventure\n",
       ":   0.282473212786792animation\n",
       ":   -0.103582638430877children\n",
       ":   -0.298463821590082comedy\n",
       ":   -0.273848674672323crime\n",
       ":   0.274774655080658documentary\n",
       ":   -0.183258850286967drama\n",
       ":   -0.163851252375052fantasy\n",
       ":   0.071648830357865film.noir\n",
       ":   -0.205877989709977horror\n",
       ":   0.33639042199471imax\n",
       ":   0.471851334812034musical\n",
       ":   -0.541933880257374mystery\n",
       ":   0.264565685047359romance\n",
       ":   -0.41641724746121sci.fi\n",
       ":   0.557995149755145thriller\n",
       ":   0.492591158187714war\n",
       ":   0.00161912432329727western\n",
       ":   -0.0889549652293476\n",
       "\n"
      ],
      "text/plain": [
       "      action    adventure    animation     children       comedy        crime \n",
       " 0.549594791  0.282473213 -0.103582638 -0.298463822 -0.273848675  0.274774655 \n",
       " documentary        drama      fantasy    film.noir       horror         imax \n",
       "-0.183258850 -0.163851252  0.071648830 -0.205877990  0.336390422  0.471851335 \n",
       "     musical      mystery      romance       sci.fi     thriller          war \n",
       "-0.541933880  0.264565685 -0.416417247  0.557995150  0.492591158  0.001619124 \n",
       "     western \n",
       "-0.088954965 "
      ]
     },
     "metadata": {},
     "output_type": "display_data"
    }
   ],
   "source": [
    "colMeans(cluster1)"
   ]
  },
  {
   "cell_type": "code",
   "execution_count": null,
   "metadata": {},
   "outputs": [],
   "source": []
  }
 ],
 "metadata": {
  "kernelspec": {
   "display_name": "R",
   "language": "R",
   "name": "ir"
  },
  "language_info": {
   "codemirror_mode": "r",
   "file_extension": ".r",
   "mimetype": "text/x-r-source",
   "name": "R",
   "pygments_lexer": "r",
   "version": "3.4.4"
  }
 },
 "nbformat": 4,
 "nbformat_minor": 2
}
