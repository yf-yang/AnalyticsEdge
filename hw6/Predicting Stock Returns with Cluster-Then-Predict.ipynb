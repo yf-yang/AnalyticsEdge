{
 "cells": [
  {
   "cell_type": "code",
   "execution_count": 1,
   "metadata": {},
   "outputs": [],
   "source": [
    "stocks = read.csv(\"StocksCluster.csv\")"
   ]
  },
  {
   "cell_type": "code",
   "execution_count": 2,
   "metadata": {},
   "outputs": [
    {
     "data": {
      "text/plain": [
       "   ReturnJan            ReturnFeb           ReturnMar        \n",
       " Min.   :-0.7616205   Min.   :-0.690000   Min.   :-0.712994  \n",
       " 1st Qu.:-0.0691663   1st Qu.:-0.077748   1st Qu.:-0.046389  \n",
       " Median : 0.0009965   Median :-0.010626   Median : 0.009878  \n",
       " Mean   : 0.0126316   Mean   :-0.007605   Mean   : 0.019402  \n",
       " 3rd Qu.: 0.0732606   3rd Qu.: 0.043600   3rd Qu.: 0.077066  \n",
       " Max.   : 3.0683060   Max.   : 6.943694   Max.   : 4.008621  \n",
       "   ReturnApr           ReturnMay          ReturnJune       \n",
       " Min.   :-0.826503   Min.   :-0.92207   Min.   :-0.717920  \n",
       " 1st Qu.:-0.054468   1st Qu.:-0.04640   1st Qu.:-0.063966  \n",
       " Median : 0.009059   Median : 0.01293   Median :-0.000880  \n",
       " Mean   : 0.026308   Mean   : 0.02474   Mean   : 0.005938  \n",
       " 3rd Qu.: 0.085338   3rd Qu.: 0.08396   3rd Qu.: 0.061566  \n",
       " Max.   : 2.528827   Max.   : 6.93013   Max.   : 4.339713  \n",
       "   ReturnJuly           ReturnAug           ReturnSep        \n",
       " Min.   :-0.7613096   Min.   :-0.726800   Min.   :-0.839730  \n",
       " 1st Qu.:-0.0731917   1st Qu.:-0.046272   1st Qu.:-0.074648  \n",
       " Median :-0.0008047   Median : 0.007205   Median :-0.007616  \n",
       " Mean   : 0.0030509   Mean   : 0.016198   Mean   :-0.014721  \n",
       " 3rd Qu.: 0.0718205   3rd Qu.: 0.070783   3rd Qu.: 0.049476  \n",
       " Max.   : 2.5500000   Max.   : 3.626609   Max.   : 5.863980  \n",
       "   ReturnOct           ReturnNov          PositiveDec    \n",
       " Min.   :-0.685504   Min.   :-0.747171   Min.   :0.0000  \n",
       " 1st Qu.:-0.070915   1st Qu.:-0.054890   1st Qu.:0.0000  \n",
       " Median : 0.002115   Median : 0.008522   Median :1.0000  \n",
       " Mean   : 0.005651   Mean   : 0.011387   Mean   :0.5461  \n",
       " 3rd Qu.: 0.074542   3rd Qu.: 0.076576   3rd Qu.:1.0000  \n",
       " Max.   : 5.665138   Max.   : 3.271676   Max.   :1.0000  "
      ]
     },
     "metadata": {},
     "output_type": "display_data"
    }
   ],
   "source": [
    "summary(stocks)"
   ]
  },
  {
   "cell_type": "code",
   "execution_count": 3,
   "metadata": {},
   "outputs": [
    {
     "data": {
      "text/html": [
       "11580"
      ],
      "text/latex": [
       "11580"
      ],
      "text/markdown": [
       "11580"
      ],
      "text/plain": [
       "[1] 11580"
      ]
     },
     "metadata": {},
     "output_type": "display_data"
    }
   ],
   "source": [
    "nrow(stocks)"
   ]
  },
  {
   "cell_type": "code",
   "execution_count": 4,
   "metadata": {},
   "outputs": [
    {
     "data": {
      "text/html": [
       "<table>\n",
       "<thead><tr><th></th><th scope=col>ReturnJan</th><th scope=col>ReturnFeb</th><th scope=col>ReturnMar</th><th scope=col>ReturnApr</th><th scope=col>ReturnMay</th><th scope=col>ReturnJune</th><th scope=col>ReturnJuly</th><th scope=col>ReturnAug</th><th scope=col>ReturnSep</th><th scope=col>ReturnOct</th><th scope=col>ReturnNov</th><th scope=col>PositiveDec</th></tr></thead>\n",
       "<tbody>\n",
       "\t<tr><th scope=row>ReturnJan</th><td> 1.000000000 </td><td> 0.06677458  </td><td>-0.090496798 </td><td>-0.037678006 </td><td>-0.044411417 </td><td> 0.09223831  </td><td>-0.0814297650</td><td>-0.0227920187</td><td>-0.0264371526</td><td> 0.14297723  </td><td> 0.06763233  </td><td> 0.004728518 </td></tr>\n",
       "\t<tr><th scope=row>ReturnFeb</th><td> 0.066774583 </td><td> 1.00000000  </td><td>-0.155983263 </td><td>-0.191351924 </td><td>-0.095520920 </td><td> 0.16999448  </td><td>-0.0617785094</td><td> 0.1315597863</td><td> 0.0435017706</td><td>-0.08732427  </td><td>-0.15465828  </td><td>-0.038173184 </td></tr>\n",
       "\t<tr><th scope=row>ReturnMar</th><td>-0.090496798 </td><td>-0.15598326  </td><td> 1.000000000 </td><td> 0.009726288 </td><td>-0.003892789 </td><td>-0.08590549  </td><td> 0.0033741597</td><td>-0.0220053995</td><td> 0.0765183267</td><td>-0.01192376  </td><td> 0.03732353  </td><td> 0.022408661 </td></tr>\n",
       "\t<tr><th scope=row>ReturnApr</th><td>-0.037678006 </td><td>-0.19135192  </td><td> 0.009726288 </td><td> 1.000000000 </td><td> 0.063822504 </td><td>-0.01102775  </td><td> 0.0806319317</td><td>-0.0517560510</td><td>-0.0289209718</td><td> 0.04854003  </td><td> 0.03176184  </td><td> 0.094353528 </td></tr>\n",
       "\t<tr><th scope=row>ReturnMay</th><td>-0.044411417 </td><td>-0.09552092  </td><td>-0.003892789 </td><td> 0.063822504 </td><td> 1.000000000 </td><td>-0.02107454  </td><td> 0.0908502642</td><td>-0.0331256580</td><td> 0.0219628623</td><td> 0.01716673  </td><td> 0.04804659  </td><td> 0.058201934 </td></tr>\n",
       "\t<tr><th scope=row>ReturnJune</th><td> 0.092238307 </td><td> 0.16999448  </td><td>-0.085905486 </td><td>-0.011027752 </td><td>-0.021074539 </td><td> 1.00000000  </td><td>-0.0291525996</td><td> 0.0107105260</td><td> 0.0447472692</td><td>-0.02263599  </td><td>-0.06527054  </td><td> 0.023409745 </td></tr>\n",
       "\t<tr><th scope=row>ReturnJuly</th><td>-0.081429765 </td><td>-0.06177851  </td><td> 0.003374160 </td><td> 0.080631932 </td><td> 0.090850264 </td><td>-0.02915260  </td><td> 1.0000000000</td><td> 0.0007137558</td><td> 0.0689478037</td><td>-0.05470891  </td><td>-0.04837384  </td><td> 0.074364210 </td></tr>\n",
       "\t<tr><th scope=row>ReturnAug</th><td>-0.022792019 </td><td> 0.13155979  </td><td>-0.022005400 </td><td>-0.051756051 </td><td>-0.033125658 </td><td> 0.01071053  </td><td> 0.0007137558</td><td> 1.0000000000</td><td> 0.0007407139</td><td>-0.07559456  </td><td>-0.11648903  </td><td> 0.004166966 </td></tr>\n",
       "\t<tr><th scope=row>ReturnSep</th><td>-0.026437153 </td><td> 0.04350177  </td><td> 0.076518327 </td><td>-0.028920972 </td><td> 0.021962862 </td><td> 0.04474727  </td><td> 0.0689478037</td><td> 0.0007407139</td><td> 1.0000000000</td><td>-0.05807924  </td><td>-0.01971980  </td><td> 0.041630286 </td></tr>\n",
       "\t<tr><th scope=row>ReturnOct</th><td> 0.142977229 </td><td>-0.08732427  </td><td>-0.011923758 </td><td> 0.048540025 </td><td> 0.017166728 </td><td>-0.02263599  </td><td>-0.0547089088</td><td>-0.0755945614</td><td>-0.0580792362</td><td> 1.00000000  </td><td> 0.19167279  </td><td>-0.052574956 </td></tr>\n",
       "\t<tr><th scope=row>ReturnNov</th><td> 0.067632333 </td><td>-0.15465828  </td><td> 0.037323535 </td><td> 0.031761837 </td><td> 0.048046590 </td><td>-0.06527054  </td><td>-0.0483738369</td><td>-0.1164890345</td><td>-0.0197197998</td><td> 0.19167279  </td><td> 1.00000000  </td><td>-0.062346556 </td></tr>\n",
       "\t<tr><th scope=row>PositiveDec</th><td> 0.004728518 </td><td>-0.03817318  </td><td> 0.022408661 </td><td> 0.094353528 </td><td> 0.058201934 </td><td> 0.02340975  </td><td> 0.0743642097</td><td> 0.0041669657</td><td> 0.0416302863</td><td>-0.05257496  </td><td>-0.06234656  </td><td> 1.000000000 </td></tr>\n",
       "</tbody>\n",
       "</table>\n"
      ],
      "text/latex": [
       "\\begin{tabular}{r|llllllllllll}\n",
       "  & ReturnJan & ReturnFeb & ReturnMar & ReturnApr & ReturnMay & ReturnJune & ReturnJuly & ReturnAug & ReturnSep & ReturnOct & ReturnNov & PositiveDec\\\\\n",
       "\\hline\n",
       "\tReturnJan &  1.000000000  &  0.06677458   & -0.090496798  & -0.037678006  & -0.044411417  &  0.09223831   & -0.0814297650 & -0.0227920187 & -0.0264371526 &  0.14297723   &  0.06763233   &  0.004728518 \\\\\n",
       "\tReturnFeb &  0.066774583  &  1.00000000   & -0.155983263  & -0.191351924  & -0.095520920  &  0.16999448   & -0.0617785094 &  0.1315597863 &  0.0435017706 & -0.08732427   & -0.15465828   & -0.038173184 \\\\\n",
       "\tReturnMar & -0.090496798  & -0.15598326   &  1.000000000  &  0.009726288  & -0.003892789  & -0.08590549   &  0.0033741597 & -0.0220053995 &  0.0765183267 & -0.01192376   &  0.03732353   &  0.022408661 \\\\\n",
       "\tReturnApr & -0.037678006  & -0.19135192   &  0.009726288  &  1.000000000  &  0.063822504  & -0.01102775   &  0.0806319317 & -0.0517560510 & -0.0289209718 &  0.04854003   &  0.03176184   &  0.094353528 \\\\\n",
       "\tReturnMay & -0.044411417  & -0.09552092   & -0.003892789  &  0.063822504  &  1.000000000  & -0.02107454   &  0.0908502642 & -0.0331256580 &  0.0219628623 &  0.01716673   &  0.04804659   &  0.058201934 \\\\\n",
       "\tReturnJune &  0.092238307  &  0.16999448   & -0.085905486  & -0.011027752  & -0.021074539  &  1.00000000   & -0.0291525996 &  0.0107105260 &  0.0447472692 & -0.02263599   & -0.06527054   &  0.023409745 \\\\\n",
       "\tReturnJuly & -0.081429765  & -0.06177851   &  0.003374160  &  0.080631932  &  0.090850264  & -0.02915260   &  1.0000000000 &  0.0007137558 &  0.0689478037 & -0.05470891   & -0.04837384   &  0.074364210 \\\\\n",
       "\tReturnAug & -0.022792019  &  0.13155979   & -0.022005400  & -0.051756051  & -0.033125658  &  0.01071053   &  0.0007137558 &  1.0000000000 &  0.0007407139 & -0.07559456   & -0.11648903   &  0.004166966 \\\\\n",
       "\tReturnSep & -0.026437153  &  0.04350177   &  0.076518327  & -0.028920972  &  0.021962862  &  0.04474727   &  0.0689478037 &  0.0007407139 &  1.0000000000 & -0.05807924   & -0.01971980   &  0.041630286 \\\\\n",
       "\tReturnOct &  0.142977229  & -0.08732427   & -0.011923758  &  0.048540025  &  0.017166728  & -0.02263599   & -0.0547089088 & -0.0755945614 & -0.0580792362 &  1.00000000   &  0.19167279   & -0.052574956 \\\\\n",
       "\tReturnNov &  0.067632333  & -0.15465828   &  0.037323535  &  0.031761837  &  0.048046590  & -0.06527054   & -0.0483738369 & -0.1164890345 & -0.0197197998 &  0.19167279   &  1.00000000   & -0.062346556 \\\\\n",
       "\tPositiveDec &  0.004728518  & -0.03817318   &  0.022408661  &  0.094353528  &  0.058201934  &  0.02340975   &  0.0743642097 &  0.0041669657 &  0.0416302863 & -0.05257496   & -0.06234656   &  1.000000000 \\\\\n",
       "\\end{tabular}\n"
      ],
      "text/markdown": [
       "\n",
       "| <!--/--> | ReturnJan | ReturnFeb | ReturnMar | ReturnApr | ReturnMay | ReturnJune | ReturnJuly | ReturnAug | ReturnSep | ReturnOct | ReturnNov | PositiveDec | \n",
       "|---|---|---|---|---|---|---|---|---|---|---|---|\n",
       "| ReturnJan |  1.000000000  |  0.06677458   | -0.090496798  | -0.037678006  | -0.044411417  |  0.09223831   | -0.0814297650 | -0.0227920187 | -0.0264371526 |  0.14297723   |  0.06763233   |  0.004728518  | \n",
       "| ReturnFeb |  0.066774583  |  1.00000000   | -0.155983263  | -0.191351924  | -0.095520920  |  0.16999448   | -0.0617785094 |  0.1315597863 |  0.0435017706 | -0.08732427   | -0.15465828   | -0.038173184  | \n",
       "| ReturnMar | -0.090496798  | -0.15598326   |  1.000000000  |  0.009726288  | -0.003892789  | -0.08590549   |  0.0033741597 | -0.0220053995 |  0.0765183267 | -0.01192376   |  0.03732353   |  0.022408661  | \n",
       "| ReturnApr | -0.037678006  | -0.19135192   |  0.009726288  |  1.000000000  |  0.063822504  | -0.01102775   |  0.0806319317 | -0.0517560510 | -0.0289209718 |  0.04854003   |  0.03176184   |  0.094353528  | \n",
       "| ReturnMay | -0.044411417  | -0.09552092   | -0.003892789  |  0.063822504  |  1.000000000  | -0.02107454   |  0.0908502642 | -0.0331256580 |  0.0219628623 |  0.01716673   |  0.04804659   |  0.058201934  | \n",
       "| ReturnJune |  0.092238307  |  0.16999448   | -0.085905486  | -0.011027752  | -0.021074539  |  1.00000000   | -0.0291525996 |  0.0107105260 |  0.0447472692 | -0.02263599   | -0.06527054   |  0.023409745  | \n",
       "| ReturnJuly | -0.081429765  | -0.06177851   |  0.003374160  |  0.080631932  |  0.090850264  | -0.02915260   |  1.0000000000 |  0.0007137558 |  0.0689478037 | -0.05470891   | -0.04837384   |  0.074364210  | \n",
       "| ReturnAug | -0.022792019  |  0.13155979   | -0.022005400  | -0.051756051  | -0.033125658  |  0.01071053   |  0.0007137558 |  1.0000000000 |  0.0007407139 | -0.07559456   | -0.11648903   |  0.004166966  | \n",
       "| ReturnSep | -0.026437153  |  0.04350177   |  0.076518327  | -0.028920972  |  0.021962862  |  0.04474727   |  0.0689478037 |  0.0007407139 |  1.0000000000 | -0.05807924   | -0.01971980   |  0.041630286  | \n",
       "| ReturnOct |  0.142977229  | -0.08732427   | -0.011923758  |  0.048540025  |  0.017166728  | -0.02263599   | -0.0547089088 | -0.0755945614 | -0.0580792362 |  1.00000000   |  0.19167279   | -0.052574956  | \n",
       "| ReturnNov |  0.067632333  | -0.15465828   |  0.037323535  |  0.031761837  |  0.048046590  | -0.06527054   | -0.0483738369 | -0.1164890345 | -0.0197197998 |  0.19167279   |  1.00000000   | -0.062346556  | \n",
       "| PositiveDec |  0.004728518  | -0.03817318   |  0.022408661  |  0.094353528  |  0.058201934  |  0.02340975   |  0.0743642097 |  0.0041669657 |  0.0416302863 | -0.05257496   | -0.06234656   |  1.000000000  | \n",
       "\n",
       "\n"
      ],
      "text/plain": [
       "            ReturnJan    ReturnFeb   ReturnMar    ReturnApr    ReturnMay   \n",
       "ReturnJan    1.000000000  0.06677458 -0.090496798 -0.037678006 -0.044411417\n",
       "ReturnFeb    0.066774583  1.00000000 -0.155983263 -0.191351924 -0.095520920\n",
       "ReturnMar   -0.090496798 -0.15598326  1.000000000  0.009726288 -0.003892789\n",
       "ReturnApr   -0.037678006 -0.19135192  0.009726288  1.000000000  0.063822504\n",
       "ReturnMay   -0.044411417 -0.09552092 -0.003892789  0.063822504  1.000000000\n",
       "ReturnJune   0.092238307  0.16999448 -0.085905486 -0.011027752 -0.021074539\n",
       "ReturnJuly  -0.081429765 -0.06177851  0.003374160  0.080631932  0.090850264\n",
       "ReturnAug   -0.022792019  0.13155979 -0.022005400 -0.051756051 -0.033125658\n",
       "ReturnSep   -0.026437153  0.04350177  0.076518327 -0.028920972  0.021962862\n",
       "ReturnOct    0.142977229 -0.08732427 -0.011923758  0.048540025  0.017166728\n",
       "ReturnNov    0.067632333 -0.15465828  0.037323535  0.031761837  0.048046590\n",
       "PositiveDec  0.004728518 -0.03817318  0.022408661  0.094353528  0.058201934\n",
       "            ReturnJune  ReturnJuly    ReturnAug     ReturnSep     ReturnOct  \n",
       "ReturnJan    0.09223831 -0.0814297650 -0.0227920187 -0.0264371526  0.14297723\n",
       "ReturnFeb    0.16999448 -0.0617785094  0.1315597863  0.0435017706 -0.08732427\n",
       "ReturnMar   -0.08590549  0.0033741597 -0.0220053995  0.0765183267 -0.01192376\n",
       "ReturnApr   -0.01102775  0.0806319317 -0.0517560510 -0.0289209718  0.04854003\n",
       "ReturnMay   -0.02107454  0.0908502642 -0.0331256580  0.0219628623  0.01716673\n",
       "ReturnJune   1.00000000 -0.0291525996  0.0107105260  0.0447472692 -0.02263599\n",
       "ReturnJuly  -0.02915260  1.0000000000  0.0007137558  0.0689478037 -0.05470891\n",
       "ReturnAug    0.01071053  0.0007137558  1.0000000000  0.0007407139 -0.07559456\n",
       "ReturnSep    0.04474727  0.0689478037  0.0007407139  1.0000000000 -0.05807924\n",
       "ReturnOct   -0.02263599 -0.0547089088 -0.0755945614 -0.0580792362  1.00000000\n",
       "ReturnNov   -0.06527054 -0.0483738369 -0.1164890345 -0.0197197998  0.19167279\n",
       "PositiveDec  0.02340975  0.0743642097  0.0041669657  0.0416302863 -0.05257496\n",
       "            ReturnNov   PositiveDec \n",
       "ReturnJan    0.06763233  0.004728518\n",
       "ReturnFeb   -0.15465828 -0.038173184\n",
       "ReturnMar    0.03732353  0.022408661\n",
       "ReturnApr    0.03176184  0.094353528\n",
       "ReturnMay    0.04804659  0.058201934\n",
       "ReturnJune  -0.06527054  0.023409745\n",
       "ReturnJuly  -0.04837384  0.074364210\n",
       "ReturnAug   -0.11648903  0.004166966\n",
       "ReturnSep   -0.01971980  0.041630286\n",
       "ReturnOct    0.19167279 -0.052574956\n",
       "ReturnNov    1.00000000 -0.062346556\n",
       "PositiveDec -0.06234656  1.000000000"
      ]
     },
     "metadata": {},
     "output_type": "display_data"
    }
   ],
   "source": [
    "cor(stocks)"
   ]
  },
  {
   "cell_type": "code",
   "execution_count": 5,
   "metadata": {},
   "outputs": [],
   "source": [
    "library(caTools)\n",
    "set.seed(144)\n",
    "spl = sample.split(stocks$PositiveDec, SplitRatio = 0.7)\n",
    "stocksTrain = subset(stocks, spl == TRUE)\n",
    "stocksTest = subset(stocks, spl == FALSE)"
   ]
  },
  {
   "cell_type": "code",
   "execution_count": 6,
   "metadata": {},
   "outputs": [],
   "source": [
    "StocksModel = glm(PositiveDec ~ ., data = stocksTrain, family = binomial)"
   ]
  },
  {
   "cell_type": "code",
   "execution_count": 7,
   "metadata": {},
   "outputs": [
    {
     "data": {
      "text/plain": [
       "   \n",
       "    FALSE TRUE\n",
       "  0   990 2689\n",
       "  1   787 3640"
      ]
     },
     "metadata": {},
     "output_type": "display_data"
    }
   ],
   "source": [
    "table(stocksTrain$PositiveDec, predict(StocksModel, type = \"response\") > 0.5)"
   ]
  },
  {
   "cell_type": "code",
   "execution_count": 8,
   "metadata": {},
   "outputs": [
    {
     "data": {
      "text/html": [
       "0.571181840611892"
      ],
      "text/latex": [
       "0.571181840611892"
      ],
      "text/markdown": [
       "0.571181840611892"
      ],
      "text/plain": [
       "[1] 0.5711818"
      ]
     },
     "metadata": {},
     "output_type": "display_data"
    }
   ],
   "source": [
    "(990 + 3640) / nrow(stocksTrain)"
   ]
  },
  {
   "cell_type": "code",
   "execution_count": 9,
   "metadata": {},
   "outputs": [
    {
     "data": {
      "text/plain": [
       "   \n",
       "    FALSE TRUE\n",
       "  0   417 1160\n",
       "  1   344 1553"
      ]
     },
     "metadata": {},
     "output_type": "display_data"
    }
   ],
   "source": [
    "table(stocksTest$PositiveDec, predict(StocksModel, newdata = stocksTest, type = \"response\") > 0.5)"
   ]
  },
  {
   "cell_type": "code",
   "execution_count": 10,
   "metadata": {},
   "outputs": [
    {
     "data": {
      "text/html": [
       "0.567069660333909"
      ],
      "text/latex": [
       "0.567069660333909"
      ],
      "text/markdown": [
       "0.567069660333909"
      ],
      "text/plain": [
       "[1] 0.5670697"
      ]
     },
     "metadata": {},
     "output_type": "display_data"
    }
   ],
   "source": [
    "(417 + 1553) / nrow(stocksTest)"
   ]
  },
  {
   "cell_type": "code",
   "execution_count": 11,
   "metadata": {},
   "outputs": [
    {
     "data": {
      "text/plain": [
       "\n",
       "   0    1 \n",
       "1577 1897 "
      ]
     },
     "metadata": {},
     "output_type": "display_data"
    }
   ],
   "source": [
    "table(stocksTest$PositiveDec)"
   ]
  },
  {
   "cell_type": "code",
   "execution_count": 12,
   "metadata": {},
   "outputs": [
    {
     "data": {
      "text/html": [
       "0.546056419113414"
      ],
      "text/latex": [
       "0.546056419113414"
      ],
      "text/markdown": [
       "0.546056419113414"
      ],
      "text/plain": [
       "[1] 0.5460564"
      ]
     },
     "metadata": {},
     "output_type": "display_data"
    }
   ],
   "source": [
    "1897 / nrow(stocksTest)"
   ]
  },
  {
   "cell_type": "code",
   "execution_count": 13,
   "metadata": {},
   "outputs": [],
   "source": [
    "limitedTrain = stocksTrain\n",
    "limitedTrain$PositiveDec = NULL\n",
    "limitedTest = stocksTest\n",
    "limitedTest$PositiveDec = NULL"
   ]
  },
  {
   "cell_type": "code",
   "execution_count": 14,
   "metadata": {},
   "outputs": [
    {
     "name": "stderr",
     "output_type": "stream",
     "text": [
      "Loading required package: lattice\n",
      "Loading required package: ggplot2\n",
      "Warning message:\n",
      "“replacing previous import by ‘plyr::ddply’ when loading ‘caret’”Warning message:\n",
      "“replacing previous import by ‘tibble::as_tibble’ when loading ‘broom’”Warning message:\n",
      "“replacing previous import by ‘tibble::tibble’ when loading ‘broom’”Warning message:\n",
      "“replacing previous import by ‘rlang::!!’ when loading ‘recipes’”Warning message:\n",
      "“replacing previous import by ‘rlang::expr’ when loading ‘recipes’”Warning message:\n",
      "“replacing previous import by ‘rlang::f_lhs’ when loading ‘recipes’”Warning message:\n",
      "“replacing previous import by ‘rlang::f_rhs’ when loading ‘recipes’”Warning message:\n",
      "“replacing previous import by ‘rlang::invoke’ when loading ‘recipes’”Warning message:\n",
      "“replacing previous import by ‘rlang::is_empty’ when loading ‘recipes’”Warning message:\n",
      "“replacing previous import by ‘rlang::lang’ when loading ‘recipes’”Warning message:\n",
      "“replacing previous import by ‘rlang::na_dbl’ when loading ‘recipes’”Warning message:\n",
      "“replacing previous import by ‘rlang::names2’ when loading ‘recipes’”Warning message:\n",
      "“replacing previous import by ‘rlang::quos’ when loading ‘recipes’”Warning message:\n",
      "“replacing previous import by ‘rlang::sym’ when loading ‘recipes’”Warning message:\n",
      "“replacing previous import by ‘rlang::syms’ when loading ‘recipes’”"
     ]
    },
    {
     "data": {
      "text/plain": [
       "   ReturnJan          ReturnFeb          ReturnMar          ReturnApr      \n",
       " Min.   :-4.57682   Min.   :-3.43004   Min.   :-4.54609   Min.   :-5.0227  \n",
       " 1st Qu.:-0.48271   1st Qu.:-0.35589   1st Qu.:-0.40758   1st Qu.:-0.4757  \n",
       " Median :-0.07055   Median :-0.01875   Median :-0.05778   Median :-0.1104  \n",
       " Mean   : 0.00000   Mean   : 0.00000   Mean   : 0.00000   Mean   : 0.0000  \n",
       " 3rd Qu.: 0.35898   3rd Qu.: 0.25337   3rd Qu.: 0.36106   3rd Qu.: 0.3400  \n",
       " Max.   :18.06234   Max.   :34.92751   Max.   :24.77296   Max.   :14.6959  \n",
       "   ReturnMay          ReturnJune         ReturnJuly         ReturnAug       \n",
       " Min.   :-4.96759   Min.   :-4.82957   Min.   :-5.19139   Min.   :-5.60378  \n",
       " 1st Qu.:-0.43045   1st Qu.:-0.45602   1st Qu.:-0.51832   1st Qu.:-0.47163  \n",
       " Median :-0.06983   Median :-0.04354   Median :-0.02372   Median :-0.07393  \n",
       " Mean   : 0.00000   Mean   : 0.00000   Mean   : 0.00000   Mean   : 0.00000  \n",
       " 3rd Qu.: 0.35906   3rd Qu.: 0.37273   3rd Qu.: 0.47735   3rd Qu.: 0.39967  \n",
       " Max.   :42.69158   Max.   :10.84515   Max.   :17.33975   Max.   :27.14273  \n",
       "   ReturnSep          ReturnOct          ReturnNov       \n",
       " Min.   :-5.47078   Min.   :-3.53719   Min.   :-4.31684  \n",
       " 1st Qu.:-0.39604   1st Qu.:-0.42176   1st Qu.:-0.43564  \n",
       " Median : 0.04767   Median :-0.01891   Median :-0.01878  \n",
       " Mean   : 0.00000   Mean   : 0.00000   Mean   : 0.00000  \n",
       " 3rd Qu.: 0.42287   3rd Qu.: 0.37451   3rd Qu.: 0.42560  \n",
       " Max.   :39.05435   Max.   :31.25996   Max.   :17.18255  "
      ]
     },
     "metadata": {},
     "output_type": "display_data"
    },
    {
     "data": {
      "text/plain": [
       "   ReturnJan           ReturnFeb           ReturnMar          ReturnApr       \n",
       " Min.   :-3.743836   Min.   :-3.251044   Min.   :-4.07731   Min.   :-4.47865  \n",
       " 1st Qu.:-0.485690   1st Qu.:-0.348951   1st Qu.:-0.40662   1st Qu.:-0.51121  \n",
       " Median :-0.066856   Median :-0.006860   Median :-0.05674   Median :-0.11414  \n",
       " Mean   :-0.000419   Mean   :-0.003862   Mean   : 0.00583   Mean   :-0.03638  \n",
       " 3rd Qu.: 0.357729   3rd Qu.: 0.264647   3rd Qu.: 0.35653   3rd Qu.: 0.32742  \n",
       " Max.   : 8.412973   Max.   : 9.552365   Max.   : 9.00982   Max.   : 6.84589  \n",
       "   ReturnMay          ReturnJune         ReturnJuly          ReturnAug       \n",
       " Min.   :-5.84445   Min.   :-4.73628   Min.   :-5.201454   Min.   :-4.62097  \n",
       " 1st Qu.:-0.43819   1st Qu.:-0.44968   1st Qu.:-0.512039   1st Qu.:-0.51546  \n",
       " Median :-0.05346   Median :-0.02678   Median :-0.026576   Median :-0.10277  \n",
       " Mean   : 0.02651   Mean   : 0.04315   Mean   : 0.006016   Mean   :-0.04973  \n",
       " 3rd Qu.: 0.42290   3rd Qu.: 0.43010   3rd Qu.: 0.457193   3rd Qu.: 0.38781  \n",
       " Max.   : 7.21362   Max.   :29.00534   Max.   :12.790901   Max.   : 6.66889  \n",
       "   ReturnSep          ReturnOct           ReturnNov        \n",
       " Min.   :-3.57222   Min.   :-3.807577   Min.   :-4.881463  \n",
       " 1st Qu.:-0.38067   1st Qu.:-0.393856   1st Qu.:-0.396764  \n",
       " Median : 0.08215   Median : 0.006783   Median :-0.002337  \n",
       " Mean   : 0.02939   Mean   : 0.029672   Mean   : 0.017128  \n",
       " 3rd Qu.: 0.45847   3rd Qu.: 0.419005   3rd Qu.: 0.424617  \n",
       " Max.   : 7.09106   Max.   : 7.428466   Max.   :21.007786  "
      ]
     },
     "metadata": {},
     "output_type": "display_data"
    }
   ],
   "source": [
    "library(caret)\n",
    "preproc = preProcess(limitedTrain)\n",
    "normTrain = predict(preproc, limitedTrain)\n",
    "normTest = predict(preproc, limitedTest)\n",
    "summary(normTrain)\n",
    "summary(normTest)"
   ]
  },
  {
   "cell_type": "code",
   "execution_count": 15,
   "metadata": {},
   "outputs": [
    {
     "data": {
      "text/plain": [
       "\n",
       "   1    2    3 \n",
       "3157 4696  253 "
      ]
     },
     "metadata": {},
     "output_type": "display_data"
    }
   ],
   "source": [
    "set.seed(144)\n",
    "km = kmeans(normTrain, centers = 3)\n",
    "table(km$cluster)"
   ]
  },
  {
   "cell_type": "code",
   "execution_count": 16,
   "metadata": {},
   "outputs": [
    {
     "name": "stderr",
     "output_type": "stream",
     "text": [
      "Loading required package: grid\n",
      "Loading required package: modeltools\n",
      "Loading required package: stats4\n",
      "Found more than one class \"kcca\" in cache; using the first, from namespace 'kernlab'\n",
      "Found more than one class \"kcca\" in cache; using the first, from namespace 'kernlab'\n",
      "Found more than one class \"kcca\" in cache; using the first, from namespace 'kernlab'\n"
     ]
    }
   ],
   "source": [
    "library(flexclust)\n",
    "km.kcca = as.kcca(km, normTrain)\n",
    "clusterTrain = predict(km.kcca)\n",
    "clusterTest = predict(km.kcca, newdata=normTest)"
   ]
  },
  {
   "cell_type": "code",
   "execution_count": 17,
   "metadata": {},
   "outputs": [
    {
     "data": {
      "text/plain": [
       "clusterTest\n",
       "   1    2    3 \n",
       "1298 2080   96 "
      ]
     },
     "metadata": {},
     "output_type": "display_data"
    }
   ],
   "source": [
    "table(clusterTest)"
   ]
  },
  {
   "cell_type": "code",
   "execution_count": 18,
   "metadata": {},
   "outputs": [],
   "source": [
    "stocksTrain1 = subset(stocksTrain, clusterTrain == 1)\n",
    "stocksTrain2 = subset(stocksTrain, clusterTrain == 2)\n",
    "stocksTrain3 = subset(stocksTrain, clusterTrain == 3)\n",
    "\n",
    "stocksTest1 = subset(stocksTest, clusterTest == 1)\n",
    "stocksTest2 = subset(stocksTest, clusterTest == 2)\n",
    "stocksTest3 = subset(stocksTest, clusterTest == 3)"
   ]
  },
  {
   "cell_type": "code",
   "execution_count": 19,
   "metadata": {},
   "outputs": [
    {
     "data": {
      "text/html": [
       "0.602470700031676"
      ],
      "text/latex": [
       "0.602470700031676"
      ],
      "text/markdown": [
       "0.602470700031676"
      ],
      "text/plain": [
       "[1] 0.6024707"
      ]
     },
     "metadata": {},
     "output_type": "display_data"
    },
    {
     "data": {
      "text/html": [
       "0.514054514480409"
      ],
      "text/latex": [
       "0.514054514480409"
      ],
      "text/markdown": [
       "0.514054514480409"
      ],
      "text/plain": [
       "[1] 0.5140545"
      ]
     },
     "metadata": {},
     "output_type": "display_data"
    },
    {
     "data": {
      "text/html": [
       "0.438735177865613"
      ],
      "text/latex": [
       "0.438735177865613"
      ],
      "text/markdown": [
       "0.438735177865613"
      ],
      "text/plain": [
       "[1] 0.4387352"
      ]
     },
     "metadata": {},
     "output_type": "display_data"
    }
   ],
   "source": [
    "mean(stocksTrain1$PositiveDec)\n",
    "mean(stocksTrain2$PositiveDec)\n",
    "mean(stocksTrain3$PositiveDec)"
   ]
  },
  {
   "cell_type": "code",
   "execution_count": 20,
   "metadata": {},
   "outputs": [
    {
     "data": {
      "text/plain": [
       "\n",
       "Call:  glm(formula = PositiveDec ~ ., family = binomial, data = stocksTrain1)\n",
       "\n",
       "Coefficients:\n",
       "(Intercept)    ReturnJan    ReturnFeb    ReturnMar    ReturnApr    ReturnMay  \n",
       "    0.17224      0.02498     -0.37207      0.59555      1.19048      0.30421  \n",
       " ReturnJune   ReturnJuly    ReturnAug    ReturnSep    ReturnOct    ReturnNov  \n",
       "   -0.01165      0.19769      0.51273      0.58833     -1.02254     -0.74847  \n",
       "\n",
       "Degrees of Freedom: 3156 Total (i.e. Null);  3145 Residual\n",
       "Null Deviance:\t    4243 \n",
       "Residual Deviance: 4173 \tAIC: 4197"
      ]
     },
     "metadata": {},
     "output_type": "display_data"
    },
    {
     "data": {
      "text/plain": [
       "\n",
       "Call:  glm(formula = PositiveDec ~ ., family = binomial, data = stocksTrain2)\n",
       "\n",
       "Coefficients:\n",
       "(Intercept)    ReturnJan    ReturnFeb    ReturnMar    ReturnApr    ReturnMay  \n",
       "     0.1029       0.8845       0.3176      -0.3798       0.4929       0.8965  \n",
       " ReturnJune   ReturnJuly    ReturnAug    ReturnSep    ReturnOct    ReturnNov  \n",
       "     1.5009       0.7831      -0.2449       0.7369      -0.2776      -0.7875  \n",
       "\n",
       "Degrees of Freedom: 4695 Total (i.e. Null);  4684 Residual\n",
       "Null Deviance:\t    6506 \n",
       "Residual Deviance: 6362 \tAIC: 6386"
      ]
     },
     "metadata": {},
     "output_type": "display_data"
    },
    {
     "data": {
      "text/plain": [
       "\n",
       "Call:  glm(formula = PositiveDec ~ ., family = binomial, data = stocksTrain3)\n",
       "\n",
       "Coefficients:\n",
       "(Intercept)    ReturnJan    ReturnFeb    ReturnMar    ReturnApr    ReturnMay  \n",
       "  -0.181896    -0.009789    -0.046883     0.674179     1.281466     0.762512  \n",
       " ReturnJune   ReturnJuly    ReturnAug    ReturnSep    ReturnOct    ReturnNov  \n",
       "   0.329434     0.774164     0.982605     0.363807     0.782242    -0.873752  \n",
       "\n",
       "Degrees of Freedom: 252 Total (i.e. Null);  241 Residual\n",
       "Null Deviance:\t    346.9 \n",
       "Residual Deviance: 328.3 \tAIC: 352.3"
      ]
     },
     "metadata": {},
     "output_type": "display_data"
    }
   ],
   "source": [
    "StocksModel1 = glm(PositiveDec ~ ., data = stocksTrain1, family = binomial)\n",
    "StocksModel2 = glm(PositiveDec ~ ., data = stocksTrain2, family = binomial)\n",
    "StocksModel3 = glm(PositiveDec ~ ., data = stocksTrain3, family = binomial)\n",
    "StocksModel1\n",
    "StocksModel2\n",
    "StocksModel3"
   ]
  },
  {
   "cell_type": "code",
   "execution_count": 21,
   "metadata": {},
   "outputs": [
    {
     "data": {
      "text/plain": [
       "       \n",
       "          0   1\n",
       "  FALSE  30  23\n",
       "  TRUE  471 774"
      ]
     },
     "metadata": {},
     "output_type": "display_data"
    },
    {
     "data": {
      "text/plain": [
       "       \n",
       "          0   1\n",
       "  FALSE 388 309\n",
       "  TRUE  626 757"
      ]
     },
     "metadata": {},
     "output_type": "display_data"
    },
    {
     "data": {
      "text/plain": [
       "       \n",
       "         0  1\n",
       "  FALSE 49 21\n",
       "  TRUE  13 13"
      ]
     },
     "metadata": {},
     "output_type": "display_data"
    }
   ],
   "source": [
    "PredictTest1 = predict(StocksModel1, newdata = stocksTest1, type = \"response\")\n",
    "PredictTest2 = predict(StocksModel2, newdata = stocksTest2, type = \"response\")\n",
    "PredictTest3 = predict(StocksModel3, newdata = stocksTest3, type = \"response\")\n",
    "table(PredictTest1 > .5, stocksTest1$PositiveDec)\n",
    "table(PredictTest2 > .5, stocksTest2$PositiveDec)\n",
    "table(PredictTest3 > .5, stocksTest3$PositiveDec)"
   ]
  },
  {
   "cell_type": "code",
   "execution_count": 22,
   "metadata": {},
   "outputs": [
    {
     "data": {
      "text/html": [
       "0.619414483821264"
      ],
      "text/latex": [
       "0.619414483821264"
      ],
      "text/markdown": [
       "0.619414483821264"
      ],
      "text/plain": [
       "[1] 0.6194145"
      ]
     },
     "metadata": {},
     "output_type": "display_data"
    },
    {
     "data": {
      "text/html": [
       "0.550480769230769"
      ],
      "text/latex": [
       "0.550480769230769"
      ],
      "text/markdown": [
       "0.550480769230769"
      ],
      "text/plain": [
       "[1] 0.5504808"
      ]
     },
     "metadata": {},
     "output_type": "display_data"
    },
    {
     "data": {
      "text/html": [
       "0.645833333333333"
      ],
      "text/latex": [
       "0.645833333333333"
      ],
      "text/markdown": [
       "0.645833333333333"
      ],
      "text/plain": [
       "[1] 0.6458333"
      ]
     },
     "metadata": {},
     "output_type": "display_data"
    }
   ],
   "source": [
    "(30 + 774) / nrow(stocksTest1)\n",
    "(388 + 757) / nrow(stocksTest2)\n",
    "(49 + 13) / nrow(stocksTest3)"
   ]
  },
  {
   "cell_type": "code",
   "execution_count": 23,
   "metadata": {},
   "outputs": [
    {
     "data": {
      "text/plain": [
       "       AllOutcomes\n",
       "           0    1\n",
       "  FALSE  467  353\n",
       "  TRUE  1110 1544"
      ]
     },
     "metadata": {},
     "output_type": "display_data"
    }
   ],
   "source": [
    "AllPredictions = c(PredictTest1, PredictTest2, PredictTest3)\n",
    "AllOutcomes = c(stocksTest1$PositiveDec, stocksTest2$PositiveDec, stocksTest3$PositiveDec)\n",
    "table(AllPredictions > .5, AllOutcomes)"
   ]
  },
  {
   "cell_type": "code",
   "execution_count": 24,
   "metadata": {},
   "outputs": [
    {
     "data": {
      "text/html": [
       "0.578871617731721"
      ],
      "text/latex": [
       "0.578871617731721"
      ],
      "text/markdown": [
       "0.578871617731721"
      ],
      "text/plain": [
       "[1] 0.5788716"
      ]
     },
     "metadata": {},
     "output_type": "display_data"
    }
   ],
   "source": [
    "(467 + 1544) / length(AllPredictions) "
   ]
  },
  {
   "cell_type": "code",
   "execution_count": null,
   "metadata": {},
   "outputs": [],
   "source": []
  }
 ],
 "metadata": {
  "kernelspec": {
   "display_name": "R",
   "language": "R",
   "name": "ir"
  },
  "language_info": {
   "codemirror_mode": "r",
   "file_extension": ".r",
   "mimetype": "text/x-r-source",
   "name": "R",
   "pygments_lexer": "r",
   "version": "3.4.4"
  }
 },
 "nbformat": 4,
 "nbformat_minor": 2
}
